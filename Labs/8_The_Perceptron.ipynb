{
  "nbformat": 4,
  "nbformat_minor": 0,
  "metadata": {
    "anaconda-cloud": {},
    "celltoolbar": "Slideshow",
    "kernelspec": {
      "display_name": "Python 3",
      "language": "python",
      "name": "python3"
    },
    "language_info": {
      "codemirror_mode": {
        "name": "ipython",
        "version": 3
      },
      "file_extension": ".py",
      "mimetype": "text/x-python",
      "name": "python",
      "nbconvert_exporter": "python",
      "pygments_lexer": "ipython3",
      "version": "3.8.3"
    },
    "nbpresent": {
      "slides": {
        "3e606cca-ddab-4b87-8295-f1cca7962a9d": {
          "id": "3e606cca-ddab-4b87-8295-f1cca7962a9d",
          "prev": "8921ba99-3b08-4f47-affd-b6f8fadaa8cd",
          "regions": {
            "cb08d0e1-9b2e-4940-95dc-76a8f9e75b03": {
              "attrs": {
                "height": 0.8,
                "width": 0.8,
                "x": 0.1,
                "y": 0.1
              },
              "content": {
                "cell": "67ca55d4-28b9-410e-9921-08d943aa3151",
                "part": "whole"
              },
              "id": "cb08d0e1-9b2e-4940-95dc-76a8f9e75b03"
            }
          }
        },
        "8921ba99-3b08-4f47-affd-b6f8fadaa8cd": {
          "id": "8921ba99-3b08-4f47-affd-b6f8fadaa8cd",
          "prev": null,
          "regions": {
            "48e51b5b-c219-4946-bad8-4b170ff7da1b": {
              "attrs": {
                "height": 0.8,
                "width": 0.8,
                "x": 0.1,
                "y": 0.1
              },
              "content": {
                "cell": "ad90604f-afeb-4baa-b940-c3a1f3de8891",
                "part": "whole"
              },
              "id": "48e51b5b-c219-4946-bad8-4b170ff7da1b"
            }
          }
        }
      },
      "themes": {}
    },
    "colab": {
      "name": "8_The_Perceptron.ipynb",
      "provenance": []
    }
  },
  "cells": [
    {
      "cell_type": "markdown",
      "metadata": {
        "nbpresent": {
          "id": "ad90604f-afeb-4baa-b940-c3a1f3de8891"
        },
        "id": "73Hc-kE_dGmU"
      },
      "source": [
        "# The Perceptron\n",
        "is the building-block of a Neural Network."
      ]
    },
    {
      "cell_type": "code",
      "metadata": {
        "id": "ZT-_mJ05dGmU"
      },
      "source": [
        "%matplotlib inline\n",
        "import numpy as np\n",
        "import matplotlib.pyplot as plt\n",
        "import seaborn as sbs\n",
        "import pandas as pd\n",
        "from sklearn.metrics import accuracy_score\n",
        "sbs.set_context('notebook')\n",
        "\n",
        "#activation functions:\n",
        "def sigmoid(x):\n",
        "    '''\n",
        "    ranges from  0 to 1\n",
        "    '''\n",
        "    return 1 / (1 + np.exp(-x))\n",
        "\n",
        "def relu(x):\n",
        "    '''\n",
        "    ranges from  0 to 1\n",
        "    '''\n",
        "    return np.where(x > 0, x, 0)"
      ],
      "execution_count": 43,
      "outputs": []
    },
    {
      "cell_type": "code",
      "metadata": {
        "id": "ILDpSVU_dGmZ"
      },
      "source": [
        "class Perceptron:\n",
        "    def __init__(self, num_inputs):\n",
        "        self.w1 = np.random.random(num_inputs) #weights matrix\n",
        "        self.b1 = 1 #bias\n",
        "        #in this case, single layer perceptron, one weight matrix and one bias term\n",
        "    \n",
        "    def predict(self, X):\n",
        "        # compute activation for input layer\n",
        "        activation = np.dot(X, self.w1) + self.b1\n",
        "        # non-linear transform\n",
        "        fX = sigmoid(activation)\n",
        "        # check threshold: for sigmoid and relu, use 0.5, for tanh, use 0\n",
        "        y = np.where(fX >= 0.5, 1, -1)\n",
        "        return y\n",
        "    \n",
        "    def fit(self, train_data, train_labels, num_epochs=20):\n",
        "        models = []\n",
        "        print(\"N. epochs\",num_epochs)\n",
        "        for epoch in range(1, num_epochs+1):\n",
        "            print(\"Epoch:\",epoch)\n",
        "            for (X, y) in zip(train_data, train_labels):\n",
        "                pred_label = self.predict(X)\n",
        "\n",
        "                if pred_label != y:\n",
        "                    print('update')\n",
        "                    self.w1 = self.w1 + (X * y)\n",
        "                    self.b1 = self.b1 + y\n",
        "\n",
        "            models.append((self.w1, self.b1))\n",
        "\n",
        "        return models"
      ],
      "execution_count": 44,
      "outputs": []
    },
    {
      "cell_type": "code",
      "metadata": {
        "id": "DXYDIQnpdGmb",
        "colab": {
          "base_uri": "https://localhost:8080/"
        },
        "outputId": "a6c7e620-7103-4df9-8b1d-444e73de1b2d"
      },
      "source": [
        "# AND perceptron\n",
        "perceptron = Perceptron(2)\n",
        "\n",
        "and_data = np.array([[1, 1], [1, 0], [0, 1], [0, 0]])\n",
        "and_labels = np.array([1, -1, -1, -1], dtype=np.int)\n",
        "\n",
        "iters = perceptron.fit(and_data, and_labels, num_epochs=10)\n",
        "and_predictions = perceptron.predict(and_data)\n",
        "\n",
        "print(and_predictions)\n",
        "\n",
        "print(\"Accuracy\",accuracy_score(and_labels, and_predictions))\n",
        "print()\n",
        "print(\"Iterations:\")\n",
        "print(iters)"
      ],
      "execution_count": 45,
      "outputs": [
        {
          "output_type": "stream",
          "text": [
            "N. epochs 10\n",
            "Epoch: 1\n",
            "update\n",
            "update\n",
            "Epoch: 2\n",
            "update\n",
            "update\n",
            "Epoch: 3\n",
            "update\n",
            "update\n",
            "update\n",
            "Epoch: 4\n",
            "update\n",
            "update\n",
            "Epoch: 5\n",
            "update\n",
            "update\n",
            "Epoch: 6\n",
            "Epoch: 7\n",
            "Epoch: 8\n",
            "Epoch: 9\n",
            "Epoch: 10\n",
            "[ 1 -1 -1 -1]\n",
            "Accuracy 1.0\n",
            "\n",
            "Iterations:\n",
            "[(array([-0.097424  , -0.76658693]), -1), (array([-0.097424  ,  0.23341307]), -1), (array([-0.097424  ,  0.23341307]), -2), (array([0.902576  , 0.23341307]), -2), (array([0.902576  , 1.23341307]), -2), (array([0.902576  , 1.23341307]), -2), (array([0.902576  , 1.23341307]), -2), (array([0.902576  , 1.23341307]), -2), (array([0.902576  , 1.23341307]), -2), (array([0.902576  , 1.23341307]), -2)]\n"
          ],
          "name": "stdout"
        }
      ]
    },
    {
      "cell_type": "markdown",
      "metadata": {
        "id": "s_gni7mTdGmg"
      },
      "source": [
        "## Exercise\n",
        "\n",
        "Create OR data and rerun the perceptron"
      ]
    },
    {
      "cell_type": "code",
      "metadata": {
        "id": "ruF3cALZdGmi",
        "colab": {
          "base_uri": "https://localhost:8080/"
        },
        "outputId": "d470d627-c623-4b0f-b2b0-c6e16899a17b"
      },
      "source": [
        "# OR perceptron\n",
        "perceptron = Perceptron(2)\n",
        "\n",
        "or_data = np.array([[1, 1], [1, 0], [0, 1], [0, 0]])\n",
        "or_labels = np.array([1, 1, 1, -1], dtype=np.int)\n",
        "\n",
        "iters = perceptron.fit(or_data, or_labels, num_epochs=10)\n",
        "or_predictions = perceptron.predict(or_data)\n",
        "\n",
        "print(or_predictions)\n",
        "\n",
        "print(\"Accuracy\",accuracy_score(or_labels, or_predictions))\n",
        "print()\n",
        "print(\"Iterations:\")\n",
        "print(iters)"
      ],
      "execution_count": 46,
      "outputs": [
        {
          "output_type": "stream",
          "text": [
            "N. epochs 10\n",
            "Epoch: 1\n",
            "update\n",
            "Epoch: 2\n",
            "update\n",
            "Epoch: 3\n",
            "update\n",
            "update\n",
            "Epoch: 4\n",
            "Epoch: 5\n",
            "Epoch: 6\n",
            "Epoch: 7\n",
            "Epoch: 8\n",
            "Epoch: 9\n",
            "Epoch: 10\n",
            "[ 1  1  1 -1]\n",
            "Accuracy 1.0\n",
            "\n",
            "Iterations:\n",
            "[(array([0.36094251, 0.38759851]), 0), (array([0.36094251, 0.38759851]), -1), (array([1.36094251, 1.38759851]), -1), (array([1.36094251, 1.38759851]), -1), (array([1.36094251, 1.38759851]), -1), (array([1.36094251, 1.38759851]), -1), (array([1.36094251, 1.38759851]), -1), (array([1.36094251, 1.38759851]), -1), (array([1.36094251, 1.38759851]), -1), (array([1.36094251, 1.38759851]), -1)]\n"
          ],
          "name": "stdout"
        }
      ]
    },
    {
      "cell_type": "markdown",
      "metadata": {
        "id": "PhRozQCedGmn"
      },
      "source": [
        "But what about the XOR?"
      ]
    },
    {
      "cell_type": "code",
      "metadata": {
        "id": "dWD_FJaZdGmn",
        "colab": {
          "base_uri": "https://localhost:8080/"
        },
        "outputId": "7422db98-1ea3-47b8-d06f-6b4e01b7fe3c"
      },
      "source": [
        "# XOR perceptron\n",
        "perceptron = Perceptron(2)\n",
        " \n",
        "xor_data = np.array([[1, 1], [1, 0], [0, 1], [0, 0]])\n",
        "xor_labels = np.array([1, -1, -1, 1], dtype=np.int)\n",
        " \n",
        "iters = perceptron.fit(xor_data, xor_labels, num_epochs=10)\n",
        "xor_predictions = perceptron.predict(xor_data)\n",
        " \n",
        "print(xor_predictions)\n",
        " \n",
        "print(\"Accuracy\",accuracy_score(xor_labels, xor_predictions))\n",
        "print()\n",
        "print(\"Iterations:\")\n",
        "print(iters)"
      ],
      "execution_count": 47,
      "outputs": [
        {
          "output_type": "stream",
          "text": [
            "N. epochs 10\n",
            "Epoch: 1\n",
            "update\n",
            "update\n",
            "update\n",
            "Epoch: 2\n",
            "update\n",
            "update\n",
            "update\n",
            "update\n",
            "Epoch: 3\n",
            "update\n",
            "update\n",
            "update\n",
            "update\n",
            "Epoch: 4\n",
            "update\n",
            "update\n",
            "update\n",
            "update\n",
            "Epoch: 5\n",
            "update\n",
            "update\n",
            "update\n",
            "update\n",
            "Epoch: 6\n",
            "update\n",
            "update\n",
            "update\n",
            "update\n",
            "Epoch: 7\n",
            "update\n",
            "update\n",
            "update\n",
            "update\n",
            "Epoch: 8\n",
            "update\n",
            "update\n",
            "update\n",
            "update\n",
            "Epoch: 9\n",
            "update\n",
            "update\n",
            "update\n",
            "update\n",
            "Epoch: 10\n",
            "update\n",
            "update\n",
            "update\n",
            "update\n",
            "[-1 -1 -1  1]\n",
            "Accuracy 0.75\n",
            "\n",
            "Iterations:\n",
            "[(array([-0.45140192, -0.77770546]), 0), (array([-0.45140192, -0.77770546]), 0), (array([-0.45140192, -0.77770546]), 0), (array([-0.45140192, -0.77770546]), 0), (array([-0.45140192, -0.77770546]), 0), (array([-0.45140192, -0.77770546]), 0), (array([-0.45140192, -0.77770546]), 0), (array([-0.45140192, -0.77770546]), 0), (array([-0.45140192, -0.77770546]), 0), (array([-0.45140192, -0.77770546]), 0)]\n"
          ],
          "name": "stdout"
        }
      ]
    },
    {
      "cell_type": "markdown",
      "metadata": {
        "id": "bAbIRP8AdGmp"
      },
      "source": [
        "Perceptrons are **linear classifiers**. I.e., they can only find a perfect fit to **linearly seperable data**\n",
        "\n",
        "If only first order features are used"
      ]
    },
    {
      "cell_type": "markdown",
      "metadata": {
        "nbpresent": {
          "id": "67ca55d4-28b9-410e-9921-08d943aa3151"
        },
        "id": "DGBLHfmjdGmq"
      },
      "source": [
        "# Multilayer perceptron to the rescue!\n",
        "- Data that is distributed non-linearly (e.g. XOR) cannot be learned by perceptron\n",
        "- At least not without tedious feature engineering\n",
        "\n",
        "**Stacking several perceptrons increases expressive power!**\n",
        "\n",
        "- learning intermediate/partial representations at intermediate layers\n",
        "\n",
        "**Let's see how it works in `keras`**\n"
      ]
    },
    {
      "cell_type": "markdown",
      "metadata": {
        "id": "S5KnKFU8LAtC"
      },
      "source": [
        "<img src=\"https://s3.amazonaws.com/keras.io/img/keras-logo-2018-large-1200.png\" width=\"20%\" />\n",
        "\n",
        "## Keras: Deep Learning library for Theano and TensorFlow"
      ]
    },
    {
      "cell_type": "markdown",
      "metadata": {
        "id": "D0F3172rLAtE"
      },
      "source": [
        ">Keras is a minimalist, highly modular neural networks library, written in Python and capable of running on top of either TensorFlow or Theano. \n",
        "\n",
        ">It was developed with a focus on enabling fast experimentation. Being able to go from idea to result with the least possible delay is key to doing good research.\n",
        "ref: https://keras.io/"
      ]
    },
    {
      "cell_type": "code",
      "metadata": {
        "id": "Hls6HsrFdGmr"
      },
      "source": [
        "def gaussian_data(num, epsilon=1):\n",
        "    '''\n",
        "    generates a data set from two overlapping Gaussian point clouds\n",
        "    '''\n",
        "    x1_p1 = np.random.normal(1 + epsilon, size=num//2)\n",
        "    x2_p1 = np.random.normal(1, size=num//2)\n",
        "\n",
        "    x1_p2 = np.random.normal(-(1 + epsilon), size=num//2)\n",
        "    x2_p2 = np.random.normal(-(1 + epsilon), size=num//2)\n",
        "\n",
        "    x1 = np.concatenate([x1_p1, x1_p2])\n",
        "    x2 = np.concatenate([x2_p1, x2_p2])\n",
        "\n",
        "    labels = np.zeros((num, 2))\n",
        "    labels[:num//2, 0] = 1\n",
        "    labels[num//2:, 1] = 1\n",
        "    return x1, x2, labels\n",
        "\n",
        "def XOR_sample(sample_size, ratio=0.5, x1_p1_mean=25, x1_p2_mean=50, x2_p1_mean=5, x2_p2_mean=2, epsilon = 0.1):\n",
        "    size1 = int(sample_size * ratio)\n",
        "    size2 = sample_size - size1\n",
        "    \n",
        "    x1 = np.random.normal(loc=x1_p1_mean, size=size1//2)\n",
        "    x1 = np.hstack((x1, np.random.normal(loc=-x1_p1_mean, size=size1//2)))   \n",
        "    x1 = np.hstack((x1, np.random.normal(loc=x1_p2_mean, size=size2//2)))\n",
        "    x1 = np.hstack((x1, np.random.normal(loc=-x1_p2_mean, size=size2//2)))\n",
        "    \n",
        "    x2 = np.random.normal(loc=x2_p1_mean, size=size1//2)\n",
        "    x2 = np.hstack((x2, np.random.normal(loc=-x2_p1_mean, size=size1//2)))\n",
        "    x2 = np.hstack((x2, np.random.normal(loc=x2_p2_mean, size=size2//2)))\n",
        "    x2 = np.hstack((x2, np.random.normal(loc=-x2_p2_mean, size=size2//2)))\n",
        "    \n",
        "    labels = np.zeros((sample_size, 2))\n",
        "    labels[:sample_size//2, 0] = 1\n",
        "    labels[sample_size//2:, 1] = 1\n",
        "\n",
        "    return x1, x2, labels\n"
      ],
      "execution_count": 48,
      "outputs": []
    },
    {
      "cell_type": "code",
      "metadata": {
        "id": "eVQo3yvudGmt",
        "colab": {
          "base_uri": "https://localhost:8080/",
          "height": 285
        },
        "outputId": "11524927-f312-4e3a-8bee-574ca4f2b377"
      },
      "source": [
        "# let's get some data\n",
        "num_samples = 5000\n",
        "half = num_samples//2\n",
        "a,b,y = XOR_sample(num_samples)\n",
        "\n",
        "X = np.vstack((a,b)).T\n",
        "\n",
        "pd.DataFrame({'x1': a, 'x2': b}).plot.scatter(x='x1', y='x2', c=['red']*half + ['blue']*half);"
      ],
      "execution_count": 49,
      "outputs": [
        {
          "output_type": "display_data",
          "data": {
            "image/png": "[encoded data removed]",
            "text/plain": [
              "<Figure size 432x288 with 1 Axes>"
            ]
          },
          "metadata": {
            "tags": [],
            "needs_background": "light"
          }
        }
      ]
    },
    {
      "cell_type": "code",
      "metadata": {
        "colab": {
          "base_uri": "https://localhost:8080/"
        },
        "id": "VkFcbt9DP_6g",
        "outputId": "3bfd5a84-fef0-4c19-9111-76f6a9e1fa6b"
      },
      "source": [
        "X"
      ],
      "execution_count": 50,
      "outputs": [
        {
          "output_type": "execute_result",
          "data": {
            "text/plain": [
              "array([[ 24.47650233,   3.05609517],\n",
              "       [ 25.40845842,   4.31651567],\n",
              "       [ 24.74325199,   6.08305944],\n",
              "       ...,\n",
              "       [-51.13282834,  -3.31811764],\n",
              "       [-51.25580059,  -0.97124079],\n",
              "       [-51.74078198,  -1.59596739]])"
            ]
          },
          "metadata": {
            "tags": []
          },
          "execution_count": 50
        }
      ]
    },
    {
      "cell_type": "code",
      "metadata": {
        "colab": {
          "base_uri": "https://localhost:8080/"
        },
        "id": "7TfvxGLhQDry",
        "outputId": "cc41d971-a093-415a-e818-bc7a14b1fedf"
      },
      "source": [
        "X.shape"
      ],
      "execution_count": 51,
      "outputs": [
        {
          "output_type": "execute_result",
          "data": {
            "text/plain": [
              "(5000, 2)"
            ]
          },
          "metadata": {
            "tags": []
          },
          "execution_count": 51
        }
      ]
    },
    {
      "cell_type": "code",
      "metadata": {
        "colab": {
          "base_uri": "https://localhost:8080/"
        },
        "id": "vHWoe10DuA-u",
        "outputId": "3f9fbc3f-5adc-4ac7-feab-549f49fcc09e"
      },
      "source": [
        "y"
      ],
      "execution_count": 52,
      "outputs": [
        {
          "output_type": "execute_result",
          "data": {
            "text/plain": [
              "array([[1., 0.],\n",
              "       [1., 0.],\n",
              "       [1., 0.],\n",
              "       ...,\n",
              "       [0., 1.],\n",
              "       [0., 1.],\n",
              "       [0., 1.]])"
            ]
          },
          "metadata": {
            "tags": []
          },
          "execution_count": 52
        }
      ]
    },
    {
      "cell_type": "code",
      "metadata": {
        "colab": {
          "base_uri": "https://localhost:8080/"
        },
        "id": "a7cJ_LvvQPwO",
        "outputId": "1540c602-cf63-46af-bdd5-3302cd25a506"
      },
      "source": [
        "y.shape #2:two classes (red and blue)"
      ],
      "execution_count": 53,
      "outputs": [
        {
          "output_type": "execute_result",
          "data": {
            "text/plain": [
              "(5000, 2)"
            ]
          },
          "metadata": {
            "tags": []
          },
          "execution_count": 53
        }
      ]
    },
    {
      "cell_type": "code",
      "metadata": {
        "id": "wk_kF4cFdGmv"
      },
      "source": [
        "from keras.models import Model\n",
        "from keras.layers import Input, Dense\n",
        "\n",
        "# input: a sequence  of 2 integers\n",
        "main_input = Input(shape=(2, ), name='main_input')\n",
        "\n",
        "# add the output layer\n",
        "output = Dense(2, activation='hard_sigmoid', name='output', kernel_initializer='glorot_uniform')(main_input)\n",
        "\n",
        "# f(X) = sigmoid(X*W + b)\n",
        "\n",
        "# the model is specified by connecting input and output\n",
        "perceptron_keras = Model(inputs=[main_input], outputs=[output])"
      ],
      "execution_count": 54,
      "outputs": []
    },
    {
      "cell_type": "code",
      "metadata": {
        "id": "ZGAquco5dGmx",
        "colab": {
          "base_uri": "https://localhost:8080/"
        },
        "outputId": "a3651da7-1999-497a-c84a-fbfc214537c5"
      },
      "source": [
        "perceptron_keras.summary()"
      ],
      "execution_count": 55,
      "outputs": [
        {
          "output_type": "stream",
          "text": [
            "Model: \"model_4\"\n",
            "_________________________________________________________________\n",
            "Layer (type)                 Output Shape              Param #   \n",
            "=================================================================\n",
            "main_input (InputLayer)      [(None, 2)]               0         \n",
            "_________________________________________________________________\n",
            "output (Dense)               (None, 2)                 6         \n",
            "=================================================================\n",
            "Total params: 6\n",
            "Trainable params: 6\n",
            "Non-trainable params: 0\n",
            "_________________________________________________________________\n"
          ],
          "name": "stdout"
        }
      ]
    },
    {
      "cell_type": "code",
      "metadata": {
        "id": "kM6fjB4PdGmz",
        "colab": {
          "base_uri": "https://localhost:8080/"
        },
        "outputId": "a0e9fb57-5dd7-4723-ea53-944af587714e"
      },
      "source": [
        "from sklearn.metrics import f1_score\n",
        "#training\n",
        "perceptron_keras.compile(loss='binary_crossentropy',\n",
        "              optimizer='sgd',\n",
        "              metrics=['accuracy'])#-->to evaluate the model through the training\n",
        "\n",
        "history = perceptron_keras.fit(X, y,\n",
        "                    epochs=15,\n",
        "                    verbose=1,\n",
        "                    validation_split=0.2 # test data\n",
        "                )\n",
        "\n",
        "loss, accuracy = perceptron_keras.evaluate(X, y,\n",
        "                                           batch_size=20, \n",
        "                                           verbose=1)\n",
        "print('Test loss:', loss)\n",
        "print('Test accuracy:', accuracy)"
      ],
      "execution_count": 56,
      "outputs": [
        {
          "output_type": "stream",
          "text": [
            "Epoch 1/15\n",
            "125/125 [==============================] - 1s 3ms/step - loss: 5.9087 - accuracy: 0.6147 - val_loss: 15.3371 - val_accuracy: 0.0000e+00\n",
            "Epoch 2/15\n",
            "125/125 [==============================] - 0s 1ms/step - loss: 5.8167 - accuracy: 0.6207 - val_loss: 15.3371 - val_accuracy: 0.0000e+00\n",
            "Epoch 3/15\n",
            "125/125 [==============================] - 0s 1ms/step - loss: 5.8856 - accuracy: 0.6162 - val_loss: 15.3371 - val_accuracy: 0.0000e+00\n",
            "Epoch 4/15\n",
            "125/125 [==============================] - 0s 1ms/step - loss: 5.7705 - accuracy: 0.6238 - val_loss: 15.3371 - val_accuracy: 0.0000e+00\n",
            "Epoch 5/15\n",
            "125/125 [==============================] - 0s 2ms/step - loss: 5.7933 - accuracy: 0.6223 - val_loss: 15.3371 - val_accuracy: 0.0000e+00\n",
            "Epoch 6/15\n",
            "125/125 [==============================] - 0s 2ms/step - loss: 5.7424 - accuracy: 0.6256 - val_loss: 15.3371 - val_accuracy: 0.0000e+00\n",
            "Epoch 7/15\n",
            "125/125 [==============================] - 0s 2ms/step - loss: 5.7867 - accuracy: 0.6227 - val_loss: 15.3371 - val_accuracy: 0.0000e+00\n",
            "Epoch 8/15\n",
            "125/125 [==============================] - 0s 1ms/step - loss: 5.8862 - accuracy: 0.6162 - val_loss: 15.3371 - val_accuracy: 0.0000e+00\n",
            "Epoch 9/15\n",
            "125/125 [==============================] - 0s 2ms/step - loss: 5.6144 - accuracy: 0.6339 - val_loss: 15.3371 - val_accuracy: 0.0000e+00\n",
            "Epoch 10/15\n",
            "125/125 [==============================] - 0s 1ms/step - loss: 5.8080 - accuracy: 0.6213 - val_loss: 15.3371 - val_accuracy: 0.0000e+00\n",
            "Epoch 11/15\n",
            "125/125 [==============================] - 0s 2ms/step - loss: 5.9434 - accuracy: 0.6125 - val_loss: 15.3371 - val_accuracy: 0.0000e+00\n",
            "Epoch 12/15\n",
            "125/125 [==============================] - 0s 2ms/step - loss: 5.8243 - accuracy: 0.6203 - val_loss: 15.3371 - val_accuracy: 0.0000e+00\n",
            "Epoch 13/15\n",
            "125/125 [==============================] - 0s 1ms/step - loss: 5.8740 - accuracy: 0.6170 - val_loss: 15.3371 - val_accuracy: 0.0000e+00\n",
            "Epoch 14/15\n",
            "125/125 [==============================] - 0s 1ms/step - loss: 5.5444 - accuracy: 0.6385 - val_loss: 15.3371 - val_accuracy: 0.0000e+00\n",
            "Epoch 15/15\n",
            "125/125 [==============================] - 0s 2ms/step - loss: 5.6793 - accuracy: 0.6297 - val_loss: 15.3371 - val_accuracy: 0.0000e+00\n",
            "250/250 [==============================] - 0s 1ms/step - loss: 7.6686 - accuracy: 0.5000\n",
            "Test loss: 7.668552398681641\n",
            "Test accuracy: 0.5\n"
          ],
          "name": "stdout"
        }
      ]
    },
    {
      "cell_type": "code",
      "metadata": {
        "id": "jyvAGARxdGm2",
        "colab": {
          "base_uri": "https://localhost:8080/",
          "height": 288
        },
        "outputId": "0bfcfa33-1d87-45c8-8127-2896ec212d3d"
      },
      "source": [
        "pd.DataFrame(history.history).plot.line()"
      ],
      "execution_count": 57,
      "outputs": [
        {
          "output_type": "execute_result",
          "data": {
            "text/plain": [
              "<matplotlib.axes._subplots.AxesSubplot at 0x7ff2ca40a3d0>"
            ]
          },
          "metadata": {
            "tags": []
          },
          "execution_count": 57
        },
        {
          "output_type": "display_data",
          "data": {
            "image/png": "[encoded data removed]",
            "text/plain": [
              "<Figure size 432x288 with 1 Axes>"
            ]
          },
          "metadata": {
            "tags": [],
            "needs_background": "light"
          }
        }
      ]
    },
    {
      "cell_type": "code",
      "metadata": {
        "id": "qA2CpwwDdGm4",
        "colab": {
          "base_uri": "https://localhost:8080/"
        },
        "outputId": "e5c703cb-f307-446a-dcd9-233f4a4aa669"
      },
      "source": [
        "predictions = perceptron_keras.predict(X).argmax(axis=1)\n",
        "accuracy_score(y.argmax(axis=1), predictions)"
      ],
      "execution_count": 58,
      "outputs": [
        {
          "output_type": "execute_result",
          "data": {
            "text/plain": [
              "0.5"
            ]
          },
          "metadata": {
            "tags": []
          },
          "execution_count": 58
        }
      ]
    },
    {
      "cell_type": "code",
      "metadata": {
        "colab": {
          "base_uri": "https://localhost:8080/"
        },
        "id": "kEyG7Pvi7gpS",
        "outputId": "ef3c2c02-8a90-48d8-836c-84da41ef6b55"
      },
      "source": [
        "perceptron_keras.predict(X)"
      ],
      "execution_count": 75,
      "outputs": [
        {
          "output_type": "execute_result",
          "data": {
            "text/plain": [
              "array([[0., 1.],\n",
              "       [0., 1.],\n",
              "       [0., 1.],\n",
              "       ...,\n",
              "       [1., 0.],\n",
              "       [1., 0.],\n",
              "       [1., 0.]], dtype=float32)"
            ]
          },
          "metadata": {
            "tags": []
          },
          "execution_count": 75
        }
      ]
    },
    {
      "cell_type": "code",
      "metadata": {
        "id": "7tLLusKmdGm6",
        "colab": {
          "base_uri": "https://localhost:8080/",
          "height": 503
        },
        "outputId": "584744fd-21fa-4c46-f0b0-4d36f1c7bf69"
      },
      "source": [
        "def get_y(x, w1, w2, bias):\n",
        "    '''\n",
        "    compute y value for specific x, given the weights and bias\n",
        "    (helper function for decision boundary)\n",
        "    '''\n",
        "    return ((-(x * w1) - bias) / w2)\n",
        "    \n",
        "fig, ax = plt.subplots(figsize=(10,8))\n",
        "pd.DataFrame({'x1': a, 'x2': b}).plot.scatter(x='x1', y='x2', c=['red']*half + ['blue']*half, ax=ax);\n",
        "\n",
        "(w1, w2), bias = perceptron_keras.get_weights()\n",
        "xmin, xmax = X[:,0].min() - 1, X[:,0].max() + 1\n",
        "ymin, ymax = X[:,1].min() - 1, X[:,1].max() + 1\n",
        "\n",
        "ax.plot([xmin, xmax], [get_y(xmin, w1, w2, bias)[1], get_y(xmax, w1, w2, bias)[1]], marker='o', color='green');\n"
      ],
      "execution_count": 59,
      "outputs": [
        {
          "output_type": "display_data",
          "data": {
            "image/png": "[encoded data removed]",
            "text/plain": [
              "<Figure size 720x576 with 1 Axes>"
            ]
          },
          "metadata": {
            "tags": [],
            "needs_background": "light"
          }
        }
      ]
    },
    {
      "cell_type": "markdown",
      "metadata": {
        "id": "0EzG65qfdGm8"
      },
      "source": [
        "## MLP"
      ]
    },
    {
      "cell_type": "code",
      "metadata": {
        "id": "56FkOJ1tdGm8",
        "colab": {
          "base_uri": "https://localhost:8080/"
        },
        "outputId": "09bdbe52-0795-437c-d6ce-34c25f8ada1f"
      },
      "source": [
        "# input: a sequence  of 2 integers\n",
        "mlp_input = Input(shape=(2,), name='main_input')\n",
        "\n",
        "# add a hidden layer (16 neurons)\n",
        "mlp_hidden = Dense(16, activation='relu', name='hidden', kernel_initializer='glorot_uniform')(mlp_input)\n",
        "\n",
        "# add the output layer\n",
        "mlp_output = Dense(2, activation='softmax', name='output', kernel_initializer='glorot_uniform')(mlp_hidden)\n",
        "\n",
        "# the model is specified by connecting input and output\n",
        "mlp = Model(inputs=[mlp_input], outputs=[mlp_output])\n",
        "\n",
        "mlp.summary()"
      ],
      "execution_count": 76,
      "outputs": [
        {
          "output_type": "stream",
          "text": [
            "Model: \"model_6\"\n",
            "_________________________________________________________________\n",
            "Layer (type)                 Output Shape              Param #   \n",
            "=================================================================\n",
            "main_input (InputLayer)      [(None, 2)]               0         \n",
            "_________________________________________________________________\n",
            "hidden (Dense)               (None, 16)                48        \n",
            "_________________________________________________________________\n",
            "output (Dense)               (None, 2)                 34        \n",
            "=================================================================\n",
            "Total params: 82\n",
            "Trainable params: 82\n",
            "Non-trainable params: 0\n",
            "_________________________________________________________________\n"
          ],
          "name": "stdout"
        }
      ]
    },
    {
      "cell_type": "code",
      "metadata": {
        "scrolled": true,
        "id": "lFkGmrfDdGm-",
        "colab": {
          "base_uri": "https://localhost:8080/"
        },
        "outputId": "9f068fac-87db-40a2-9dfc-ff60156b6e3f"
      },
      "source": [
        "from keras import optimizers\n",
        "\n",
        "optimizer = optimizers.Adam(lr=0.001)\n",
        "\n",
        "mlp.compile(loss='binary_crossentropy',\n",
        "              optimizer=optimizer,\n",
        "              metrics=['accuracy']\n",
        "           )\n",
        "\n",
        "mlp_history = mlp.fit(X, y,\n",
        "                    epochs=50,\n",
        "                    verbose=1,\n",
        "                    validation_split=0.2)"
      ],
      "execution_count": 77,
      "outputs": [
        {
          "output_type": "stream",
          "text": [
            "Epoch 1/50\n",
            "125/125 [==============================] - 1s 2ms/step - loss: 6.4924 - accuracy: 0.6207 - val_loss: 1.8834 - val_accuracy: 0.0000e+00\n",
            "Epoch 2/50\n",
            "125/125 [==============================] - 0s 2ms/step - loss: 1.4006 - accuracy: 0.6815 - val_loss: 1.3175 - val_accuracy: 0.0000e+00\n",
            "Epoch 3/50\n",
            "125/125 [==============================] - 0s 2ms/step - loss: 0.3411 - accuracy: 0.9326 - val_loss: 0.9464 - val_accuracy: 0.1930\n",
            "Epoch 4/50\n",
            "125/125 [==============================] - 0s 1ms/step - loss: 0.2603 - accuracy: 0.9519 - val_loss: 0.6943 - val_accuracy: 0.6770\n",
            "Epoch 5/50\n",
            "125/125 [==============================] - 0s 1ms/step - loss: 0.1895 - accuracy: 0.9867 - val_loss: 0.5022 - val_accuracy: 0.8680\n",
            "Epoch 6/50\n",
            "125/125 [==============================] - 0s 2ms/step - loss: 0.1339 - accuracy: 0.9942 - val_loss: 0.2839 - val_accuracy: 0.9760\n",
            "Epoch 7/50\n",
            "125/125 [==============================] - 0s 2ms/step - loss: 0.0974 - accuracy: 0.9958 - val_loss: 0.2009 - val_accuracy: 0.9830\n",
            "Epoch 8/50\n",
            "125/125 [==============================] - 0s 1ms/step - loss: 0.0711 - accuracy: 0.9954 - val_loss: 0.1461 - val_accuracy: 0.9880\n",
            "Epoch 9/50\n",
            "125/125 [==============================] - 0s 2ms/step - loss: 0.0572 - accuracy: 0.9968 - val_loss: 0.1334 - val_accuracy: 0.9860\n",
            "Epoch 10/50\n",
            "125/125 [==============================] - 0s 2ms/step - loss: 0.0460 - accuracy: 0.9971 - val_loss: 0.1170 - val_accuracy: 0.9850\n",
            "Epoch 11/50\n",
            "125/125 [==============================] - 0s 2ms/step - loss: 0.0366 - accuracy: 0.9966 - val_loss: 0.1164 - val_accuracy: 0.9810\n",
            "Epoch 12/50\n",
            "125/125 [==============================] - 0s 1ms/step - loss: 0.0321 - accuracy: 0.9978 - val_loss: 0.0865 - val_accuracy: 0.9880\n",
            "Epoch 13/50\n",
            "125/125 [==============================] - 0s 2ms/step - loss: 0.0302 - accuracy: 0.9966 - val_loss: 0.0652 - val_accuracy: 0.9900\n",
            "Epoch 14/50\n",
            "125/125 [==============================] - 0s 2ms/step - loss: 0.0258 - accuracy: 0.9983 - val_loss: 0.0668 - val_accuracy: 0.9890\n",
            "Epoch 15/50\n",
            "125/125 [==============================] - 0s 1ms/step - loss: 0.0226 - accuracy: 0.9976 - val_loss: 0.0626 - val_accuracy: 0.9890\n",
            "Epoch 16/50\n",
            "125/125 [==============================] - 0s 2ms/step - loss: 0.0191 - accuracy: 0.9969 - val_loss: 0.0476 - val_accuracy: 0.9900\n",
            "Epoch 17/50\n",
            "125/125 [==============================] - 0s 1ms/step - loss: 0.0195 - accuracy: 0.9963 - val_loss: 0.0561 - val_accuracy: 0.9890\n",
            "Epoch 18/50\n",
            "125/125 [==============================] - 0s 1ms/step - loss: 0.0165 - accuracy: 0.9974 - val_loss: 0.0317 - val_accuracy: 0.9930\n",
            "Epoch 19/50\n",
            "125/125 [==============================] - 0s 2ms/step - loss: 0.0145 - accuracy: 0.9984 - val_loss: 0.0289 - val_accuracy: 0.9940\n",
            "Epoch 20/50\n",
            "125/125 [==============================] - 0s 1ms/step - loss: 0.0148 - accuracy: 0.9966 - val_loss: 0.0388 - val_accuracy: 0.9900\n",
            "Epoch 21/50\n",
            "125/125 [==============================] - 0s 2ms/step - loss: 0.0139 - accuracy: 0.9970 - val_loss: 0.0484 - val_accuracy: 0.9880\n",
            "Epoch 22/50\n",
            "125/125 [==============================] - 0s 1ms/step - loss: 0.0120 - accuracy: 0.9986 - val_loss: 0.0279 - val_accuracy: 0.9920\n",
            "Epoch 23/50\n",
            "125/125 [==============================] - 0s 1ms/step - loss: 0.0117 - accuracy: 0.9984 - val_loss: 0.0281 - val_accuracy: 0.9920\n",
            "Epoch 24/50\n",
            "125/125 [==============================] - 0s 2ms/step - loss: 0.0119 - accuracy: 0.9972 - val_loss: 0.0253 - val_accuracy: 0.9920\n",
            "Epoch 25/50\n",
            "125/125 [==============================] - 0s 2ms/step - loss: 0.0106 - accuracy: 0.9978 - val_loss: 0.0196 - val_accuracy: 0.9940\n",
            "Epoch 26/50\n",
            "125/125 [==============================] - 0s 1ms/step - loss: 0.0100 - accuracy: 0.9984 - val_loss: 0.0252 - val_accuracy: 0.9920\n",
            "Epoch 27/50\n",
            "125/125 [==============================] - 0s 2ms/step - loss: 0.0087 - accuracy: 0.9988 - val_loss: 0.0369 - val_accuracy: 0.9890\n",
            "Epoch 28/50\n",
            "125/125 [==============================] - 0s 1ms/step - loss: 0.0093 - accuracy: 0.9991 - val_loss: 0.0226 - val_accuracy: 0.9920\n",
            "Epoch 29/50\n",
            "125/125 [==============================] - 0s 2ms/step - loss: 0.0098 - accuracy: 0.9964 - val_loss: 0.0203 - val_accuracy: 0.9940\n",
            "Epoch 30/50\n",
            "125/125 [==============================] - 0s 2ms/step - loss: 0.0096 - accuracy: 0.9986 - val_loss: 0.0285 - val_accuracy: 0.9910\n",
            "Epoch 31/50\n",
            "125/125 [==============================] - 0s 1ms/step - loss: 0.0083 - accuracy: 0.9981 - val_loss: 0.0218 - val_accuracy: 0.9920\n",
            "Epoch 32/50\n",
            "125/125 [==============================] - 0s 2ms/step - loss: 0.0072 - accuracy: 0.9987 - val_loss: 0.0231 - val_accuracy: 0.9920\n",
            "Epoch 33/50\n",
            "125/125 [==============================] - 0s 1ms/step - loss: 0.0079 - accuracy: 0.9981 - val_loss: 0.0169 - val_accuracy: 0.9940\n",
            "Epoch 34/50\n",
            "125/125 [==============================] - 0s 2ms/step - loss: 0.0069 - accuracy: 0.9986 - val_loss: 0.0149 - val_accuracy: 0.9950\n",
            "Epoch 35/50\n",
            "125/125 [==============================] - 0s 1ms/step - loss: 0.0065 - accuracy: 0.9988 - val_loss: 0.0219 - val_accuracy: 0.9920\n",
            "Epoch 36/50\n",
            "125/125 [==============================] - 0s 2ms/step - loss: 0.0071 - accuracy: 0.9987 - val_loss: 0.0433 - val_accuracy: 0.9880\n",
            "Epoch 37/50\n",
            "125/125 [==============================] - 0s 1ms/step - loss: 0.0064 - accuracy: 0.9982 - val_loss: 0.0242 - val_accuracy: 0.9910\n",
            "Epoch 38/50\n",
            "125/125 [==============================] - 0s 2ms/step - loss: 0.0080 - accuracy: 0.9971 - val_loss: 0.0298 - val_accuracy: 0.9900\n",
            "Epoch 39/50\n",
            "125/125 [==============================] - 0s 2ms/step - loss: 0.0049 - accuracy: 0.9990 - val_loss: 0.0122 - val_accuracy: 0.9950\n",
            "Epoch 40/50\n",
            "125/125 [==============================] - 0s 2ms/step - loss: 0.0046 - accuracy: 0.9995 - val_loss: 0.0131 - val_accuracy: 0.9950\n",
            "Epoch 41/50\n",
            "125/125 [==============================] - 0s 1ms/step - loss: 0.0064 - accuracy: 0.9985 - val_loss: 0.0121 - val_accuracy: 0.9950\n",
            "Epoch 42/50\n",
            "125/125 [==============================] - 0s 2ms/step - loss: 0.0051 - accuracy: 0.9989 - val_loss: 0.0214 - val_accuracy: 0.9920\n",
            "Epoch 43/50\n",
            "125/125 [==============================] - 0s 2ms/step - loss: 0.0056 - accuracy: 0.9983 - val_loss: 0.0298 - val_accuracy: 0.9900\n",
            "Epoch 44/50\n",
            "125/125 [==============================] - 0s 2ms/step - loss: 0.0043 - accuracy: 0.9987 - val_loss: 0.0258 - val_accuracy: 0.9910\n",
            "Epoch 45/50\n",
            "125/125 [==============================] - 0s 2ms/step - loss: 0.0045 - accuracy: 0.9990 - val_loss: 0.0162 - val_accuracy: 0.9940\n",
            "Epoch 46/50\n",
            "125/125 [==============================] - 0s 1ms/step - loss: 0.0047 - accuracy: 0.9991 - val_loss: 0.0167 - val_accuracy: 0.9940\n",
            "Epoch 47/50\n",
            "125/125 [==============================] - 0s 2ms/step - loss: 0.0042 - accuracy: 0.9991 - val_loss: 0.0202 - val_accuracy: 0.9920\n",
            "Epoch 48/50\n",
            "125/125 [==============================] - 0s 2ms/step - loss: 0.0049 - accuracy: 0.9989 - val_loss: 0.0147 - val_accuracy: 0.9950\n",
            "Epoch 49/50\n",
            "125/125 [==============================] - 0s 1ms/step - loss: 0.0045 - accuracy: 0.9992 - val_loss: 0.0089 - val_accuracy: 0.9960\n",
            "Epoch 50/50\n",
            "125/125 [==============================] - 0s 2ms/step - loss: 0.0042 - accuracy: 0.9989 - val_loss: 0.0113 - val_accuracy: 0.9950\n"
          ],
          "name": "stdout"
        }
      ]
    },
    {
      "cell_type": "code",
      "metadata": {
        "id": "QmbTZBgkdGnA",
        "colab": {
          "base_uri": "https://localhost:8080/",
          "height": 1000
        },
        "outputId": "30ff0a3c-6477-41eb-a3d7-e443c435bf48"
      },
      "source": [
        "mlp_history = pd.DataFrame(mlp_history.history)\n",
        "mlp_history\n"
      ],
      "execution_count": 78,
      "outputs": [
        {
          "output_type": "execute_result",
          "data": {
            "text/html": [
              "<div>\n",
              "<style scoped>\n",
              "    .dataframe tbody tr th:only-of-type {\n",
              "        vertical-align: middle;\n",
              "    }\n",
              "\n",
              "    .dataframe tbody tr th {\n",
              "        vertical-align: top;\n",
              "    }\n",
              "\n",
              "    .dataframe thead th {\n",
              "        text-align: right;\n",
              "    }\n",
              "</style>\n",
              "<table border=\"1\" class=\"dataframe\">\n",
              "  <thead>\n",
              "    <tr style=\"text-align: right;\">\n",
              "      <th></th>\n",
              "      <th>loss</th>\n",
              "      <th>accuracy</th>\n",
              "      <th>val_loss</th>\n",
              "      <th>val_accuracy</th>\n",
              "    </tr>\n",
              "  </thead>\n",
              "  <tbody>\n",
              "    <tr>\n",
              "      <th>0</th>\n",
              "      <td>4.757177</td>\n",
              "      <td>0.62500</td>\n",
              "      <td>1.883351</td>\n",
              "      <td>0.000</td>\n",
              "    </tr>\n",
              "    <tr>\n",
              "      <th>1</th>\n",
              "      <td>0.916867</td>\n",
              "      <td>0.76975</td>\n",
              "      <td>1.317516</td>\n",
              "      <td>0.000</td>\n",
              "    </tr>\n",
              "    <tr>\n",
              "      <th>2</th>\n",
              "      <td>0.326824</td>\n",
              "      <td>0.93100</td>\n",
              "      <td>0.946355</td>\n",
              "      <td>0.193</td>\n",
              "    </tr>\n",
              "    <tr>\n",
              "      <th>3</th>\n",
              "      <td>0.239797</td>\n",
              "      <td>0.95925</td>\n",
              "      <td>0.694292</td>\n",
              "      <td>0.677</td>\n",
              "    </tr>\n",
              "    <tr>\n",
              "      <th>4</th>\n",
              "      <td>0.171677</td>\n",
              "      <td>0.98975</td>\n",
              "      <td>0.502194</td>\n",
              "      <td>0.868</td>\n",
              "    </tr>\n",
              "    <tr>\n",
              "      <th>5</th>\n",
              "      <td>0.122336</td>\n",
              "      <td>0.99525</td>\n",
              "      <td>0.283912</td>\n",
              "      <td>0.976</td>\n",
              "    </tr>\n",
              "    <tr>\n",
              "      <th>6</th>\n",
              "      <td>0.089634</td>\n",
              "      <td>0.99625</td>\n",
              "      <td>0.200904</td>\n",
              "      <td>0.983</td>\n",
              "    </tr>\n",
              "    <tr>\n",
              "      <th>7</th>\n",
              "      <td>0.068004</td>\n",
              "      <td>0.99650</td>\n",
              "      <td>0.146066</td>\n",
              "      <td>0.988</td>\n",
              "    </tr>\n",
              "    <tr>\n",
              "      <th>8</th>\n",
              "      <td>0.053856</td>\n",
              "      <td>0.99725</td>\n",
              "      <td>0.133394</td>\n",
              "      <td>0.986</td>\n",
              "    </tr>\n",
              "    <tr>\n",
              "      <th>9</th>\n",
              "      <td>0.043841</td>\n",
              "      <td>0.99700</td>\n",
              "      <td>0.117015</td>\n",
              "      <td>0.985</td>\n",
              "    </tr>\n",
              "    <tr>\n",
              "      <th>10</th>\n",
              "      <td>0.036655</td>\n",
              "      <td>0.99750</td>\n",
              "      <td>0.116400</td>\n",
              "      <td>0.981</td>\n",
              "    </tr>\n",
              "    <tr>\n",
              "      <th>11</th>\n",
              "      <td>0.031621</td>\n",
              "      <td>0.99700</td>\n",
              "      <td>0.086470</td>\n",
              "      <td>0.988</td>\n",
              "    </tr>\n",
              "    <tr>\n",
              "      <th>12</th>\n",
              "      <td>0.027347</td>\n",
              "      <td>0.99725</td>\n",
              "      <td>0.065224</td>\n",
              "      <td>0.990</td>\n",
              "    </tr>\n",
              "    <tr>\n",
              "      <th>13</th>\n",
              "      <td>0.024183</td>\n",
              "      <td>0.99750</td>\n",
              "      <td>0.066784</td>\n",
              "      <td>0.989</td>\n",
              "    </tr>\n",
              "    <tr>\n",
              "      <th>14</th>\n",
              "      <td>0.021548</td>\n",
              "      <td>0.99775</td>\n",
              "      <td>0.062603</td>\n",
              "      <td>0.989</td>\n",
              "    </tr>\n",
              "    <tr>\n",
              "      <th>15</th>\n",
              "      <td>0.019470</td>\n",
              "      <td>0.99725</td>\n",
              "      <td>0.047612</td>\n",
              "      <td>0.990</td>\n",
              "    </tr>\n",
              "    <tr>\n",
              "      <th>16</th>\n",
              "      <td>0.017813</td>\n",
              "      <td>0.99725</td>\n",
              "      <td>0.056102</td>\n",
              "      <td>0.989</td>\n",
              "    </tr>\n",
              "    <tr>\n",
              "      <th>17</th>\n",
              "      <td>0.016144</td>\n",
              "      <td>0.99775</td>\n",
              "      <td>0.031740</td>\n",
              "      <td>0.993</td>\n",
              "    </tr>\n",
              "    <tr>\n",
              "      <th>18</th>\n",
              "      <td>0.015230</td>\n",
              "      <td>0.99775</td>\n",
              "      <td>0.028888</td>\n",
              "      <td>0.994</td>\n",
              "    </tr>\n",
              "    <tr>\n",
              "      <th>19</th>\n",
              "      <td>0.013793</td>\n",
              "      <td>0.99800</td>\n",
              "      <td>0.038845</td>\n",
              "      <td>0.990</td>\n",
              "    </tr>\n",
              "    <tr>\n",
              "      <th>20</th>\n",
              "      <td>0.013161</td>\n",
              "      <td>0.99800</td>\n",
              "      <td>0.048373</td>\n",
              "      <td>0.988</td>\n",
              "    </tr>\n",
              "    <tr>\n",
              "      <th>21</th>\n",
              "      <td>0.012208</td>\n",
              "      <td>0.99750</td>\n",
              "      <td>0.027891</td>\n",
              "      <td>0.992</td>\n",
              "    </tr>\n",
              "    <tr>\n",
              "      <th>22</th>\n",
              "      <td>0.011458</td>\n",
              "      <td>0.99875</td>\n",
              "      <td>0.028075</td>\n",
              "      <td>0.992</td>\n",
              "    </tr>\n",
              "    <tr>\n",
              "      <th>23</th>\n",
              "      <td>0.010934</td>\n",
              "      <td>0.99800</td>\n",
              "      <td>0.025298</td>\n",
              "      <td>0.992</td>\n",
              "    </tr>\n",
              "    <tr>\n",
              "      <th>24</th>\n",
              "      <td>0.010235</td>\n",
              "      <td>0.99775</td>\n",
              "      <td>0.019554</td>\n",
              "      <td>0.994</td>\n",
              "    </tr>\n",
              "    <tr>\n",
              "      <th>25</th>\n",
              "      <td>0.009865</td>\n",
              "      <td>0.99775</td>\n",
              "      <td>0.025232</td>\n",
              "      <td>0.992</td>\n",
              "    </tr>\n",
              "    <tr>\n",
              "      <th>26</th>\n",
              "      <td>0.009281</td>\n",
              "      <td>0.99825</td>\n",
              "      <td>0.036917</td>\n",
              "      <td>0.989</td>\n",
              "    </tr>\n",
              "    <tr>\n",
              "      <th>27</th>\n",
              "      <td>0.009070</td>\n",
              "      <td>0.99850</td>\n",
              "      <td>0.022607</td>\n",
              "      <td>0.992</td>\n",
              "    </tr>\n",
              "    <tr>\n",
              "      <th>28</th>\n",
              "      <td>0.008431</td>\n",
              "      <td>0.99850</td>\n",
              "      <td>0.020278</td>\n",
              "      <td>0.994</td>\n",
              "    </tr>\n",
              "    <tr>\n",
              "      <th>29</th>\n",
              "      <td>0.008046</td>\n",
              "      <td>0.99900</td>\n",
              "      <td>0.028529</td>\n",
              "      <td>0.991</td>\n",
              "    </tr>\n",
              "    <tr>\n",
              "      <th>30</th>\n",
              "      <td>0.007824</td>\n",
              "      <td>0.99800</td>\n",
              "      <td>0.021773</td>\n",
              "      <td>0.992</td>\n",
              "    </tr>\n",
              "    <tr>\n",
              "      <th>31</th>\n",
              "      <td>0.007436</td>\n",
              "      <td>0.99875</td>\n",
              "      <td>0.023095</td>\n",
              "      <td>0.992</td>\n",
              "    </tr>\n",
              "    <tr>\n",
              "      <th>32</th>\n",
              "      <td>0.007146</td>\n",
              "      <td>0.99900</td>\n",
              "      <td>0.016942</td>\n",
              "      <td>0.994</td>\n",
              "    </tr>\n",
              "    <tr>\n",
              "      <th>33</th>\n",
              "      <td>0.006986</td>\n",
              "      <td>0.99850</td>\n",
              "      <td>0.014859</td>\n",
              "      <td>0.995</td>\n",
              "    </tr>\n",
              "    <tr>\n",
              "      <th>34</th>\n",
              "      <td>0.006587</td>\n",
              "      <td>0.99875</td>\n",
              "      <td>0.021869</td>\n",
              "      <td>0.992</td>\n",
              "    </tr>\n",
              "    <tr>\n",
              "      <th>35</th>\n",
              "      <td>0.006473</td>\n",
              "      <td>0.99850</td>\n",
              "      <td>0.043291</td>\n",
              "      <td>0.988</td>\n",
              "    </tr>\n",
              "    <tr>\n",
              "      <th>36</th>\n",
              "      <td>0.006132</td>\n",
              "      <td>0.99875</td>\n",
              "      <td>0.024248</td>\n",
              "      <td>0.991</td>\n",
              "    </tr>\n",
              "    <tr>\n",
              "      <th>37</th>\n",
              "      <td>0.005915</td>\n",
              "      <td>0.99850</td>\n",
              "      <td>0.029799</td>\n",
              "      <td>0.990</td>\n",
              "    </tr>\n",
              "    <tr>\n",
              "      <th>38</th>\n",
              "      <td>0.005835</td>\n",
              "      <td>0.99900</td>\n",
              "      <td>0.012183</td>\n",
              "      <td>0.995</td>\n",
              "    </tr>\n",
              "    <tr>\n",
              "      <th>39</th>\n",
              "      <td>0.005507</td>\n",
              "      <td>0.99850</td>\n",
              "      <td>0.013105</td>\n",
              "      <td>0.995</td>\n",
              "    </tr>\n",
              "    <tr>\n",
              "      <th>40</th>\n",
              "      <td>0.005518</td>\n",
              "      <td>0.99875</td>\n",
              "      <td>0.012103</td>\n",
              "      <td>0.995</td>\n",
              "    </tr>\n",
              "    <tr>\n",
              "      <th>41</th>\n",
              "      <td>0.005175</td>\n",
              "      <td>0.99900</td>\n",
              "      <td>0.021446</td>\n",
              "      <td>0.992</td>\n",
              "    </tr>\n",
              "    <tr>\n",
              "      <th>42</th>\n",
              "      <td>0.004946</td>\n",
              "      <td>0.99900</td>\n",
              "      <td>0.029818</td>\n",
              "      <td>0.990</td>\n",
              "    </tr>\n",
              "    <tr>\n",
              "      <th>43</th>\n",
              "      <td>0.004929</td>\n",
              "      <td>0.99875</td>\n",
              "      <td>0.025802</td>\n",
              "      <td>0.991</td>\n",
              "    </tr>\n",
              "    <tr>\n",
              "      <th>44</th>\n",
              "      <td>0.004793</td>\n",
              "      <td>0.99875</td>\n",
              "      <td>0.016224</td>\n",
              "      <td>0.994</td>\n",
              "    </tr>\n",
              "    <tr>\n",
              "      <th>45</th>\n",
              "      <td>0.004555</td>\n",
              "      <td>0.99900</td>\n",
              "      <td>0.016720</td>\n",
              "      <td>0.994</td>\n",
              "    </tr>\n",
              "    <tr>\n",
              "      <th>46</th>\n",
              "      <td>0.004515</td>\n",
              "      <td>0.99900</td>\n",
              "      <td>0.020241</td>\n",
              "      <td>0.992</td>\n",
              "    </tr>\n",
              "    <tr>\n",
              "      <th>47</th>\n",
              "      <td>0.004390</td>\n",
              "      <td>0.99900</td>\n",
              "      <td>0.014702</td>\n",
              "      <td>0.995</td>\n",
              "    </tr>\n",
              "    <tr>\n",
              "      <th>48</th>\n",
              "      <td>0.004169</td>\n",
              "      <td>0.99950</td>\n",
              "      <td>0.008929</td>\n",
              "      <td>0.996</td>\n",
              "    </tr>\n",
              "    <tr>\n",
              "      <th>49</th>\n",
              "      <td>0.003841</td>\n",
              "      <td>0.99925</td>\n",
              "      <td>0.011331</td>\n",
              "      <td>0.995</td>\n",
              "    </tr>\n",
              "  </tbody>\n",
              "</table>\n",
              "</div>"
            ],
            "text/plain": [
              "        loss  accuracy  val_loss  val_accuracy\n",
              "0   4.757177   0.62500  1.883351         0.000\n",
              "1   0.916867   0.76975  1.317516         0.000\n",
              "2   0.326824   0.93100  0.946355         0.193\n",
              "3   0.239797   0.95925  0.694292         0.677\n",
              "4   0.171677   0.98975  0.502194         0.868\n",
              "5   0.122336   0.99525  0.283912         0.976\n",
              "6   0.089634   0.99625  0.200904         0.983\n",
              "7   0.068004   0.99650  0.146066         0.988\n",
              "8   0.053856   0.99725  0.133394         0.986\n",
              "9   0.043841   0.99700  0.117015         0.985\n",
              "10  0.036655   0.99750  0.116400         0.981\n",
              "11  0.031621   0.99700  0.086470         0.988\n",
              "12  0.027347   0.99725  0.065224         0.990\n",
              "13  0.024183   0.99750  0.066784         0.989\n",
              "14  0.021548   0.99775  0.062603         0.989\n",
              "15  0.019470   0.99725  0.047612         0.990\n",
              "16  0.017813   0.99725  0.056102         0.989\n",
              "17  0.016144   0.99775  0.031740         0.993\n",
              "18  0.015230   0.99775  0.028888         0.994\n",
              "19  0.013793   0.99800  0.038845         0.990\n",
              "20  0.013161   0.99800  0.048373         0.988\n",
              "21  0.012208   0.99750  0.027891         0.992\n",
              "22  0.011458   0.99875  0.028075         0.992\n",
              "23  0.010934   0.99800  0.025298         0.992\n",
              "24  0.010235   0.99775  0.019554         0.994\n",
              "25  0.009865   0.99775  0.025232         0.992\n",
              "26  0.009281   0.99825  0.036917         0.989\n",
              "27  0.009070   0.99850  0.022607         0.992\n",
              "28  0.008431   0.99850  0.020278         0.994\n",
              "29  0.008046   0.99900  0.028529         0.991\n",
              "30  0.007824   0.99800  0.021773         0.992\n",
              "31  0.007436   0.99875  0.023095         0.992\n",
              "32  0.007146   0.99900  0.016942         0.994\n",
              "33  0.006986   0.99850  0.014859         0.995\n",
              "34  0.006587   0.99875  0.021869         0.992\n",
              "35  0.006473   0.99850  0.043291         0.988\n",
              "36  0.006132   0.99875  0.024248         0.991\n",
              "37  0.005915   0.99850  0.029799         0.990\n",
              "38  0.005835   0.99900  0.012183         0.995\n",
              "39  0.005507   0.99850  0.013105         0.995\n",
              "40  0.005518   0.99875  0.012103         0.995\n",
              "41  0.005175   0.99900  0.021446         0.992\n",
              "42  0.004946   0.99900  0.029818         0.990\n",
              "43  0.004929   0.99875  0.025802         0.991\n",
              "44  0.004793   0.99875  0.016224         0.994\n",
              "45  0.004555   0.99900  0.016720         0.994\n",
              "46  0.004515   0.99900  0.020241         0.992\n",
              "47  0.004390   0.99900  0.014702         0.995\n",
              "48  0.004169   0.99950  0.008929         0.996\n",
              "49  0.003841   0.99925  0.011331         0.995"
            ]
          },
          "metadata": {
            "tags": []
          },
          "execution_count": 78
        }
      ]
    },
    {
      "cell_type": "code",
      "metadata": {
        "id": "ZXee_GBNgkCA",
        "colab": {
          "base_uri": "https://localhost:8080/",
          "height": 285
        },
        "outputId": "c991ab5d-bd53-48de-92c2-ce04b81562b1"
      },
      "source": [
        "mlp_history['accuracy'.split()].plot()"
      ],
      "execution_count": 79,
      "outputs": [
        {
          "output_type": "execute_result",
          "data": {
            "text/plain": [
              "<matplotlib.axes._subplots.AxesSubplot at 0x7ff2ccd8ef90>"
            ]
          },
          "metadata": {
            "tags": []
          },
          "execution_count": 79
        },
        {
          "output_type": "display_data",
          "data": {
            "image/png": "[encoded data removed]",
            "text/plain": [
              "<Figure size 432x288 with 1 Axes>"
            ]
          },
          "metadata": {
            "tags": [],
            "needs_background": "light"
          }
        }
      ]
    },
    {
      "cell_type": "markdown",
      "metadata": {
        "id": "aZc1B5dLg1JE"
      },
      "source": [
        "## Exercise\n",
        "\n",
        "Take couple of minutes and try to play with the number of layers and the number of parameters in the layers."
      ]
    },
    {
      "cell_type": "code",
      "metadata": {
        "id": "MQFsa0hW9WRf"
      },
      "source": [
        ""
      ],
      "execution_count": null,
      "outputs": []
    },
    {
      "cell_type": "markdown",
      "metadata": {
        "id": "GRQSCfdaLAtF"
      },
      "source": [
        "<a name=\"kaggle\"></a>\n",
        "# Kaggle Challenge Data"
      ]
    },
    {
      "cell_type": "markdown",
      "metadata": {
        "id": "bbeKfwkVLAtG"
      },
      "source": [
        ">The Otto Group is one of the world’s biggest e-commerce companies, A consistent analysis of the performance of products is crucial. However, due to diverse global infrastructure, many identical products get classified differently.\n",
        "For this competition, we have provided a dataset with 93 features for more than 200,000 products. The objective is to build a predictive model which is able to distinguish between our main product categories. \n",
        "Each row corresponds to a single product. There are a total of 93 numerical features, which represent counts of different events. All features have been obfuscated and will not be defined any further.\n",
        "\n",
        "https://www.kaggle.com/c/otto-group-product-classification-challenge/data"
      ]
    },
    {
      "cell_type": "markdown",
      "metadata": {
        "id": "ffeZ8QrxLAtK"
      },
      "source": [
        "## Data Preparation"
      ]
    },
    {
      "cell_type": "markdown",
      "metadata": {
        "id": "PdAVJQYmMKtt"
      },
      "source": [
        "### Utility functions\n",
        "\n",
        "Utility functions to load Kaggle Otto Group Challenge Data."
      ]
    },
    {
      "cell_type": "code",
      "metadata": {
        "id": "r0GV97-fMI4B"
      },
      "source": [
        "import pandas as pd\n",
        "import numpy as np\n",
        "from sklearn.preprocessing import StandardScaler\n",
        "from sklearn.preprocessing import LabelEncoder\n",
        "from keras.utils import np_utils\n",
        "\n",
        "\n",
        "def load_data(path, train=True):\n",
        "    \"\"\"Load data from a CSV File\n",
        "    \n",
        "    Parameters\n",
        "    ----------\n",
        "    path: str\n",
        "        The path to the CSV file\n",
        "        \n",
        "    train: bool (default True)\n",
        "        Decide whether or not data are *training data*.\n",
        "        If True, some random shuffling is applied.\n",
        "        \n",
        "    Return\n",
        "    ------\n",
        "    X: numpy.ndarray \n",
        "        The data as a multi dimensional array of floats\n",
        "    ids: numpy.ndarray\n",
        "        A vector of ids for each sample\n",
        "    \"\"\"\n",
        "    text = pd.read_csv(path, encoding = \"ISO-8859-2\")\n",
        "    df = pd.read_csv(path)\n",
        "    X = df.values.copy()\n",
        "    if train:\n",
        "        np.random.shuffle(X)  \n",
        "        X, labels = X[:, 1:-1].astype(np.float32), X[:, -1]\n",
        "        return X, labels\n",
        "    else:\n",
        "        X, ids = X[:, 1:].astype(np.float32), X[:, 0].astype(str)\n",
        "        return X, ids\n",
        "        \n",
        "        \n",
        "def preprocess_data(X, scaler=None):\n",
        "    \"\"\"Preprocess input data by standardise features \n",
        "    by removing the mean and scaling to unit variance\"\"\"\n",
        "    if not scaler:\n",
        "        scaler = StandardScaler()\n",
        "        scaler.fit(X)\n",
        "    X = scaler.transform(X)\n",
        "    return X, scaler\n",
        "\n",
        "\n",
        "def preprocess_labels(labels, encoder=None, categorical=True):\n",
        "    \"\"\"Encode labels with values among 0 and `n-classes-1`\"\"\"\n",
        "    if not encoder:\n",
        "        encoder = LabelEncoder()\n",
        "        encoder.fit(labels)\n",
        "    y = encoder.transform(labels).astype(np.int32)\n",
        "    if categorical:\n",
        "        y = np_utils.to_categorical(y)\n",
        "    return y, encoder"
      ],
      "execution_count": 64,
      "outputs": []
    },
    {
      "cell_type": "markdown",
      "metadata": {
        "id": "vaGr3p-HmvNU"
      },
      "source": [
        "## Import data"
      ]
    },
    {
      "cell_type": "code",
      "metadata": {
        "id": "WcwhGx_rLAtU",
        "colab": {
          "base_uri": "https://localhost:8080/"
        },
        "outputId": "6f99341a-cded-4cfd-b192-4abbec6130db"
      },
      "source": [
        "url_train = 'https://raw.githubusercontent.com/leriomaggio/deep-learning-keras-tensorflow/master/data/kaggle_ottogroup/train.csv'\n",
        "url_test = 'https://raw.githubusercontent.com/leriomaggio/deep-learning-keras-tensorflow/master/data/kaggle_ottogroup/test.csv'\n",
        "X_train, labels = load_data(url_train, train=True)\n",
        "\n",
        "print(\"Training set data\")\n",
        "print(X_train)\n",
        "\n",
        "print(\"Training set labels\")\n",
        "print(labels)"
      ],
      "execution_count": 65,
      "outputs": [
        {
          "output_type": "stream",
          "text": [
            "Training set data\n",
            "[[0. 0. 3. ... 0. 1. 0.]\n",
            " [0. 0. 0. ... 0. 0. 0.]\n",
            " [0. 0. 0. ... 0. 0. 0.]\n",
            " ...\n",
            " [0. 0. 0. ... 0. 0. 0.]\n",
            " [0. 0. 0. ... 0. 0. 0.]\n",
            " [0. 0. 0. ... 0. 0. 0.]]\n",
            "Training set labels\n",
            "['Class_6' 'Class_8' 'Class_3' ... 'Class_7' 'Class_3' 'Class_6']\n"
          ],
          "name": "stdout"
        }
      ]
    },
    {
      "cell_type": "markdown",
      "metadata": {
        "id": "MHG7PflKmzeL"
      },
      "source": [
        "## Preprocess data"
      ]
    },
    {
      "cell_type": "code",
      "metadata": {
        "id": "p4huHaAtLAta",
        "colab": {
          "base_uri": "https://localhost:8080/"
        },
        "outputId": "10ede74d-a599-4f3d-96fc-e7a5a50874ec"
      },
      "source": [
        "X_train, labels = load_data(url_train, train=True)\n",
        "X_train, scaler = preprocess_data(X_train)\n",
        "Y_train, encoder = preprocess_labels(labels)\n",
        "\n",
        "X_test, ids = load_data(url_test, train=False)\n",
        "X_test, _ = preprocess_data(X_test, scaler)\n",
        "\n",
        "nb_classes = Y_train.shape[1]\n",
        "print(nb_classes, 'classes')\n",
        "\n",
        "dims = X_train.shape[1]\n",
        "print(dims, 'dims')"
      ],
      "execution_count": 66,
      "outputs": [
        {
          "output_type": "stream",
          "text": [
            "9 classes\n",
            "93 dims\n"
          ],
          "name": "stdout"
        }
      ]
    },
    {
      "cell_type": "code",
      "metadata": {
        "id": "dl6vFpY4LAtg",
        "colab": {
          "base_uri": "https://localhost:8080/"
        },
        "outputId": "ce27e85c-5a5b-45f6-8d8e-a8db6b24907f"
      },
      "source": [
        "help(preprocess_data)\n",
        "help(preprocess_labels)"
      ],
      "execution_count": 67,
      "outputs": [
        {
          "output_type": "stream",
          "text": [
            "Help on function preprocess_data in module __main__:\n",
            "\n",
            "preprocess_data(X, scaler=None)\n",
            "    Preprocess input data by standardise features \n",
            "    by removing the mean and scaling to unit variance\n",
            "\n",
            "Help on function preprocess_labels in module __main__:\n",
            "\n",
            "preprocess_labels(labels, encoder=None, categorical=True)\n",
            "    Encode labels with values among 0 and `n-classes-1`\n",
            "\n"
          ],
          "name": "stdout"
        }
      ]
    },
    {
      "cell_type": "code",
      "metadata": {
        "id": "DIQdg3xYLAtq",
        "colab": {
          "base_uri": "https://localhost:8080/"
        },
        "outputId": "e0695b85-d162-4d0a-c4e2-b4cac2926b61"
      },
      "source": [
        "np.unique(labels)"
      ],
      "execution_count": 68,
      "outputs": [
        {
          "output_type": "execute_result",
          "data": {
            "text/plain": [
              "array(['Class_1', 'Class_2', 'Class_3', 'Class_4', 'Class_5', 'Class_6',\n",
              "       'Class_7', 'Class_8', 'Class_9'], dtype=object)"
            ]
          },
          "metadata": {
            "tags": []
          },
          "execution_count": 68
        }
      ]
    },
    {
      "cell_type": "code",
      "metadata": {
        "id": "Yr8D9bzfLAty",
        "colab": {
          "base_uri": "https://localhost:8080/"
        },
        "outputId": "787d6cc4-1f6f-472a-b673-8a77310e540a"
      },
      "source": [
        "Y_train  # one-hot encoding"
      ],
      "execution_count": 69,
      "outputs": [
        {
          "output_type": "execute_result",
          "data": {
            "text/plain": [
              "array([[0., 1., 0., ..., 0., 0., 0.],\n",
              "       [0., 0., 0., ..., 0., 0., 0.],\n",
              "       [0., 0., 0., ..., 0., 0., 0.],\n",
              "       ...,\n",
              "       [0., 0., 0., ..., 0., 0., 0.],\n",
              "       [0., 1., 0., ..., 0., 0., 0.],\n",
              "       [0., 0., 0., ..., 0., 0., 0.]], dtype=float32)"
            ]
          },
          "metadata": {
            "tags": []
          },
          "execution_count": 69
        }
      ]
    },
    {
      "cell_type": "code",
      "metadata": {
        "colab": {
          "base_uri": "https://localhost:8080/"
        },
        "id": "PFfYHt-11uj2",
        "outputId": "a9f28535-2097-46ba-f1d7-5b65e5fd50ab"
      },
      "source": [
        "Y_train[1]"
      ],
      "execution_count": 70,
      "outputs": [
        {
          "output_type": "execute_result",
          "data": {
            "text/plain": [
              "array([0., 0., 0., 0., 0., 1., 0., 0., 0.], dtype=float32)"
            ]
          },
          "metadata": {
            "tags": []
          },
          "execution_count": 70
        }
      ]
    },
    {
      "cell_type": "markdown",
      "metadata": {
        "id": "pcLqsyXhLAt5"
      },
      "source": [
        "# Using Keras"
      ]
    },
    {
      "cell_type": "code",
      "metadata": {
        "id": "7yt1I627LAt6"
      },
      "source": [
        "from keras.models import Sequential\n",
        "from keras.layers import Dense, Activation"
      ],
      "execution_count": 71,
      "outputs": []
    },
    {
      "cell_type": "markdown",
      "metadata": {
        "id": "2y0mXasYh6Gl"
      },
      "source": [
        "### Perceptron"
      ]
    },
    {
      "cell_type": "code",
      "metadata": {
        "id": "EsSNGNdPLAt_",
        "colab": {
          "base_uri": "https://localhost:8080/"
        },
        "outputId": "a78d2a4f-4c99-4031-87d7-b6e509f67b6f"
      },
      "source": [
        "dims = X_train.shape[1]\n",
        "print(dims, 'dims')\n",
        "print(\"Building model...\")\n",
        "\n",
        "nb_classes = Y_train.shape[1]\n",
        "print(nb_classes, 'classes')\n",
        "\n",
        "model = Sequential()\n",
        "model.add(Dense(nb_classes, input_shape=(dims,), activation='sigmoid'))\n",
        "model.add(Activation('softmax'))\n",
        "\n",
        "model.compile(optimizer='sgd', loss='categorical_crossentropy')\n",
        "model.fit(X_train, Y_train)"
      ],
      "execution_count": 72,
      "outputs": [
        {
          "output_type": "stream",
          "text": [
            "93 dims\n",
            "Building model...\n",
            "9 classes\n",
            "1934/1934 [==============================] - 2s 920us/step - loss: 2.0972\n"
          ],
          "name": "stdout"
        },
        {
          "output_type": "execute_result",
          "data": {
            "text/plain": [
              "<tensorflow.python.keras.callbacks.History at 0x7ff2ca629b90>"
            ]
          },
          "metadata": {
            "tags": []
          },
          "execution_count": 72
        }
      ]
    },
    {
      "cell_type": "markdown",
      "metadata": {
        "id": "FJrsIfW_h22F"
      },
      "source": [
        "### Multi-layer Perceptron"
      ]
    },
    {
      "cell_type": "code",
      "metadata": {
        "id": "PfDN7z7Xh2jn",
        "colab": {
          "base_uri": "https://localhost:8080/"
        },
        "outputId": "520a976c-dcba-4d0f-c9ca-fa197cdf29d9"
      },
      "source": [
        "model = Sequential()\n",
        "model.add(Dense(100, input_shape=(dims,)))\n",
        "model.add(Dense(nb_classes, activation='softmax'))\n",
        "#model.add(Activation('softmax'))\n",
        "model.compile(optimizer='sgd', loss='categorical_crossentropy')\n",
        "model.summary()\n",
        "\n",
        "model.fit(X_train, Y_train, epochs=20, \n",
        "          batch_size=128, verbose=True)"
      ],
      "execution_count": 73,
      "outputs": [
        {
          "output_type": "stream",
          "text": [
            "Model: \"sequential_3\"\n",
            "_________________________________________________________________\n",
            "Layer (type)                 Output Shape              Param #   \n",
            "=================================================================\n",
            "dense_4 (Dense)              (None, 100)               9400      \n",
            "_________________________________________________________________\n",
            "dense_5 (Dense)              (None, 9)                 909       \n",
            "=================================================================\n",
            "Total params: 10,309\n",
            "Trainable params: 10,309\n",
            "Non-trainable params: 0\n",
            "_________________________________________________________________\n",
            "Epoch 1/20\n",
            "484/484 [==============================] - 1s 1ms/step - loss: 1.5331\n",
            "Epoch 2/20\n",
            "484/484 [==============================] - 1s 1ms/step - loss: 0.8123\n",
            "Epoch 3/20\n",
            "484/484 [==============================] - 1s 1ms/step - loss: 0.7596\n",
            "Epoch 4/20\n",
            "484/484 [==============================] - 1s 1ms/step - loss: 0.7170\n",
            "Epoch 5/20\n",
            "484/484 [==============================] - 1s 1ms/step - loss: 0.7077\n",
            "Epoch 6/20\n",
            "484/484 [==============================] - 1s 1ms/step - loss: 0.6935\n",
            "Epoch 7/20\n",
            "484/484 [==============================] - 1s 1ms/step - loss: 0.6925\n",
            "Epoch 8/20\n",
            "484/484 [==============================] - 1s 1ms/step - loss: 0.6708\n",
            "Epoch 9/20\n",
            "484/484 [==============================] - 1s 1ms/step - loss: 0.6734\n",
            "Epoch 10/20\n",
            "484/484 [==============================] - 1s 1ms/step - loss: 0.6619\n",
            "Epoch 11/20\n",
            "484/484 [==============================] - 1s 1ms/step - loss: 0.6617\n",
            "Epoch 12/20\n",
            "484/484 [==============================] - 1s 1ms/step - loss: 0.6630\n",
            "Epoch 13/20\n",
            "484/484 [==============================] - 1s 1ms/step - loss: 0.6577\n",
            "Epoch 14/20\n",
            "484/484 [==============================] - 1s 1ms/step - loss: 0.6607\n",
            "Epoch 15/20\n",
            "484/484 [==============================] - 1s 1ms/step - loss: 0.6523\n",
            "Epoch 16/20\n",
            "484/484 [==============================] - 1s 1ms/step - loss: 0.6519\n",
            "Epoch 17/20\n",
            "484/484 [==============================] - 1s 1ms/step - loss: 0.6588\n",
            "Epoch 18/20\n",
            "484/484 [==============================] - 1s 1ms/step - loss: 0.6548\n",
            "Epoch 19/20\n",
            "484/484 [==============================] - 1s 1ms/step - loss: 0.6453\n",
            "Epoch 20/20\n",
            "484/484 [==============================] - 1s 1ms/step - loss: 0.6469\n"
          ],
          "name": "stdout"
        },
        {
          "output_type": "execute_result",
          "data": {
            "text/plain": [
              "<tensorflow.python.keras.callbacks.History at 0x7ff2ccda4750>"
            ]
          },
          "metadata": {
            "tags": []
          },
          "execution_count": 73
        }
      ]
    },
    {
      "cell_type": "markdown",
      "metadata": {
        "id": "bSKkN1j8fyRi"
      },
      "source": [
        "# Exercise\n",
        "\n",
        "Try several configuration of the neural network considering also the use of the Dropout regularization. Evaluate model."
      ]
    },
    {
      "cell_type": "code",
      "metadata": {
        "id": "8BHLQtk82_tv"
      },
      "source": [
        "url_test = 'https://raw.githubusercontent.com/leriomaggio/deep-learning-keras-tensorflow/master/data/kaggle_ottogroup/test.csv'"
      ],
      "execution_count": 74,
      "outputs": []
    },
    {
      "cell_type": "markdown",
      "metadata": {
        "id": "HQyhcer4dGnC"
      },
      "source": [
        "# Further reading\n",
        "\n",
        "- http://u.cs.biu.ac.il/~yogo/nnlp.pdf (Chapters 1-4)\n",
        "- https://github.com/nyu-dl/NLP_DL_Lecture_Note/blob/master/lecture_note.pdf (Chapters 3, 4)\n",
        "- https://www.coursera.org/learn/machine-learning (Weeks 4, 5)\n",
        "- http://colah.github.io/posts/2014-03-NN-Manifolds-Topology/"
      ]
    }
  ]
}