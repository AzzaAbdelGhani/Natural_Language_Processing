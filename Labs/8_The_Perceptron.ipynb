{
  "nbformat": 4,
  "nbformat_minor": 0,
  "metadata": {
    "anaconda-cloud": {},
    "celltoolbar": "Slideshow",
    "kernelspec": {
      "display_name": "Python 3",
      "language": "python",
      "name": "python3"
    },
    "language_info": {
      "codemirror_mode": {
        "name": "ipython",
        "version": 3
      },
      "file_extension": ".py",
      "mimetype": "text/x-python",
      "name": "python",
      "nbconvert_exporter": "python",
      "pygments_lexer": "ipython3",
      "version": "3.8.3"
    },
    "nbpresent": {
      "slides": {
        "3e606cca-ddab-4b87-8295-f1cca7962a9d": {
          "id": "3e606cca-ddab-4b87-8295-f1cca7962a9d",
          "prev": "8921ba99-3b08-4f47-affd-b6f8fadaa8cd",
          "regions": {
            "cb08d0e1-9b2e-4940-95dc-76a8f9e75b03": {
              "attrs": {
                "height": 0.8,
                "width": 0.8,
                "x": 0.1,
                "y": 0.1
              },
              "content": {
                "cell": "67ca55d4-28b9-410e-9921-08d943aa3151",
                "part": "whole"
              },
              "id": "cb08d0e1-9b2e-4940-95dc-76a8f9e75b03"
            }
          }
        },
        "8921ba99-3b08-4f47-affd-b6f8fadaa8cd": {
          "id": "8921ba99-3b08-4f47-affd-b6f8fadaa8cd",
          "prev": null,
          "regions": {
            "48e51b5b-c219-4946-bad8-4b170ff7da1b": {
              "attrs": {
                "height": 0.8,
                "width": 0.8,
                "x": 0.1,
                "y": 0.1
              },
              "content": {
                "cell": "ad90604f-afeb-4baa-b940-c3a1f3de8891",
                "part": "whole"
              },
              "id": "48e51b5b-c219-4946-bad8-4b170ff7da1b"
            }
          }
        }
      },
      "themes": {}
    },
    "colab": {
      "name": "8_The_Perceptron.ipynb",
      "provenance": [],
      "collapsed_sections": []
    }
  },
  "cells": [
    {
      "cell_type": "markdown",
      "metadata": {
        "nbpresent": {
          "id": "ad90604f-afeb-4baa-b940-c3a1f3de8891"
        },
        "id": "73Hc-kE_dGmU"
      },
      "source": [
        "# The Perceptron\n",
        "is the building-block of a Neural Network."
      ]
    },
    {
      "cell_type": "code",
      "metadata": {
        "id": "ZT-_mJ05dGmU"
      },
      "source": [
        "%matplotlib inline\n",
        "import numpy as np\n",
        "import matplotlib.pyplot as plt\n",
        "import seaborn as sbs\n",
        "import pandas as pd\n",
        "from sklearn.metrics import accuracy_score\n",
        "sbs.set_context('notebook')\n",
        "\n",
        "#activation functions:\n",
        "def sigmoid(x):\n",
        "    '''\n",
        "    ranges from  0 to 1\n",
        "    '''\n",
        "    return 1 / (1 + np.exp(-x))\n",
        "\n",
        "def relu(x):\n",
        "    '''\n",
        "    ranges from  0 to 1\n",
        "    '''\n",
        "    return np.where(x > 0, x, 0)"
      ],
      "execution_count": 1,
      "outputs": []
    },
    {
      "cell_type": "code",
      "metadata": {
        "id": "ILDpSVU_dGmZ"
      },
      "source": [
        "class Perceptron:\n",
        "    def __init__(self, num_inputs):\n",
        "        self.w1 = np.random.random(num_inputs) #weights matrix\n",
        "        self.b1 = 1 #bias\n",
        "        #in this case, single layer perceptron, one weight matrix and one bias term\n",
        "    \n",
        "    def predict(self, X):\n",
        "        # compute activation for input layer\n",
        "        activation = np.dot(X, self.w1) + self.b1\n",
        "        # non-linear transform\n",
        "        fX = sigmoid(activation)\n",
        "        # check threshold: for sigmoid and relu, use 0.5, for tanh, use 0\n",
        "        y = np.where(fX >= 0.5, 1, -1)\n",
        "        return y\n",
        "    \n",
        "    def fit(self, train_data, train_labels, num_epochs=20):\n",
        "        models = []\n",
        "        print(\"N. epochs\",num_epochs)\n",
        "        for epoch in range(1, num_epochs+1):\n",
        "            print(\"Epoch:\",epoch)\n",
        "            for (X, y) in zip(train_data, train_labels):\n",
        "                pred_label = self.predict(X)\n",
        "\n",
        "                if pred_label != y:\n",
        "                    print('update')\n",
        "                    self.w1 = self.w1 + (X * y)\n",
        "                    self.b1 = self.b1 + y\n",
        "\n",
        "            models.append((self.w1, self.b1))\n",
        "\n",
        "        return models"
      ],
      "execution_count": 2,
      "outputs": []
    },
    {
      "cell_type": "code",
      "metadata": {
        "id": "DXYDIQnpdGmb",
        "colab": {
          "base_uri": "https://localhost:8080/"
        },
        "outputId": "f0f88870-18a8-41af-8dba-100ba08fb459"
      },
      "source": [
        "# AND perceptron\n",
        "perceptron = Perceptron(2)\n",
        "\n",
        "and_data = np.array([[1, 1], [1, 0], [0, 1], [0, 0]])\n",
        "and_labels = np.array([1, -1, -1, -1], dtype=np.int)\n",
        "\n",
        "iters = perceptron.fit(and_data, and_labels, num_epochs=10)\n",
        "and_predictions = perceptron.predict(and_data)\n",
        "\n",
        "print(and_predictions)\n",
        "\n",
        "print(\"Accuracy\",accuracy_score(and_labels, and_predictions))\n",
        "print()\n",
        "print(\"Iterations:\")\n",
        "print(iters)"
      ],
      "execution_count": 3,
      "outputs": [
        {
          "output_type": "stream",
          "text": [
            "N. epochs 10\n",
            "Epoch: 1\n",
            "update\n",
            "update\n",
            "Epoch: 2\n",
            "update\n",
            "update\n",
            "Epoch: 3\n",
            "update\n",
            "update\n",
            "update\n",
            "Epoch: 4\n",
            "update\n",
            "update\n",
            "Epoch: 5\n",
            "update\n",
            "update\n",
            "Epoch: 6\n",
            "Epoch: 7\n",
            "Epoch: 8\n",
            "Epoch: 9\n",
            "Epoch: 10\n",
            "[ 1 -1 -1 -1]\n",
            "Accuracy 1.0\n",
            "\n",
            "Iterations:\n",
            "[(array([-0.2307137 , -0.27797877]), -1), (array([-0.2307137 ,  0.72202123]), -1), (array([-0.2307137 ,  0.72202123]), -2), (array([0.7692863 , 0.72202123]), -2), (array([0.7692863 , 1.72202123]), -2), (array([0.7692863 , 1.72202123]), -2), (array([0.7692863 , 1.72202123]), -2), (array([0.7692863 , 1.72202123]), -2), (array([0.7692863 , 1.72202123]), -2), (array([0.7692863 , 1.72202123]), -2)]\n"
          ],
          "name": "stdout"
        }
      ]
    },
    {
      "cell_type": "markdown",
      "metadata": {
        "id": "s_gni7mTdGmg"
      },
      "source": [
        "## Exercise\n",
        "\n",
        "Create OR data and rerun the perceptron"
      ]
    },
    {
      "cell_type": "code",
      "metadata": {
        "id": "ruF3cALZdGmi",
        "colab": {
          "base_uri": "https://localhost:8080/"
        },
        "outputId": "f3bb9585-1d0e-40b2-f6f4-5f245ce5f854"
      },
      "source": [
        "# OR perceptron\n",
        "perceptron = Perceptron(2)\n",
        "\n",
        "or_data = np.array([[1, 1], [1, 0], [0, 1], [0, 0]])\n",
        "or_labels = np.array([1, 1, 1, -1], dtype=np.int)\n",
        "\n",
        "iters = perceptron.fit(or_data, or_labels, num_epochs=10)\n",
        "or_predictions = perceptron.predict(or_data)\n",
        "\n",
        "print(or_predictions)\n",
        "\n",
        "print(\"Accuracy\",accuracy_score(or_labels, or_predictions))\n",
        "print()\n",
        "print(\"Iterations:\")\n",
        "print(iters)"
      ],
      "execution_count": 4,
      "outputs": [
        {
          "output_type": "stream",
          "text": [
            "N. epochs 10\n",
            "Epoch: 1\n",
            "update\n",
            "Epoch: 2\n",
            "update\n",
            "Epoch: 3\n",
            "update\n",
            "update\n",
            "Epoch: 4\n",
            "update\n",
            "update\n",
            "Epoch: 5\n",
            "Epoch: 6\n",
            "Epoch: 7\n",
            "Epoch: 8\n",
            "Epoch: 9\n",
            "Epoch: 10\n",
            "[ 1  1  1 -1]\n",
            "Accuracy 1.0\n",
            "\n",
            "Iterations:\n",
            "[(array([0.94885501, 0.28632564]), 0), (array([0.94885501, 0.28632564]), -1), (array([1.94885501, 0.28632564]), -1), (array([1.94885501, 1.28632564]), -1), (array([1.94885501, 1.28632564]), -1), (array([1.94885501, 1.28632564]), -1), (array([1.94885501, 1.28632564]), -1), (array([1.94885501, 1.28632564]), -1), (array([1.94885501, 1.28632564]), -1), (array([1.94885501, 1.28632564]), -1)]\n"
          ],
          "name": "stdout"
        }
      ]
    },
    {
      "cell_type": "markdown",
      "metadata": {
        "id": "PhRozQCedGmn"
      },
      "source": [
        "But what about the XOR?"
      ]
    },
    {
      "cell_type": "code",
      "metadata": {
        "id": "dWD_FJaZdGmn",
        "colab": {
          "base_uri": "https://localhost:8080/"
        },
        "outputId": "f85c2ae8-a1d2-4ff6-f013-06e796a39ed1"
      },
      "source": [
        "# XOR perceptron\n",
        "perceptron = Perceptron(2)\n",
        " \n",
        "xor_data = np.array([[1, 1], [1, 0], [0, 1], [0, 0]])\n",
        "xor_labels = np.array([1, -1, -1, 1], dtype=np.int)\n",
        " \n",
        "iters = perceptron.fit(xor_data, xor_labels, num_epochs=10)\n",
        "xor_predictions = perceptron.predict(xor_data)\n",
        " \n",
        "print(xor_predictions)\n",
        " \n",
        "print(\"Accuracy\",accuracy_score(xor_labels, xor_predictions))\n",
        "print()\n",
        "print(\"Iterations:\")\n",
        "print(iters)"
      ],
      "execution_count": 5,
      "outputs": [
        {
          "output_type": "stream",
          "text": [
            "N. epochs 10\n",
            "Epoch: 1\n",
            "update\n",
            "update\n",
            "update\n",
            "Epoch: 2\n",
            "update\n",
            "update\n",
            "update\n",
            "update\n",
            "Epoch: 3\n",
            "update\n",
            "update\n",
            "update\n",
            "update\n",
            "Epoch: 4\n",
            "update\n",
            "update\n",
            "update\n",
            "update\n",
            "Epoch: 5\n",
            "update\n",
            "update\n",
            "update\n",
            "update\n",
            "Epoch: 6\n",
            "update\n",
            "update\n",
            "update\n",
            "update\n",
            "Epoch: 7\n",
            "update\n",
            "update\n",
            "update\n",
            "update\n",
            "Epoch: 8\n",
            "update\n",
            "update\n",
            "update\n",
            "update\n",
            "Epoch: 9\n",
            "update\n",
            "update\n",
            "update\n",
            "update\n",
            "Epoch: 10\n",
            "update\n",
            "update\n",
            "update\n",
            "update\n",
            "[-1 -1 -1  1]\n",
            "Accuracy 0.75\n",
            "\n",
            "Iterations:\n",
            "[(array([-0.25024573, -0.08589894]), 0), (array([-0.25024573, -0.08589894]), 0), (array([-0.25024573, -0.08589894]), 0), (array([-0.25024573, -0.08589894]), 0), (array([-0.25024573, -0.08589894]), 0), (array([-0.25024573, -0.08589894]), 0), (array([-0.25024573, -0.08589894]), 0), (array([-0.25024573, -0.08589894]), 0), (array([-0.25024573, -0.08589894]), 0), (array([-0.25024573, -0.08589894]), 0)]\n"
          ],
          "name": "stdout"
        }
      ]
    },
    {
      "cell_type": "markdown",
      "metadata": {
        "id": "bAbIRP8AdGmp"
      },
      "source": [
        "Perceptrons are **linear classifiers**. I.e., they can only find a perfect fit to **linearly seperable data**\n",
        "\n",
        "If only first order features are used"
      ]
    },
    {
      "cell_type": "markdown",
      "metadata": {
        "nbpresent": {
          "id": "67ca55d4-28b9-410e-9921-08d943aa3151"
        },
        "id": "DGBLHfmjdGmq"
      },
      "source": [
        "# Multilayer perceptron to the rescue!\n",
        "- Data that is distributed non-linearly (e.g. XOR) cannot be learned by perceptron\n",
        "- At least not without tedious feature engineering\n",
        "\n",
        "**Stacking several perceptrons increases expressive power!**\n",
        "\n",
        "- learning intermediate/partial representations at intermediate layers\n",
        "\n",
        "**Let's see how it works in `keras`**\n"
      ]
    },
    {
      "cell_type": "markdown",
      "metadata": {
        "id": "S5KnKFU8LAtC"
      },
      "source": [
        "<img src=\"https://s3.amazonaws.com/keras.io/img/keras-logo-2018-large-1200.png\" width=\"20%\" />\n",
        "\n",
        "## Keras: Deep Learning library for Theano and TensorFlow"
      ]
    },
    {
      "cell_type": "markdown",
      "metadata": {
        "id": "D0F3172rLAtE"
      },
      "source": [
        ">Keras is a minimalist, highly modular neural networks library, written in Python and capable of running on top of either TensorFlow or Theano. \n",
        "\n",
        ">It was developed with a focus on enabling fast experimentation. Being able to go from idea to result with the least possible delay is key to doing good research.\n",
        "ref: https://keras.io/"
      ]
    },
    {
      "cell_type": "code",
      "metadata": {
        "id": "Hls6HsrFdGmr"
      },
      "source": [
        "def gaussian_data(num, epsilon=1):\n",
        "    '''\n",
        "    generates a data set from two overlapping Gaussian point clouds\n",
        "    '''\n",
        "    x1_p1 = np.random.normal(1 + epsilon, size=num//2)\n",
        "    x2_p1 = np.random.normal(1, size=num//2)\n",
        "\n",
        "    x1_p2 = np.random.normal(-(1 + epsilon), size=num//2)\n",
        "    x2_p2 = np.random.normal(-(1 + epsilon), size=num//2)\n",
        "\n",
        "    x1 = np.concatenate([x1_p1, x1_p2])\n",
        "    x2 = np.concatenate([x2_p1, x2_p2])\n",
        "\n",
        "    labels = np.zeros((num, 2))\n",
        "    labels[:num//2, 0] = 1\n",
        "    labels[num//2:, 1] = 1\n",
        "    return x1, x2, labels\n",
        "\n",
        "def XOR_sample(sample_size, ratio=0.5, x1_p1_mean=25, x1_p2_mean=50, x2_p1_mean=5, x2_p2_mean=2, epsilon = 0.1):\n",
        "    size1 = int(sample_size * ratio)\n",
        "    size2 = sample_size - size1\n",
        "    \n",
        "    x1 = np.random.normal(loc=x1_p1_mean, size=size1//2)\n",
        "    x1 = np.hstack((x1, np.random.normal(loc=-x1_p1_mean, size=size1//2)))   \n",
        "    x1 = np.hstack((x1, np.random.normal(loc=x1_p2_mean, size=size2//2)))\n",
        "    x1 = np.hstack((x1, np.random.normal(loc=-x1_p2_mean, size=size2//2)))\n",
        "    \n",
        "    x2 = np.random.normal(loc=x2_p1_mean, size=size1//2)\n",
        "    x2 = np.hstack((x2, np.random.normal(loc=-x2_p1_mean, size=size1//2)))\n",
        "    x2 = np.hstack((x2, np.random.normal(loc=x2_p2_mean, size=size2//2)))\n",
        "    x2 = np.hstack((x2, np.random.normal(loc=-x2_p2_mean, size=size2//2)))\n",
        "    \n",
        "    labels = np.zeros((sample_size, 2))\n",
        "    labels[:sample_size//2, 0] = 1\n",
        "    labels[sample_size//2:, 1] = 1\n",
        "\n",
        "    return x1, x2, labels\n"
      ],
      "execution_count": 6,
      "outputs": []
    },
    {
      "cell_type": "code",
      "metadata": {
        "id": "eVQo3yvudGmt",
        "colab": {
          "base_uri": "https://localhost:8080/",
          "height": 285
        },
        "outputId": "d08e0a0c-95d7-4a1f-dc27-1e034d0da1dc"
      },
      "source": [
        "# let's get some data\n",
        "num_samples = 5000\n",
        "half = num_samples//2\n",
        "a,b,y = XOR_sample(num_samples)\n",
        "\n",
        "X = np.vstack((a,b)).T\n",
        "\n",
        "pd.DataFrame({'x1': a, 'x2': b}).plot.scatter(x='x1', y='x2', c=['red']*half + ['blue']*half);"
      ],
      "execution_count": 7,
      "outputs": [
        {
          "output_type": "display_data",
          "data": {
            "image/png": "[encoded data removed]",
            "text/plain": [
              "<Figure size 432x288 with 1 Axes>"
            ]
          },
          "metadata": {
            "tags": [],
            "needs_background": "light"
          }
        }
      ]
    },
    {
      "cell_type": "code",
      "metadata": {
        "colab": {
          "base_uri": "https://localhost:8080/"
        },
        "id": "VkFcbt9DP_6g",
        "outputId": "6f7f7db6-f303-4e42-f6ed-8d7aad4b5ade"
      },
      "source": [
        "X"
      ],
      "execution_count": 8,
      "outputs": [
        {
          "output_type": "execute_result",
          "data": {
            "text/plain": [
              "array([[ 23.99389831,   4.98460959],\n",
              "       [ 23.11841405,   5.46214899],\n",
              "       [ 25.1184894 ,   5.44340871],\n",
              "       ...,\n",
              "       [-50.05588257,  -2.88181392],\n",
              "       [-47.92897669,  -0.52609888],\n",
              "       [-49.45062966,  -0.90462926]])"
            ]
          },
          "metadata": {
            "tags": []
          },
          "execution_count": 8
        }
      ]
    },
    {
      "cell_type": "code",
      "metadata": {
        "colab": {
          "base_uri": "https://localhost:8080/"
        },
        "id": "7TfvxGLhQDry",
        "outputId": "2421c86e-ed60-42e8-9af1-8a062095fe2e"
      },
      "source": [
        "X.shape"
      ],
      "execution_count": 9,
      "outputs": [
        {
          "output_type": "execute_result",
          "data": {
            "text/plain": [
              "(5000, 2)"
            ]
          },
          "metadata": {
            "tags": []
          },
          "execution_count": 9
        }
      ]
    },
    {
      "cell_type": "code",
      "metadata": {
        "colab": {
          "base_uri": "https://localhost:8080/"
        },
        "id": "vHWoe10DuA-u",
        "outputId": "d3a15cbf-2f40-41ee-80b0-2b93f8c49fc1"
      },
      "source": [
        "y"
      ],
      "execution_count": 10,
      "outputs": [
        {
          "output_type": "execute_result",
          "data": {
            "text/plain": [
              "array([[1., 0.],\n",
              "       [1., 0.],\n",
              "       [1., 0.],\n",
              "       ...,\n",
              "       [0., 1.],\n",
              "       [0., 1.],\n",
              "       [0., 1.]])"
            ]
          },
          "metadata": {
            "tags": []
          },
          "execution_count": 10
        }
      ]
    },
    {
      "cell_type": "code",
      "metadata": {
        "colab": {
          "base_uri": "https://localhost:8080/"
        },
        "id": "a7cJ_LvvQPwO",
        "outputId": "bbb65aba-0c09-481c-fd4e-14c0b1813fab"
      },
      "source": [
        "y.shape #2:two classes (red and blue)"
      ],
      "execution_count": 11,
      "outputs": [
        {
          "output_type": "execute_result",
          "data": {
            "text/plain": [
              "(5000, 2)"
            ]
          },
          "metadata": {
            "tags": []
          },
          "execution_count": 11
        }
      ]
    },
    {
      "cell_type": "code",
      "metadata": {
        "id": "wk_kF4cFdGmv"
      },
      "source": [
        "from keras.models import Model\n",
        "from keras.layers import Input, Dense\n",
        "\n",
        "# input: a sequence  of 2 integers\n",
        "main_input = Input(shape=(2, ), name='main_input')\n",
        "\n",
        "# add the output layer\n",
        "output = Dense(2, activation='hard_sigmoid', name='output', kernel_initializer='glorot_uniform')(main_input)\n",
        "\n",
        "# f(X) = sigmoid(X*W + b)\n",
        "\n",
        "# the model is specified by connecting input and output\n",
        "perceptron_keras = Model(inputs=[main_input], outputs=[output])"
      ],
      "execution_count": 12,
      "outputs": []
    },
    {
      "cell_type": "code",
      "metadata": {
        "id": "ZGAquco5dGmx",
        "colab": {
          "base_uri": "https://localhost:8080/"
        },
        "outputId": "9c588350-7071-4c47-f999-5dce2e4981f0"
      },
      "source": [
        "perceptron_keras.summary()"
      ],
      "execution_count": 13,
      "outputs": [
        {
          "output_type": "stream",
          "text": [
            "Model: \"model\"\n",
            "_________________________________________________________________\n",
            "Layer (type)                 Output Shape              Param #   \n",
            "=================================================================\n",
            "main_input (InputLayer)      [(None, 2)]               0         \n",
            "_________________________________________________________________\n",
            "output (Dense)               (None, 2)                 6         \n",
            "=================================================================\n",
            "Total params: 6\n",
            "Trainable params: 6\n",
            "Non-trainable params: 0\n",
            "_________________________________________________________________\n"
          ],
          "name": "stdout"
        }
      ]
    },
    {
      "cell_type": "code",
      "metadata": {
        "id": "kM6fjB4PdGmz",
        "colab": {
          "base_uri": "https://localhost:8080/"
        },
        "outputId": "3cb7b83c-dcd4-4bc4-d831-9687e07ed08d"
      },
      "source": [
        "from sklearn.metrics import f1_score\n",
        "#training\n",
        "perceptron_keras.compile(loss='binary_crossentropy',\n",
        "              optimizer='sgd',\n",
        "              metrics=['accuracy'])#-->to evaluate the model through the training\n",
        "\n",
        "history = perceptron_keras.fit(X, y,\n",
        "                    epochs=15,\n",
        "                    verbose=1,\n",
        "                    validation_split=0.2 # test data\n",
        "                )\n",
        "\n",
        "loss, accuracy = perceptron_keras.evaluate(X, y,\n",
        "                                           batch_size=20, \n",
        "                                           verbose=1)\n",
        "print('Test loss:', loss)\n",
        "print('Test accuracy:', accuracy)"
      ],
      "execution_count": 14,
      "outputs": [
        {
          "output_type": "stream",
          "text": [
            "Epoch 1/15\n",
            "125/125 [==============================] - 1s 6ms/step - loss: 7.3719 - accuracy: 0.6371 - val_loss: 7.6246 - val_accuracy: 0.0000e+00\n",
            "Epoch 2/15\n",
            "125/125 [==============================] - 0s 1ms/step - loss: 7.6787 - accuracy: 0.6360 - val_loss: 7.6246 - val_accuracy: 0.0000e+00\n",
            "Epoch 3/15\n",
            "125/125 [==============================] - 0s 1ms/step - loss: 7.6791 - accuracy: 0.6194 - val_loss: 7.6246 - val_accuracy: 0.0000e+00\n",
            "Epoch 4/15\n",
            "125/125 [==============================] - 0s 2ms/step - loss: 7.6793 - accuracy: 0.6221 - val_loss: 7.6246 - val_accuracy: 0.0000e+00\n",
            "Epoch 5/15\n",
            "125/125 [==============================] - 0s 1ms/step - loss: 7.6788 - accuracy: 0.6253 - val_loss: 7.6246 - val_accuracy: 0.0000e+00\n",
            "Epoch 6/15\n",
            "125/125 [==============================] - 0s 2ms/step - loss: 7.6798 - accuracy: 0.6188 - val_loss: 7.6246 - val_accuracy: 0.0000e+00\n",
            "Epoch 7/15\n",
            "125/125 [==============================] - 0s 2ms/step - loss: 7.6793 - accuracy: 0.6341 - val_loss: 7.6246 - val_accuracy: 0.0000e+00\n",
            "Epoch 8/15\n",
            "125/125 [==============================] - 0s 2ms/step - loss: 7.6798 - accuracy: 0.6102 - val_loss: 7.6246 - val_accuracy: 0.0000e+00\n",
            "Epoch 9/15\n",
            "125/125 [==============================] - 0s 2ms/step - loss: 7.6803 - accuracy: 0.6299 - val_loss: 7.6246 - val_accuracy: 0.0000e+00\n",
            "Epoch 10/15\n",
            "125/125 [==============================] - 0s 1ms/step - loss: 7.6782 - accuracy: 0.6360 - val_loss: 7.6246 - val_accuracy: 0.0000e+00\n",
            "Epoch 11/15\n",
            "125/125 [==============================] - 0s 2ms/step - loss: 7.6792 - accuracy: 0.6220 - val_loss: 7.6246 - val_accuracy: 0.0000e+00\n",
            "Epoch 12/15\n",
            "125/125 [==============================] - 0s 1ms/step - loss: 7.6792 - accuracy: 0.6220 - val_loss: 7.6246 - val_accuracy: 0.0000e+00\n",
            "Epoch 13/15\n",
            "125/125 [==============================] - 0s 1ms/step - loss: 7.6802 - accuracy: 0.6254 - val_loss: 7.6246 - val_accuracy: 0.0000e+00\n",
            "Epoch 14/15\n",
            "125/125 [==============================] - 0s 2ms/step - loss: 7.6794 - accuracy: 0.6351 - val_loss: 7.6246 - val_accuracy: 0.0000e+00\n",
            "Epoch 15/15\n",
            "125/125 [==============================] - 0s 2ms/step - loss: 7.6801 - accuracy: 0.6207 - val_loss: 7.6246 - val_accuracy: 0.0000e+00\n",
            "250/250 [==============================] - 0s 1ms/step - loss: 7.6685 - accuracy: 0.5000\n",
            "Test loss: 7.668547630310059\n",
            "Test accuracy: 0.5\n"
          ],
          "name": "stdout"
        }
      ]
    },
    {
      "cell_type": "code",
      "metadata": {
        "id": "jyvAGARxdGm2",
        "colab": {
          "base_uri": "https://localhost:8080/",
          "height": 287
        },
        "outputId": "f40df378-2d9c-4b43-f3b9-c4384f855556"
      },
      "source": [
        "pd.DataFrame(history.history).plot.line()"
      ],
      "execution_count": 15,
      "outputs": [
        {
          "output_type": "execute_result",
          "data": {
            "text/plain": [
              "<matplotlib.axes._subplots.AxesSubplot at 0x7f682cbe3f10>"
            ]
          },
          "metadata": {
            "tags": []
          },
          "execution_count": 15
        },
        {
          "output_type": "display_data",
          "data": {
            "image/png": "[encoded data removed]",
            "text/plain": [
              "<Figure size 432x288 with 1 Axes>"
            ]
          },
          "metadata": {
            "tags": [],
            "needs_background": "light"
          }
        }
      ]
    },
    {
      "cell_type": "code",
      "metadata": {
        "id": "qA2CpwwDdGm4",
        "colab": {
          "base_uri": "https://localhost:8080/"
        },
        "outputId": "1ecbe024-9044-4e0c-afc5-1700e9f0903e"
      },
      "source": [
        "predictions = perceptron_keras.predict(X).argmax(axis=1)\n",
        "accuracy_score(y.argmax(axis=1), predictions)"
      ],
      "execution_count": 16,
      "outputs": [
        {
          "output_type": "execute_result",
          "data": {
            "text/plain": [
              "0.5"
            ]
          },
          "metadata": {
            "tags": []
          },
          "execution_count": 16
        }
      ]
    },
    {
      "cell_type": "code",
      "metadata": {
        "colab": {
          "base_uri": "https://localhost:8080/"
        },
        "id": "kEyG7Pvi7gpS",
        "outputId": "13f7871f-1e9f-4e43-f86b-1ceed2aed4d5"
      },
      "source": [
        "perceptron_keras.predict(X)"
      ],
      "execution_count": 17,
      "outputs": [
        {
          "output_type": "execute_result",
          "data": {
            "text/plain": [
              "array([[0., 0.],\n",
              "       [0., 0.],\n",
              "       [0., 0.],\n",
              "       ...,\n",
              "       [1., 1.],\n",
              "       [1., 1.],\n",
              "       [1., 1.]], dtype=float32)"
            ]
          },
          "metadata": {
            "tags": []
          },
          "execution_count": 17
        }
      ]
    },
    {
      "cell_type": "code",
      "metadata": {
        "id": "7tLLusKmdGm6",
        "colab": {
          "base_uri": "https://localhost:8080/",
          "height": 502
        },
        "outputId": "ecaf1f75-6370-400f-b0a6-4d8fe3346a81"
      },
      "source": [
        "def get_y(x, w1, w2, bias):\n",
        "    '''\n",
        "    compute y value for specific x, given the weights and bias\n",
        "    (helper function for decision boundary)\n",
        "    '''\n",
        "    return ((-(x * w1) - bias) / w2)\n",
        "    \n",
        "fig, ax = plt.subplots(figsize=(10,8))\n",
        "pd.DataFrame({'x1': a, 'x2': b}).plot.scatter(x='x1', y='x2', c=['red']*half + ['blue']*half, ax=ax);\n",
        "\n",
        "(w1, w2), bias = perceptron_keras.get_weights()\n",
        "xmin, xmax = X[:,0].min() - 1, X[:,0].max() + 1\n",
        "ymin, ymax = X[:,1].min() - 1, X[:,1].max() + 1\n",
        "\n",
        "ax.plot([xmin, xmax], [get_y(xmin, w1, w2, bias)[1], get_y(xmax, w1, w2, bias)[1]], marker='o', color='green');\n"
      ],
      "execution_count": 18,
      "outputs": [
        {
          "output_type": "display_data",
          "data": {
            "image/png": "[encoded data removed]",
            "text/plain": [
              "<Figure size 720x576 with 1 Axes>"
            ]
          },
          "metadata": {
            "tags": [],
            "needs_background": "light"
          }
        }
      ]
    },
    {
      "cell_type": "markdown",
      "metadata": {
        "id": "0EzG65qfdGm8"
      },
      "source": [
        "## MLP"
      ]
    },
    {
      "cell_type": "code",
      "metadata": {
        "id": "56FkOJ1tdGm8",
        "colab": {
          "base_uri": "https://localhost:8080/"
        },
        "outputId": "68bcf5ee-80bc-4c2a-922f-4b0e483e5225"
      },
      "source": [
        "# input: a sequence  of 2 integers\n",
        "mlp_input = Input(shape=(2,), name='main_input')\n",
        "\n",
        "# add a hidden layer (16 neurons)\n",
        "mlp_hidden = Dense(16, activation='relu', name='hidden', kernel_initializer='glorot_uniform')(mlp_input)\n",
        "\n",
        "# add the output layer\n",
        "mlp_output = Dense(2, activation='softmax', name='output', kernel_initializer='glorot_uniform')(mlp_hidden)\n",
        "\n",
        "# the model is specified by connecting input and output\n",
        "mlp = Model(inputs=[mlp_input], outputs=[mlp_output])\n",
        "\n",
        "mlp.summary()"
      ],
      "execution_count": 19,
      "outputs": [
        {
          "output_type": "stream",
          "text": [
            "Model: \"model_1\"\n",
            "_________________________________________________________________\n",
            "Layer (type)                 Output Shape              Param #   \n",
            "=================================================================\n",
            "main_input (InputLayer)      [(None, 2)]               0         \n",
            "_________________________________________________________________\n",
            "hidden (Dense)               (None, 16)                48        \n",
            "_________________________________________________________________\n",
            "output (Dense)               (None, 2)                 34        \n",
            "=================================================================\n",
            "Total params: 82\n",
            "Trainable params: 82\n",
            "Non-trainable params: 0\n",
            "_________________________________________________________________\n"
          ],
          "name": "stdout"
        }
      ]
    },
    {
      "cell_type": "code",
      "metadata": {
        "scrolled": true,
        "id": "lFkGmrfDdGm-",
        "colab": {
          "base_uri": "https://localhost:8080/"
        },
        "outputId": "3fa8619e-ca5f-422d-b85b-0037f18cb9ca"
      },
      "source": [
        "from keras import optimizers\n",
        "\n",
        "optimizer = optimizers.Adam(lr=0.001)\n",
        "\n",
        "mlp.compile(loss='binary_crossentropy',\n",
        "              optimizer=optimizer,\n",
        "              metrics=['accuracy']\n",
        "           )\n",
        "\n",
        "mlp_history = mlp.fit(X, y,\n",
        "                    epochs=50,\n",
        "                    verbose=1,\n",
        "                    validation_split=0.2)"
      ],
      "execution_count": 20,
      "outputs": [
        {
          "output_type": "stream",
          "text": [
            "Epoch 1/50\n",
            "125/125 [==============================] - 1s 3ms/step - loss: 1.1871 - accuracy: 0.4783 - val_loss: 0.9941 - val_accuracy: 0.0000e+00\n",
            "Epoch 2/50\n",
            "125/125 [==============================] - 0s 2ms/step - loss: 0.4413 - accuracy: 0.8181 - val_loss: 0.7993 - val_accuracy: 0.3530\n",
            "Epoch 3/50\n",
            "125/125 [==============================] - 0s 2ms/step - loss: 0.3468 - accuracy: 0.9532 - val_loss: 0.5496 - val_accuracy: 0.7830\n",
            "Epoch 4/50\n",
            "125/125 [==============================] - 0s 1ms/step - loss: 0.2532 - accuracy: 0.9874 - val_loss: 0.3771 - val_accuracy: 0.9350\n",
            "Epoch 5/50\n",
            "125/125 [==============================] - 0s 2ms/step - loss: 0.1802 - accuracy: 0.9949 - val_loss: 0.2778 - val_accuracy: 0.9640\n",
            "Epoch 6/50\n",
            "125/125 [==============================] - 0s 2ms/step - loss: 0.1301 - accuracy: 0.9953 - val_loss: 0.2399 - val_accuracy: 0.9660\n",
            "Epoch 7/50\n",
            "125/125 [==============================] - 0s 1ms/step - loss: 0.0961 - accuracy: 0.9975 - val_loss: 0.1962 - val_accuracy: 0.9750\n",
            "Epoch 8/50\n",
            "125/125 [==============================] - 0s 2ms/step - loss: 0.0735 - accuracy: 0.9971 - val_loss: 0.1558 - val_accuracy: 0.9790\n",
            "Epoch 9/50\n",
            "125/125 [==============================] - 0s 1ms/step - loss: 0.0567 - accuracy: 0.9984 - val_loss: 0.1294 - val_accuracy: 0.9810\n",
            "Epoch 10/50\n",
            "125/125 [==============================] - 0s 1ms/step - loss: 0.0487 - accuracy: 0.9968 - val_loss: 0.1090 - val_accuracy: 0.9840\n",
            "Epoch 11/50\n",
            "125/125 [==============================] - 0s 2ms/step - loss: 0.0377 - accuracy: 0.9979 - val_loss: 0.0933 - val_accuracy: 0.9850\n",
            "Epoch 12/50\n",
            "125/125 [==============================] - 0s 2ms/step - loss: 0.0338 - accuracy: 0.9977 - val_loss: 0.0639 - val_accuracy: 0.9920\n",
            "Epoch 13/50\n",
            "125/125 [==============================] - 0s 2ms/step - loss: 0.0298 - accuracy: 0.9986 - val_loss: 0.0505 - val_accuracy: 0.9960\n",
            "Epoch 14/50\n",
            "125/125 [==============================] - 0s 1ms/step - loss: 0.0255 - accuracy: 0.9986 - val_loss: 0.0761 - val_accuracy: 0.9840\n",
            "Epoch 15/50\n",
            "125/125 [==============================] - 0s 2ms/step - loss: 0.0217 - accuracy: 0.9982 - val_loss: 0.0567 - val_accuracy: 0.9890\n",
            "Epoch 16/50\n",
            "125/125 [==============================] - 0s 2ms/step - loss: 0.0197 - accuracy: 0.9984 - val_loss: 0.0541 - val_accuracy: 0.9890\n",
            "Epoch 17/50\n",
            "125/125 [==============================] - 0s 2ms/step - loss: 0.0181 - accuracy: 0.9987 - val_loss: 0.0322 - val_accuracy: 0.9970\n",
            "Epoch 18/50\n",
            "125/125 [==============================] - 0s 2ms/step - loss: 0.0161 - accuracy: 0.9989 - val_loss: 0.0354 - val_accuracy: 0.9960\n",
            "Epoch 19/50\n",
            "125/125 [==============================] - 0s 2ms/step - loss: 0.0167 - accuracy: 0.9970 - val_loss: 0.0521 - val_accuracy: 0.9870\n",
            "Epoch 20/50\n",
            "125/125 [==============================] - 0s 2ms/step - loss: 0.0142 - accuracy: 0.9974 - val_loss: 0.0385 - val_accuracy: 0.9920\n",
            "Epoch 21/50\n",
            "125/125 [==============================] - 0s 2ms/step - loss: 0.0121 - accuracy: 0.9992 - val_loss: 0.0309 - val_accuracy: 0.9960\n",
            "Epoch 22/50\n",
            "125/125 [==============================] - 0s 2ms/step - loss: 0.0129 - accuracy: 0.9969 - val_loss: 0.0215 - val_accuracy: 0.9970\n",
            "Epoch 23/50\n",
            "125/125 [==============================] - 0s 2ms/step - loss: 0.0111 - accuracy: 0.9986 - val_loss: 0.0278 - val_accuracy: 0.9960\n",
            "Epoch 24/50\n",
            "125/125 [==============================] - 0s 1ms/step - loss: 0.0099 - accuracy: 0.9985 - val_loss: 0.0223 - val_accuracy: 0.9970\n",
            "Epoch 25/50\n",
            "125/125 [==============================] - 0s 2ms/step - loss: 0.0107 - accuracy: 0.9984 - val_loss: 0.0148 - val_accuracy: 0.9970\n",
            "Epoch 26/50\n",
            "125/125 [==============================] - 0s 2ms/step - loss: 0.0091 - accuracy: 0.9990 - val_loss: 0.0311 - val_accuracy: 0.9920\n",
            "Epoch 27/50\n",
            "125/125 [==============================] - 0s 1ms/step - loss: 0.0108 - accuracy: 0.9965 - val_loss: 0.0261 - val_accuracy: 0.9940\n",
            "Epoch 28/50\n",
            "125/125 [==============================] - 0s 2ms/step - loss: 0.0080 - accuracy: 0.9982 - val_loss: 0.0268 - val_accuracy: 0.9940\n",
            "Epoch 29/50\n",
            "125/125 [==============================] - 0s 1ms/step - loss: 0.0081 - accuracy: 0.9992 - val_loss: 0.0172 - val_accuracy: 0.9970\n",
            "Epoch 30/50\n",
            "125/125 [==============================] - 0s 2ms/step - loss: 0.0069 - accuracy: 0.9989 - val_loss: 0.0168 - val_accuracy: 0.9970\n",
            "Epoch 31/50\n",
            "125/125 [==============================] - 0s 2ms/step - loss: 0.0084 - accuracy: 0.9982 - val_loss: 0.0276 - val_accuracy: 0.9920\n",
            "Epoch 32/50\n",
            "125/125 [==============================] - 0s 2ms/step - loss: 0.0065 - accuracy: 0.9984 - val_loss: 0.0074 - val_accuracy: 0.9990\n",
            "Epoch 33/50\n",
            "125/125 [==============================] - 0s 2ms/step - loss: 0.0064 - accuracy: 0.9992 - val_loss: 0.0077 - val_accuracy: 0.9990\n",
            "Epoch 34/50\n",
            "125/125 [==============================] - 0s 1ms/step - loss: 0.0074 - accuracy: 0.9988 - val_loss: 0.0069 - val_accuracy: 0.9990\n",
            "Epoch 35/50\n",
            "125/125 [==============================] - 0s 2ms/step - loss: 0.0056 - accuracy: 0.9990 - val_loss: 0.0149 - val_accuracy: 0.9970\n",
            "Epoch 36/50\n",
            "125/125 [==============================] - 0s 2ms/step - loss: 0.0055 - accuracy: 0.9985 - val_loss: 0.0167 - val_accuracy: 0.9970\n",
            "Epoch 37/50\n",
            "125/125 [==============================] - 0s 2ms/step - loss: 0.0064 - accuracy: 0.9982 - val_loss: 0.0066 - val_accuracy: 0.9990\n",
            "Epoch 38/50\n",
            "125/125 [==============================] - 0s 2ms/step - loss: 0.0080 - accuracy: 0.9973 - val_loss: 0.0099 - val_accuracy: 0.9970\n",
            "Epoch 39/50\n",
            "125/125 [==============================] - 0s 2ms/step - loss: 0.0058 - accuracy: 0.9995 - val_loss: 0.0078 - val_accuracy: 0.9970\n",
            "Epoch 40/50\n",
            "125/125 [==============================] - 0s 2ms/step - loss: 0.0048 - accuracy: 0.9994 - val_loss: 0.0069 - val_accuracy: 0.9970\n",
            "Epoch 41/50\n",
            "125/125 [==============================] - 0s 2ms/step - loss: 0.0049 - accuracy: 0.9996 - val_loss: 0.0062 - val_accuracy: 0.9990\n",
            "Epoch 42/50\n",
            "125/125 [==============================] - 0s 2ms/step - loss: 0.0051 - accuracy: 0.9988 - val_loss: 0.0093 - val_accuracy: 0.9970\n",
            "Epoch 43/50\n",
            "125/125 [==============================] - 0s 2ms/step - loss: 0.0047 - accuracy: 0.9997 - val_loss: 0.0157 - val_accuracy: 0.9970\n",
            "Epoch 44/50\n",
            "125/125 [==============================] - 0s 1ms/step - loss: 0.0039 - accuracy: 0.9995 - val_loss: 0.0098 - val_accuracy: 0.9970\n",
            "Epoch 45/50\n",
            "125/125 [==============================] - 0s 2ms/step - loss: 0.0047 - accuracy: 0.9982 - val_loss: 0.0099 - val_accuracy: 0.9970\n",
            "Epoch 46/50\n",
            "125/125 [==============================] - 0s 1ms/step - loss: 0.0040 - accuracy: 0.9992 - val_loss: 0.0142 - val_accuracy: 0.9970\n",
            "Epoch 47/50\n",
            "125/125 [==============================] - 0s 1ms/step - loss: 0.0038 - accuracy: 0.9990 - val_loss: 0.0035 - val_accuracy: 0.9990\n",
            "Epoch 48/50\n",
            "125/125 [==============================] - 0s 2ms/step - loss: 0.0039 - accuracy: 0.9991 - val_loss: 0.0083 - val_accuracy: 0.9970\n",
            "Epoch 49/50\n",
            "125/125 [==============================] - 0s 2ms/step - loss: 0.0037 - accuracy: 0.9991 - val_loss: 0.0137 - val_accuracy: 0.9970\n",
            "Epoch 50/50\n",
            "125/125 [==============================] - 0s 2ms/step - loss: 0.0042 - accuracy: 0.9981 - val_loss: 0.0068 - val_accuracy: 0.9970\n"
          ],
          "name": "stdout"
        }
      ]
    },
    {
      "cell_type": "code",
      "metadata": {
        "id": "QmbTZBgkdGnA",
        "colab": {
          "base_uri": "https://localhost:8080/",
          "height": 1000
        },
        "outputId": "94ef7689-d6ef-4703-a00c-9c51bb1fedf2"
      },
      "source": [
        "mlp_history = pd.DataFrame(mlp_history.history)\n",
        "mlp_history\n"
      ],
      "execution_count": 21,
      "outputs": [
        {
          "output_type": "execute_result",
          "data": {
            "text/html": [
              "<div>\n",
              "<style scoped>\n",
              "    .dataframe tbody tr th:only-of-type {\n",
              "        vertical-align: middle;\n",
              "    }\n",
              "\n",
              "    .dataframe tbody tr th {\n",
              "        vertical-align: top;\n",
              "    }\n",
              "\n",
              "    .dataframe thead th {\n",
              "        text-align: right;\n",
              "    }\n",
              "</style>\n",
              "<table border=\"1\" class=\"dataframe\">\n",
              "  <thead>\n",
              "    <tr style=\"text-align: right;\">\n",
              "      <th></th>\n",
              "      <th>loss</th>\n",
              "      <th>accuracy</th>\n",
              "      <th>val_loss</th>\n",
              "      <th>val_accuracy</th>\n",
              "    </tr>\n",
              "  </thead>\n",
              "  <tbody>\n",
              "    <tr>\n",
              "      <th>0</th>\n",
              "      <td>0.762037</td>\n",
              "      <td>0.58025</td>\n",
              "      <td>0.994142</td>\n",
              "      <td>0.000</td>\n",
              "    </tr>\n",
              "    <tr>\n",
              "      <th>1</th>\n",
              "      <td>0.415749</td>\n",
              "      <td>0.86325</td>\n",
              "      <td>0.799287</td>\n",
              "      <td>0.353</td>\n",
              "    </tr>\n",
              "    <tr>\n",
              "      <th>2</th>\n",
              "      <td>0.320396</td>\n",
              "      <td>0.96825</td>\n",
              "      <td>0.549608</td>\n",
              "      <td>0.783</td>\n",
              "    </tr>\n",
              "    <tr>\n",
              "      <th>3</th>\n",
              "      <td>0.233895</td>\n",
              "      <td>0.98975</td>\n",
              "      <td>0.377074</td>\n",
              "      <td>0.935</td>\n",
              "    </tr>\n",
              "    <tr>\n",
              "      <th>4</th>\n",
              "      <td>0.167024</td>\n",
              "      <td>0.99450</td>\n",
              "      <td>0.277783</td>\n",
              "      <td>0.964</td>\n",
              "    </tr>\n",
              "    <tr>\n",
              "      <th>5</th>\n",
              "      <td>0.121428</td>\n",
              "      <td>0.99600</td>\n",
              "      <td>0.239883</td>\n",
              "      <td>0.966</td>\n",
              "    </tr>\n",
              "    <tr>\n",
              "      <th>6</th>\n",
              "      <td>0.090571</td>\n",
              "      <td>0.99700</td>\n",
              "      <td>0.196212</td>\n",
              "      <td>0.975</td>\n",
              "    </tr>\n",
              "    <tr>\n",
              "      <th>7</th>\n",
              "      <td>0.069791</td>\n",
              "      <td>0.99750</td>\n",
              "      <td>0.155845</td>\n",
              "      <td>0.979</td>\n",
              "    </tr>\n",
              "    <tr>\n",
              "      <th>8</th>\n",
              "      <td>0.055720</td>\n",
              "      <td>0.99750</td>\n",
              "      <td>0.129385</td>\n",
              "      <td>0.981</td>\n",
              "    </tr>\n",
              "    <tr>\n",
              "      <th>9</th>\n",
              "      <td>0.045515</td>\n",
              "      <td>0.99800</td>\n",
              "      <td>0.108967</td>\n",
              "      <td>0.984</td>\n",
              "    </tr>\n",
              "    <tr>\n",
              "      <th>10</th>\n",
              "      <td>0.038110</td>\n",
              "      <td>0.99825</td>\n",
              "      <td>0.093322</td>\n",
              "      <td>0.985</td>\n",
              "    </tr>\n",
              "    <tr>\n",
              "      <th>11</th>\n",
              "      <td>0.032606</td>\n",
              "      <td>0.99850</td>\n",
              "      <td>0.063933</td>\n",
              "      <td>0.992</td>\n",
              "    </tr>\n",
              "    <tr>\n",
              "      <th>12</th>\n",
              "      <td>0.028188</td>\n",
              "      <td>0.99850</td>\n",
              "      <td>0.050476</td>\n",
              "      <td>0.996</td>\n",
              "    </tr>\n",
              "    <tr>\n",
              "      <th>13</th>\n",
              "      <td>0.024759</td>\n",
              "      <td>0.99800</td>\n",
              "      <td>0.076102</td>\n",
              "      <td>0.984</td>\n",
              "    </tr>\n",
              "    <tr>\n",
              "      <th>14</th>\n",
              "      <td>0.022084</td>\n",
              "      <td>0.99800</td>\n",
              "      <td>0.056694</td>\n",
              "      <td>0.989</td>\n",
              "    </tr>\n",
              "    <tr>\n",
              "      <th>15</th>\n",
              "      <td>0.019647</td>\n",
              "      <td>0.99825</td>\n",
              "      <td>0.054132</td>\n",
              "      <td>0.989</td>\n",
              "    </tr>\n",
              "    <tr>\n",
              "      <th>16</th>\n",
              "      <td>0.017740</td>\n",
              "      <td>0.99800</td>\n",
              "      <td>0.032219</td>\n",
              "      <td>0.997</td>\n",
              "    </tr>\n",
              "    <tr>\n",
              "      <th>17</th>\n",
              "      <td>0.016189</td>\n",
              "      <td>0.99825</td>\n",
              "      <td>0.035423</td>\n",
              "      <td>0.996</td>\n",
              "    </tr>\n",
              "    <tr>\n",
              "      <th>18</th>\n",
              "      <td>0.014970</td>\n",
              "      <td>0.99825</td>\n",
              "      <td>0.052071</td>\n",
              "      <td>0.987</td>\n",
              "    </tr>\n",
              "    <tr>\n",
              "      <th>19</th>\n",
              "      <td>0.013749</td>\n",
              "      <td>0.99800</td>\n",
              "      <td>0.038538</td>\n",
              "      <td>0.992</td>\n",
              "    </tr>\n",
              "    <tr>\n",
              "      <th>20</th>\n",
              "      <td>0.012677</td>\n",
              "      <td>0.99825</td>\n",
              "      <td>0.030926</td>\n",
              "      <td>0.996</td>\n",
              "    </tr>\n",
              "    <tr>\n",
              "      <th>21</th>\n",
              "      <td>0.011864</td>\n",
              "      <td>0.99800</td>\n",
              "      <td>0.021524</td>\n",
              "      <td>0.997</td>\n",
              "    </tr>\n",
              "    <tr>\n",
              "      <th>22</th>\n",
              "      <td>0.010894</td>\n",
              "      <td>0.99875</td>\n",
              "      <td>0.027790</td>\n",
              "      <td>0.996</td>\n",
              "    </tr>\n",
              "    <tr>\n",
              "      <th>23</th>\n",
              "      <td>0.010218</td>\n",
              "      <td>0.99825</td>\n",
              "      <td>0.022278</td>\n",
              "      <td>0.997</td>\n",
              "    </tr>\n",
              "    <tr>\n",
              "      <th>24</th>\n",
              "      <td>0.009811</td>\n",
              "      <td>0.99850</td>\n",
              "      <td>0.014784</td>\n",
              "      <td>0.997</td>\n",
              "    </tr>\n",
              "    <tr>\n",
              "      <th>25</th>\n",
              "      <td>0.009142</td>\n",
              "      <td>0.99875</td>\n",
              "      <td>0.031095</td>\n",
              "      <td>0.992</td>\n",
              "    </tr>\n",
              "    <tr>\n",
              "      <th>26</th>\n",
              "      <td>0.008855</td>\n",
              "      <td>0.99850</td>\n",
              "      <td>0.026070</td>\n",
              "      <td>0.994</td>\n",
              "    </tr>\n",
              "    <tr>\n",
              "      <th>27</th>\n",
              "      <td>0.008484</td>\n",
              "      <td>0.99825</td>\n",
              "      <td>0.026842</td>\n",
              "      <td>0.994</td>\n",
              "    </tr>\n",
              "    <tr>\n",
              "      <th>28</th>\n",
              "      <td>0.008015</td>\n",
              "      <td>0.99825</td>\n",
              "      <td>0.017174</td>\n",
              "      <td>0.997</td>\n",
              "    </tr>\n",
              "    <tr>\n",
              "      <th>29</th>\n",
              "      <td>0.007462</td>\n",
              "      <td>0.99900</td>\n",
              "      <td>0.016773</td>\n",
              "      <td>0.997</td>\n",
              "    </tr>\n",
              "    <tr>\n",
              "      <th>30</th>\n",
              "      <td>0.007112</td>\n",
              "      <td>0.99900</td>\n",
              "      <td>0.027553</td>\n",
              "      <td>0.992</td>\n",
              "    </tr>\n",
              "    <tr>\n",
              "      <th>31</th>\n",
              "      <td>0.007002</td>\n",
              "      <td>0.99850</td>\n",
              "      <td>0.007389</td>\n",
              "      <td>0.999</td>\n",
              "    </tr>\n",
              "    <tr>\n",
              "      <th>32</th>\n",
              "      <td>0.006382</td>\n",
              "      <td>0.99900</td>\n",
              "      <td>0.007706</td>\n",
              "      <td>0.999</td>\n",
              "    </tr>\n",
              "    <tr>\n",
              "      <th>33</th>\n",
              "      <td>0.006524</td>\n",
              "      <td>0.99875</td>\n",
              "      <td>0.006935</td>\n",
              "      <td>0.999</td>\n",
              "    </tr>\n",
              "    <tr>\n",
              "      <th>34</th>\n",
              "      <td>0.006216</td>\n",
              "      <td>0.99875</td>\n",
              "      <td>0.014893</td>\n",
              "      <td>0.997</td>\n",
              "    </tr>\n",
              "    <tr>\n",
              "      <th>35</th>\n",
              "      <td>0.005760</td>\n",
              "      <td>0.99875</td>\n",
              "      <td>0.016652</td>\n",
              "      <td>0.997</td>\n",
              "    </tr>\n",
              "    <tr>\n",
              "      <th>36</th>\n",
              "      <td>0.005645</td>\n",
              "      <td>0.99900</td>\n",
              "      <td>0.006561</td>\n",
              "      <td>0.999</td>\n",
              "    </tr>\n",
              "    <tr>\n",
              "      <th>37</th>\n",
              "      <td>0.005733</td>\n",
              "      <td>0.99875</td>\n",
              "      <td>0.009933</td>\n",
              "      <td>0.997</td>\n",
              "    </tr>\n",
              "    <tr>\n",
              "      <th>38</th>\n",
              "      <td>0.005345</td>\n",
              "      <td>0.99925</td>\n",
              "      <td>0.007771</td>\n",
              "      <td>0.997</td>\n",
              "    </tr>\n",
              "    <tr>\n",
              "      <th>39</th>\n",
              "      <td>0.005198</td>\n",
              "      <td>0.99900</td>\n",
              "      <td>0.006923</td>\n",
              "      <td>0.997</td>\n",
              "    </tr>\n",
              "    <tr>\n",
              "      <th>40</th>\n",
              "      <td>0.004805</td>\n",
              "      <td>0.99925</td>\n",
              "      <td>0.006187</td>\n",
              "      <td>0.999</td>\n",
              "    </tr>\n",
              "    <tr>\n",
              "      <th>41</th>\n",
              "      <td>0.004982</td>\n",
              "      <td>0.99875</td>\n",
              "      <td>0.009290</td>\n",
              "      <td>0.997</td>\n",
              "    </tr>\n",
              "    <tr>\n",
              "      <th>42</th>\n",
              "      <td>0.004652</td>\n",
              "      <td>0.99925</td>\n",
              "      <td>0.015669</td>\n",
              "      <td>0.997</td>\n",
              "    </tr>\n",
              "    <tr>\n",
              "      <th>43</th>\n",
              "      <td>0.004750</td>\n",
              "      <td>0.99900</td>\n",
              "      <td>0.009770</td>\n",
              "      <td>0.997</td>\n",
              "    </tr>\n",
              "    <tr>\n",
              "      <th>44</th>\n",
              "      <td>0.004404</td>\n",
              "      <td>0.99900</td>\n",
              "      <td>0.009851</td>\n",
              "      <td>0.997</td>\n",
              "    </tr>\n",
              "    <tr>\n",
              "      <th>45</th>\n",
              "      <td>0.004215</td>\n",
              "      <td>0.99925</td>\n",
              "      <td>0.014179</td>\n",
              "      <td>0.997</td>\n",
              "    </tr>\n",
              "    <tr>\n",
              "      <th>46</th>\n",
              "      <td>0.003869</td>\n",
              "      <td>0.99900</td>\n",
              "      <td>0.003536</td>\n",
              "      <td>0.999</td>\n",
              "    </tr>\n",
              "    <tr>\n",
              "      <th>47</th>\n",
              "      <td>0.004085</td>\n",
              "      <td>0.99900</td>\n",
              "      <td>0.008277</td>\n",
              "      <td>0.997</td>\n",
              "    </tr>\n",
              "    <tr>\n",
              "      <th>48</th>\n",
              "      <td>0.003963</td>\n",
              "      <td>0.99900</td>\n",
              "      <td>0.013679</td>\n",
              "      <td>0.997</td>\n",
              "    </tr>\n",
              "    <tr>\n",
              "      <th>49</th>\n",
              "      <td>0.003948</td>\n",
              "      <td>0.99875</td>\n",
              "      <td>0.006833</td>\n",
              "      <td>0.997</td>\n",
              "    </tr>\n",
              "  </tbody>\n",
              "</table>\n",
              "</div>"
            ],
            "text/plain": [
              "        loss  accuracy  val_loss  val_accuracy\n",
              "0   0.762037   0.58025  0.994142         0.000\n",
              "1   0.415749   0.86325  0.799287         0.353\n",
              "2   0.320396   0.96825  0.549608         0.783\n",
              "3   0.233895   0.98975  0.377074         0.935\n",
              "4   0.167024   0.99450  0.277783         0.964\n",
              "5   0.121428   0.99600  0.239883         0.966\n",
              "6   0.090571   0.99700  0.196212         0.975\n",
              "7   0.069791   0.99750  0.155845         0.979\n",
              "8   0.055720   0.99750  0.129385         0.981\n",
              "9   0.045515   0.99800  0.108967         0.984\n",
              "10  0.038110   0.99825  0.093322         0.985\n",
              "11  0.032606   0.99850  0.063933         0.992\n",
              "12  0.028188   0.99850  0.050476         0.996\n",
              "13  0.024759   0.99800  0.076102         0.984\n",
              "14  0.022084   0.99800  0.056694         0.989\n",
              "15  0.019647   0.99825  0.054132         0.989\n",
              "16  0.017740   0.99800  0.032219         0.997\n",
              "17  0.016189   0.99825  0.035423         0.996\n",
              "18  0.014970   0.99825  0.052071         0.987\n",
              "19  0.013749   0.99800  0.038538         0.992\n",
              "20  0.012677   0.99825  0.030926         0.996\n",
              "21  0.011864   0.99800  0.021524         0.997\n",
              "22  0.010894   0.99875  0.027790         0.996\n",
              "23  0.010218   0.99825  0.022278         0.997\n",
              "24  0.009811   0.99850  0.014784         0.997\n",
              "25  0.009142   0.99875  0.031095         0.992\n",
              "26  0.008855   0.99850  0.026070         0.994\n",
              "27  0.008484   0.99825  0.026842         0.994\n",
              "28  0.008015   0.99825  0.017174         0.997\n",
              "29  0.007462   0.99900  0.016773         0.997\n",
              "30  0.007112   0.99900  0.027553         0.992\n",
              "31  0.007002   0.99850  0.007389         0.999\n",
              "32  0.006382   0.99900  0.007706         0.999\n",
              "33  0.006524   0.99875  0.006935         0.999\n",
              "34  0.006216   0.99875  0.014893         0.997\n",
              "35  0.005760   0.99875  0.016652         0.997\n",
              "36  0.005645   0.99900  0.006561         0.999\n",
              "37  0.005733   0.99875  0.009933         0.997\n",
              "38  0.005345   0.99925  0.007771         0.997\n",
              "39  0.005198   0.99900  0.006923         0.997\n",
              "40  0.004805   0.99925  0.006187         0.999\n",
              "41  0.004982   0.99875  0.009290         0.997\n",
              "42  0.004652   0.99925  0.015669         0.997\n",
              "43  0.004750   0.99900  0.009770         0.997\n",
              "44  0.004404   0.99900  0.009851         0.997\n",
              "45  0.004215   0.99925  0.014179         0.997\n",
              "46  0.003869   0.99900  0.003536         0.999\n",
              "47  0.004085   0.99900  0.008277         0.997\n",
              "48  0.003963   0.99900  0.013679         0.997\n",
              "49  0.003948   0.99875  0.006833         0.997"
            ]
          },
          "metadata": {
            "tags": []
          },
          "execution_count": 21
        }
      ]
    },
    {
      "cell_type": "code",
      "metadata": {
        "id": "ZXee_GBNgkCA",
        "colab": {
          "base_uri": "https://localhost:8080/",
          "height": 285
        },
        "outputId": "4480919f-5227-471d-82b8-3a8432c7a971"
      },
      "source": [
        "mlp_history['accuracy'.split()].plot()"
      ],
      "execution_count": 22,
      "outputs": [
        {
          "output_type": "execute_result",
          "data": {
            "text/plain": [
              "<matplotlib.axes._subplots.AxesSubplot at 0x7f682d47e3d0>"
            ]
          },
          "metadata": {
            "tags": []
          },
          "execution_count": 22
        },
        {
          "output_type": "display_data",
          "data": {
            "image/png": "[encoded data removed]",
            "text/plain": [
              "<Figure size 432x288 with 1 Axes>"
            ]
          },
          "metadata": {
            "tags": [],
            "needs_background": "light"
          }
        }
      ]
    },
    {
      "cell_type": "markdown",
      "metadata": {
        "id": "aZc1B5dLg1JE"
      },
      "source": [
        "## Exercise\n",
        "\n",
        "Take couple of minutes and try to play with the number of layers and the number of parameters in the layers."
      ]
    },
    {
      "cell_type": "code",
      "metadata": {
        "id": "MQFsa0hW9WRf"
      },
      "source": [
        ""
      ],
      "execution_count": 22,
      "outputs": []
    },
    {
      "cell_type": "markdown",
      "metadata": {
        "id": "GRQSCfdaLAtF"
      },
      "source": [
        "<a name=\"kaggle\"></a>\n",
        "# Kaggle Challenge Data"
      ]
    },
    {
      "cell_type": "markdown",
      "metadata": {
        "id": "bbeKfwkVLAtG"
      },
      "source": [
        ">The Otto Group is one of the world’s biggest e-commerce companies, A consistent analysis of the performance of products is crucial. However, due to diverse global infrastructure, many identical products get classified differently.\n",
        "For this competition, we have provided a dataset with 93 features for more than 200,000 products. The objective is to build a predictive model which is able to distinguish between our main product categories. \n",
        "Each row corresponds to a single product. There are a total of 93 numerical features, which represent counts of different events. All features have been obfuscated and will not be defined any further.\n",
        "\n",
        "https://www.kaggle.com/c/otto-group-product-classification-challenge/data"
      ]
    },
    {
      "cell_type": "markdown",
      "metadata": {
        "id": "ffeZ8QrxLAtK"
      },
      "source": [
        "## Data Preparation"
      ]
    },
    {
      "cell_type": "markdown",
      "metadata": {
        "id": "PdAVJQYmMKtt"
      },
      "source": [
        "### Utility functions\n",
        "\n",
        "Utility functions to load Kaggle Otto Group Challenge Data."
      ]
    },
    {
      "cell_type": "code",
      "metadata": {
        "id": "r0GV97-fMI4B"
      },
      "source": [
        "import pandas as pd\n",
        "import numpy as np\n",
        "from sklearn.preprocessing import StandardScaler\n",
        "from sklearn.preprocessing import LabelEncoder\n",
        "from keras.utils import np_utils\n",
        "\n",
        "\n",
        "def load_data(path, train=True):\n",
        "    \"\"\"Load data from a CSV File\n",
        "    \n",
        "    Parameters\n",
        "    ----------\n",
        "    path: str\n",
        "        The path to the CSV file\n",
        "        \n",
        "    train: bool (default True)\n",
        "        Decide whether or not data are *training data*.\n",
        "        If True, some random shuffling is applied.\n",
        "        \n",
        "    Return\n",
        "    ------\n",
        "    X: numpy.ndarray \n",
        "        The data as a multi dimensional array of floats\n",
        "    ids: numpy.ndarray\n",
        "        A vector of ids for each sample\n",
        "    \"\"\"\n",
        "    text = pd.read_csv(path, encoding = \"ISO-8859-2\")\n",
        "    df = pd.read_csv(path)\n",
        "    X = df.values.copy()\n",
        "    if train:\n",
        "        np.random.shuffle(X)  \n",
        "        X, labels = X[:, 1:-1].astype(np.float32), X[:, -1]\n",
        "        return X, labels\n",
        "    else:\n",
        "        X, ids = X[:, 1:].astype(np.float32), X[:, 0].astype(str)\n",
        "        return X, ids\n",
        "        \n",
        "        \n",
        "def preprocess_data(X, scaler=None):\n",
        "    \"\"\"Preprocess input data by standardise features \n",
        "    by removing the mean and scaling to unit variance\"\"\"\n",
        "    if not scaler:\n",
        "        scaler = StandardScaler()\n",
        "        scaler.fit(X)\n",
        "    X = scaler.transform(X)\n",
        "    return X, scaler\n",
        "\n",
        "\n",
        "def preprocess_labels(labels, encoder=None, categorical=True):\n",
        "    \"\"\"Encode labels with values among 0 and `n-classes-1`\"\"\"\n",
        "    if not encoder:\n",
        "        encoder = LabelEncoder()\n",
        "        encoder.fit(labels)\n",
        "    y = encoder.transform(labels).astype(np.int32)\n",
        "    if categorical:\n",
        "        y = np_utils.to_categorical(y)\n",
        "    return y, encoder"
      ],
      "execution_count": 23,
      "outputs": []
    },
    {
      "cell_type": "markdown",
      "metadata": {
        "id": "vaGr3p-HmvNU"
      },
      "source": [
        "## Import data"
      ]
    },
    {
      "cell_type": "code",
      "metadata": {
        "id": "WcwhGx_rLAtU",
        "colab": {
          "base_uri": "https://localhost:8080/"
        },
        "outputId": "6516f70b-d003-42ce-f204-cd165e3a21d2"
      },
      "source": [
        "url_train = 'https://raw.githubusercontent.com/leriomaggio/deep-learning-keras-tensorflow/master/data/kaggle_ottogroup/train.csv'\n",
        "url_test = 'https://raw.githubusercontent.com/leriomaggio/deep-learning-keras-tensorflow/master/data/kaggle_ottogroup/test.csv'\n",
        "X_train, labels = load_data(url_train, train=True)\n",
        "\n",
        "print(\"Training set data\")\n",
        "print(X_train)\n",
        "\n",
        "print(\"Training set labels\")\n",
        "print(labels)"
      ],
      "execution_count": 24,
      "outputs": [
        {
          "output_type": "stream",
          "text": [
            "Training set data\n",
            "[[0. 0. 0. ... 0. 1. 0.]\n",
            " [0. 0. 1. ... 0. 1. 0.]\n",
            " [0. 0. 0. ... 0. 0. 0.]\n",
            " ...\n",
            " [1. 0. 0. ... 0. 3. 0.]\n",
            " [0. 0. 0. ... 0. 1. 0.]\n",
            " [0. 0. 0. ... 0. 0. 0.]]\n",
            "Training set labels\n",
            "['Class_8' 'Class_2' 'Class_4' ... 'Class_6' 'Class_3' 'Class_2']\n"
          ],
          "name": "stdout"
        }
      ]
    },
    {
      "cell_type": "markdown",
      "metadata": {
        "id": "MHG7PflKmzeL"
      },
      "source": [
        "## Preprocess data"
      ]
    },
    {
      "cell_type": "code",
      "metadata": {
        "id": "p4huHaAtLAta",
        "colab": {
          "base_uri": "https://localhost:8080/"
        },
        "outputId": "b081e753-daa6-49aa-c385-288aa050081c"
      },
      "source": [
        "X_train, labels = load_data(url_train, train=True)\n",
        "X_train, scaler = preprocess_data(X_train)\n",
        "Y_train, encoder = preprocess_labels(labels)\n",
        "\n",
        "X_test, ids = load_data(url_test, train=False)\n",
        "X_test, _ = preprocess_data(X_test, scaler)\n",
        "\n",
        "nb_classes = Y_train.shape[1]\n",
        "print(nb_classes, 'classes')\n",
        "\n",
        "dims = X_train.shape[1]\n",
        "print(dims, 'dims')"
      ],
      "execution_count": 25,
      "outputs": [
        {
          "output_type": "stream",
          "text": [
            "9 classes\n",
            "93 dims\n"
          ],
          "name": "stdout"
        }
      ]
    },
    {
      "cell_type": "code",
      "metadata": {
        "id": "dl6vFpY4LAtg",
        "colab": {
          "base_uri": "https://localhost:8080/"
        },
        "outputId": "f9d1fd6e-613c-4351-d25f-84b22061144f"
      },
      "source": [
        "help(preprocess_data)\n",
        "help(preprocess_labels)"
      ],
      "execution_count": 26,
      "outputs": [
        {
          "output_type": "stream",
          "text": [
            "Help on function preprocess_data in module __main__:\n",
            "\n",
            "preprocess_data(X, scaler=None)\n",
            "    Preprocess input data by standardise features \n",
            "    by removing the mean and scaling to unit variance\n",
            "\n",
            "Help on function preprocess_labels in module __main__:\n",
            "\n",
            "preprocess_labels(labels, encoder=None, categorical=True)\n",
            "    Encode labels with values among 0 and `n-classes-1`\n",
            "\n"
          ],
          "name": "stdout"
        }
      ]
    },
    {
      "cell_type": "code",
      "metadata": {
        "id": "DIQdg3xYLAtq",
        "colab": {
          "base_uri": "https://localhost:8080/"
        },
        "outputId": "92cafb1d-533a-4c16-e626-9b7b25c505ad"
      },
      "source": [
        "np.unique(labels)"
      ],
      "execution_count": 27,
      "outputs": [
        {
          "output_type": "execute_result",
          "data": {
            "text/plain": [
              "array(['Class_1', 'Class_2', 'Class_3', 'Class_4', 'Class_5', 'Class_6',\n",
              "       'Class_7', 'Class_8', 'Class_9'], dtype=object)"
            ]
          },
          "metadata": {
            "tags": []
          },
          "execution_count": 27
        }
      ]
    },
    {
      "cell_type": "code",
      "metadata": {
        "id": "Yr8D9bzfLAty",
        "colab": {
          "base_uri": "https://localhost:8080/"
        },
        "outputId": "2a3bc775-e3aa-4f11-82e5-de5b2b1b19bf"
      },
      "source": [
        "Y_train  # one-hot encoding"
      ],
      "execution_count": 28,
      "outputs": [
        {
          "output_type": "execute_result",
          "data": {
            "text/plain": [
              "array([[0., 1., 0., ..., 0., 0., 0.],\n",
              "       [0., 1., 0., ..., 0., 0., 0.],\n",
              "       [0., 0., 0., ..., 0., 0., 0.],\n",
              "       ...,\n",
              "       [0., 0., 0., ..., 0., 1., 0.],\n",
              "       [0., 1., 0., ..., 0., 0., 0.],\n",
              "       [0., 1., 0., ..., 0., 0., 0.]], dtype=float32)"
            ]
          },
          "metadata": {
            "tags": []
          },
          "execution_count": 28
        }
      ]
    },
    {
      "cell_type": "code",
      "metadata": {
        "colab": {
          "base_uri": "https://localhost:8080/"
        },
        "id": "PFfYHt-11uj2",
        "outputId": "acfd9378-a8fb-4a7a-a438-3345b541ef79"
      },
      "source": [
        "Y_train[1]"
      ],
      "execution_count": 29,
      "outputs": [
        {
          "output_type": "execute_result",
          "data": {
            "text/plain": [
              "array([0., 1., 0., 0., 0., 0., 0., 0., 0.], dtype=float32)"
            ]
          },
          "metadata": {
            "tags": []
          },
          "execution_count": 29
        }
      ]
    },
    {
      "cell_type": "markdown",
      "metadata": {
        "id": "pcLqsyXhLAt5"
      },
      "source": [
        "# Using Keras"
      ]
    },
    {
      "cell_type": "code",
      "metadata": {
        "id": "7yt1I627LAt6"
      },
      "source": [
        "from keras.models import Sequential\n",
        "from keras.layers import Dense, Activation"
      ],
      "execution_count": 30,
      "outputs": []
    },
    {
      "cell_type": "markdown",
      "metadata": {
        "id": "2y0mXasYh6Gl"
      },
      "source": [
        "### Perceptron"
      ]
    },
    {
      "cell_type": "code",
      "metadata": {
        "colab": {
          "base_uri": "https://localhost:8080/"
        },
        "id": "WTywtg5MGT0i",
        "outputId": "905eda6c-5c2d-49a9-f6b5-fcfd0c7f6840"
      },
      "source": [
        "X_train.shape"
      ],
      "execution_count": 31,
      "outputs": [
        {
          "output_type": "execute_result",
          "data": {
            "text/plain": [
              "(61878, 93)"
            ]
          },
          "metadata": {
            "tags": []
          },
          "execution_count": 31
        }
      ]
    },
    {
      "cell_type": "code",
      "metadata": {
        "id": "EsSNGNdPLAt_",
        "colab": {
          "base_uri": "https://localhost:8080/"
        },
        "outputId": "8ea3154e-405a-4909-ddf0-73918afbe40e"
      },
      "source": [
        "dims = X_train.shape[1]\n",
        "print(dims, 'dims')\n",
        "print(\"Building model...\")\n",
        "\n",
        "nb_classes = Y_train.shape[1]\n",
        "print(nb_classes, 'classes')\n",
        "\n",
        "model = Sequential()\n",
        "model.add(Dense(nb_classes, input_shape=(dims,), activation='sigmoid'))\n",
        "model.add(Activation('softmax'))\n",
        "\n",
        "model.compile(optimizer='sgd', loss='categorical_crossentropy')\n",
        "model.fit(X_train, Y_train)"
      ],
      "execution_count": 32,
      "outputs": [
        {
          "output_type": "stream",
          "text": [
            "93 dims\n",
            "Building model...\n",
            "9 classes\n",
            "1934/1934 [==============================] - 2s 854us/step - loss: 2.0804\n"
          ],
          "name": "stdout"
        },
        {
          "output_type": "execute_result",
          "data": {
            "text/plain": [
              "<tensorflow.python.keras.callbacks.History at 0x7f6827355390>"
            ]
          },
          "metadata": {
            "tags": []
          },
          "execution_count": 32
        }
      ]
    },
    {
      "cell_type": "markdown",
      "metadata": {
        "id": "FJrsIfW_h22F"
      },
      "source": [
        "### Multi-layer Perceptron"
      ]
    },
    {
      "cell_type": "code",
      "metadata": {
        "id": "PfDN7z7Xh2jn",
        "colab": {
          "base_uri": "https://localhost:8080/"
        },
        "outputId": "0d66e406-444f-4797-f4ba-450a36c471cd"
      },
      "source": [
        "model = Sequential()\n",
        "model.add(Dense(100, input_shape=(dims,)))\n",
        "model.add(Dense(nb_classes, activation='softmax'))\n",
        "#model.add(Activation('softmax'))\n",
        "model.compile(optimizer='sgd', loss='categorical_crossentropy')\n",
        "model.summary()\n",
        "\n",
        "model.fit(X_train, Y_train, epochs=20, \n",
        "          batch_size=128, verbose=True)"
      ],
      "execution_count": 33,
      "outputs": [
        {
          "output_type": "stream",
          "text": [
            "Model: \"sequential_1\"\n",
            "_________________________________________________________________\n",
            "Layer (type)                 Output Shape              Param #   \n",
            "=================================================================\n",
            "dense_1 (Dense)              (None, 100)               9400      \n",
            "_________________________________________________________________\n",
            "dense_2 (Dense)              (None, 9)                 909       \n",
            "=================================================================\n",
            "Total params: 10,309\n",
            "Trainable params: 10,309\n",
            "Non-trainable params: 0\n",
            "_________________________________________________________________\n",
            "Epoch 1/20\n",
            "484/484 [==============================] - 1s 1ms/step - loss: 1.5327\n",
            "Epoch 2/20\n",
            "484/484 [==============================] - 1s 1ms/step - loss: 0.8206\n",
            "Epoch 3/20\n",
            "484/484 [==============================] - 1s 1ms/step - loss: 0.7527\n",
            "Epoch 4/20\n",
            "484/484 [==============================] - 1s 1ms/step - loss: 0.7285\n",
            "Epoch 5/20\n",
            "484/484 [==============================] - 1s 1ms/step - loss: 0.7048\n",
            "Epoch 6/20\n",
            "484/484 [==============================] - 1s 1ms/step - loss: 0.6931\n",
            "Epoch 7/20\n",
            "484/484 [==============================] - 1s 1ms/step - loss: 0.6854\n",
            "Epoch 8/20\n",
            "484/484 [==============================] - 1s 1ms/step - loss: 0.6728\n",
            "Epoch 9/20\n",
            "484/484 [==============================] - 1s 1ms/step - loss: 0.6641\n",
            "Epoch 10/20\n",
            "484/484 [==============================] - 1s 1ms/step - loss: 0.6630\n",
            "Epoch 11/20\n",
            "484/484 [==============================] - 1s 1ms/step - loss: 0.6661\n",
            "Epoch 12/20\n",
            "484/484 [==============================] - 1s 1ms/step - loss: 0.6588\n",
            "Epoch 13/20\n",
            "484/484 [==============================] - 1s 1ms/step - loss: 0.6558\n",
            "Epoch 14/20\n",
            "484/484 [==============================] - 1s 1ms/step - loss: 0.6499\n",
            "Epoch 15/20\n",
            "484/484 [==============================] - 1s 1ms/step - loss: 0.6577\n",
            "Epoch 16/20\n",
            "484/484 [==============================] - 1s 1ms/step - loss: 0.6542\n",
            "Epoch 17/20\n",
            "484/484 [==============================] - 1s 1ms/step - loss: 0.6540\n",
            "Epoch 18/20\n",
            "484/484 [==============================] - 1s 1ms/step - loss: 0.6519\n",
            "Epoch 19/20\n",
            "484/484 [==============================] - 1s 1ms/step - loss: 0.6466\n",
            "Epoch 20/20\n",
            "484/484 [==============================] - 1s 1ms/step - loss: 0.6554\n"
          ],
          "name": "stdout"
        },
        {
          "output_type": "execute_result",
          "data": {
            "text/plain": [
              "<tensorflow.python.keras.callbacks.History at 0x7f682730d950>"
            ]
          },
          "metadata": {
            "tags": []
          },
          "execution_count": 33
        }
      ]
    },
    {
      "cell_type": "markdown",
      "metadata": {
        "id": "bSKkN1j8fyRi"
      },
      "source": [
        "# Exercise\n",
        "\n",
        "Try several configuration of the neural network considering also the use of the Dropout regularization. Evaluate model."
      ]
    },
    {
      "cell_type": "code",
      "metadata": {
        "id": "8BHLQtk82_tv",
        "colab": {
          "base_uri": "https://localhost:8080/"
        },
        "outputId": "d5eaf8a7-c99d-4a83-bb78-0232eea3925f"
      },
      "source": [
        "url_train = 'https://raw.githubusercontent.com/leriomaggio/deep-learning-keras-tensorflow/master/data/kaggle_ottogroup/train.csv'\n",
        "url_test = 'https://raw.githubusercontent.com/leriomaggio/deep-learning-keras-tensorflow/master/data/kaggle_ottogroup/test.csv'\n",
        "\n",
        "X_train, labels = load_data(url_train, train=True)\n",
        "X_train, scaler = preprocess_data(X_train)\n",
        "Y_train, encoder = preprocess_labels(labels)\n",
        "\n",
        "X_test, ids = load_data(url_test, train=False)\n",
        "X_test, _ = preprocess_data(X_test, scaler)\n",
        "\n",
        "nb_classes = Y_train.shape[1]\n",
        "print(nb_classes, 'classes')\n",
        "\n",
        "dims = X_train.shape[1]\n",
        "print(dims, 'dims')"
      ],
      "execution_count": 34,
      "outputs": [
        {
          "output_type": "stream",
          "text": [
            "9 classes\n",
            "93 dims\n"
          ],
          "name": "stdout"
        }
      ]
    },
    {
      "cell_type": "code",
      "metadata": {
        "colab": {
          "base_uri": "https://localhost:8080/"
        },
        "id": "5kKzD5tr95nC",
        "outputId": "0129e1fd-9545-43b3-f021-dec0dd6a17bb"
      },
      "source": [
        "from keras.models import Sequential\n",
        "from keras.layers import Dense, Activation\n",
        "from keras.layers import Dropout\n",
        "\n",
        "model = Sequential()\n",
        "model.add(Dense(512, input_shape=(dims,), activation='relu'))\n",
        "model.add(Dropout(0.2)) \n",
        "model.add(Dense(128, activation='relu'))\n",
        "#model.add(Dropout(0.5)) \n",
        "model.add(Dense(nb_classes, activation='softmax')) \n",
        "model.compile(optimizer='adam', loss='categorical_crossentropy', metrics=['accuracy'])\n",
        "model.summary()\n",
        "\n",
        "history = model.fit(X_train, Y_train, epochs=20, \n",
        "          batch_size=128, verbose=True, validation_split = 0.1)"
      ],
      "execution_count": 45,
      "outputs": [
        {
          "output_type": "stream",
          "text": [
            "Model: \"sequential_6\"\n",
            "_________________________________________________________________\n",
            "Layer (type)                 Output Shape              Param #   \n",
            "=================================================================\n",
            "dense_15 (Dense)             (None, 512)               48128     \n",
            "_________________________________________________________________\n",
            "dropout_6 (Dropout)          (None, 512)               0         \n",
            "_________________________________________________________________\n",
            "dense_16 (Dense)             (None, 128)               65664     \n",
            "_________________________________________________________________\n",
            "dense_17 (Dense)             (None, 9)                 1161      \n",
            "=================================================================\n",
            "Total params: 114,953\n",
            "Trainable params: 114,953\n",
            "Non-trainable params: 0\n",
            "_________________________________________________________________\n",
            "Epoch 1/20\n",
            "436/436 [==============================] - 3s 6ms/step - loss: 0.8626 - accuracy: 0.7010 - val_loss: 0.5640 - val_accuracy: 0.7835\n",
            "Epoch 2/20\n",
            "436/436 [==============================] - 2s 6ms/step - loss: 0.5622 - accuracy: 0.7809 - val_loss: 0.5395 - val_accuracy: 0.7896\n",
            "Epoch 3/20\n",
            "436/436 [==============================] - 3s 6ms/step - loss: 0.5223 - accuracy: 0.7931 - val_loss: 0.5149 - val_accuracy: 0.8006\n",
            "Epoch 4/20\n",
            "436/436 [==============================] - 2s 6ms/step - loss: 0.5014 - accuracy: 0.8017 - val_loss: 0.5158 - val_accuracy: 0.7977\n",
            "Epoch 5/20\n",
            "436/436 [==============================] - 3s 6ms/step - loss: 0.4821 - accuracy: 0.8104 - val_loss: 0.5020 - val_accuracy: 0.8067\n",
            "Epoch 6/20\n",
            "436/436 [==============================] - 2s 6ms/step - loss: 0.4721 - accuracy: 0.8121 - val_loss: 0.4952 - val_accuracy: 0.8111\n",
            "Epoch 7/20\n",
            "436/436 [==============================] - 2s 6ms/step - loss: 0.4476 - accuracy: 0.8192 - val_loss: 0.4898 - val_accuracy: 0.8041\n",
            "Epoch 8/20\n",
            "436/436 [==============================] - 2s 5ms/step - loss: 0.4354 - accuracy: 0.8244 - val_loss: 0.4949 - val_accuracy: 0.8080\n",
            "Epoch 9/20\n",
            "436/436 [==============================] - 2s 5ms/step - loss: 0.4346 - accuracy: 0.8249 - val_loss: 0.4910 - val_accuracy: 0.8119\n",
            "Epoch 10/20\n",
            "436/436 [==============================] - 2s 5ms/step - loss: 0.4236 - accuracy: 0.8306 - val_loss: 0.4880 - val_accuracy: 0.8087\n",
            "Epoch 11/20\n",
            "436/436 [==============================] - 2s 5ms/step - loss: 0.4084 - accuracy: 0.8362 - val_loss: 0.4917 - val_accuracy: 0.8172\n",
            "Epoch 12/20\n",
            "436/436 [==============================] - 2s 5ms/step - loss: 0.4042 - accuracy: 0.8371 - val_loss: 0.4923 - val_accuracy: 0.8135\n",
            "Epoch 13/20\n",
            "436/436 [==============================] - 2s 5ms/step - loss: 0.3846 - accuracy: 0.8453 - val_loss: 0.4876 - val_accuracy: 0.8151\n",
            "Epoch 14/20\n",
            "436/436 [==============================] - 2s 5ms/step - loss: 0.3844 - accuracy: 0.8443 - val_loss: 0.4857 - val_accuracy: 0.8172\n",
            "Epoch 15/20\n",
            "436/436 [==============================] - 2s 6ms/step - loss: 0.3745 - accuracy: 0.8469 - val_loss: 0.4947 - val_accuracy: 0.8169\n",
            "Epoch 16/20\n",
            "436/436 [==============================] - 2s 6ms/step - loss: 0.3638 - accuracy: 0.8515 - val_loss: 0.4941 - val_accuracy: 0.8161\n",
            "Epoch 17/20\n",
            "436/436 [==============================] - 2s 5ms/step - loss: 0.3552 - accuracy: 0.8585 - val_loss: 0.4939 - val_accuracy: 0.8138\n",
            "Epoch 18/20\n",
            "436/436 [==============================] - 2s 6ms/step - loss: 0.3515 - accuracy: 0.8568 - val_loss: 0.5037 - val_accuracy: 0.8159\n",
            "Epoch 19/20\n",
            "436/436 [==============================] - 2s 6ms/step - loss: 0.3506 - accuracy: 0.8573 - val_loss: 0.5001 - val_accuracy: 0.8188\n",
            "Epoch 20/20\n",
            "436/436 [==============================] - 2s 5ms/step - loss: 0.3440 - accuracy: 0.8632 - val_loss: 0.5047 - val_accuracy: 0.8153\n"
          ],
          "name": "stdout"
        }
      ]
    },
    {
      "cell_type": "code",
      "metadata": {
        "colab": {
          "base_uri": "https://localhost:8080/"
        },
        "id": "z_POdxIDV9iM",
        "outputId": "faeb68ea-5eaa-415f-8374-5843468fc7cd"
      },
      "source": [
        "loss, accuracy = model.evaluate(X_train, Y_train,\n",
        "                       batch_size=128, verbose=1)\n",
        "print('Test loss:', loss)\n",
        "print('Test accuracy:', accuracy)"
      ],
      "execution_count": 46,
      "outputs": [
        {
          "output_type": "stream",
          "text": [
            "484/484 [==============================] - 1s 2ms/step - loss: 0.3086 - accuracy: 0.8784\n",
            "Test loss: 0.30862823128700256\n",
            "Test accuracy: 0.8783735632896423\n"
          ],
          "name": "stdout"
        }
      ]
    },
    {
      "cell_type": "code",
      "metadata": {
        "colab": {
          "base_uri": "https://localhost:8080/"
        },
        "id": "4gydV0DMSiHe",
        "outputId": "a6fcff95-ae2e-43aa-d092-7582c5d3b3e5"
      },
      "source": [
        "model.predict_classes(X_test)"
      ],
      "execution_count": 42,
      "outputs": [
        {
          "output_type": "stream",
          "text": [
            "/usr/local/lib/python3.7/dist-packages/tensorflow/python/keras/engine/sequential.py:450: UserWarning: `model.predict_classes()` is deprecated and will be removed after 2021-01-01. Please use instead:* `np.argmax(model.predict(x), axis=-1)`,   if your model does multi-class classification   (e.g. if it uses a `softmax` last-layer activation).* `(model.predict(x) > 0.5).astype(\"int32\")`,   if your model does binary classification   (e.g. if it uses a `sigmoid` last-layer activation).\n",
            "  warnings.warn('`model.predict_classes()` is deprecated and '\n"
          ],
          "name": "stderr"
        },
        {
          "output_type": "execute_result",
          "data": {
            "text/plain": [
              "array([2, 7, 5, ..., 1, 3, 2])"
            ]
          },
          "metadata": {
            "tags": []
          },
          "execution_count": 42
        }
      ]
    },
    {
      "cell_type": "markdown",
      "metadata": {
        "id": "HQyhcer4dGnC"
      },
      "source": [
        "# Further reading\n",
        "\n",
        "- http://u.cs.biu.ac.il/~yogo/nnlp.pdf (Chapters 1-4)\n",
        "- https://github.com/nyu-dl/NLP_DL_Lecture_Note/blob/master/lecture_note.pdf (Chapters 3, 4)\n",
        "- https://www.coursera.org/learn/machine-learning (Weeks 4, 5)\n",
        "- http://colah.github.io/posts/2014-03-NN-Manifolds-Topology/"
      ]
    }
  ]
}