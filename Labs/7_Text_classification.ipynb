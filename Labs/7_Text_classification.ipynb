{
  "nbformat": 4,
  "nbformat_minor": 0,
  "metadata": {
    "anaconda-cloud": {},
    "celltoolbar": "Slideshow",
    "kernelspec": {
      "display_name": "Python 3",
      "language": "python",
      "name": "python3"
    },
    "language_info": {
      "codemirror_mode": {
        "name": "ipython",
        "version": 3
      },
      "file_extension": ".py",
      "mimetype": "text/x-python",
      "name": "python",
      "nbconvert_exporter": "python",
      "pygments_lexer": "ipython3",
      "version": "3.8.3"
    },
    "livereveal": {
      "scroll": true,
      "start_slideshow_at": "selected",
      "transition": "none"
    },
    "colab": {
      "name": "7_Text_classification.ipynb",
      "provenance": [],
      "collapsed_sections": [
        "WQz-RT3bVz5F",
        "RuxrcSFUVz5G"
      ],
      "toc_visible": true
    },
    "widgets": {
      "application/vnd.jupyter.widget-state+json": {
        "071ea3dae16f43dcb397e3fee85cfbe6": {
          "model_module": "@jupyter-widgets/controls",
          "model_name": "HBoxModel",
          "state": {
            "_view_name": "HBoxView",
            "_dom_classes": [],
            "_model_name": "HBoxModel",
            "_view_module": "@jupyter-widgets/controls",
            "_model_module_version": "1.5.0",
            "_view_count": null,
            "_view_module_version": "1.5.0",
            "box_style": "",
            "layout": "IPY_MODEL_6f9eda149afa4215927de0f7407ee60d",
            "_model_module": "@jupyter-widgets/controls",
            "children": [
              "IPY_MODEL_13841c7e72184b6ca27676f47dbce535",
              "IPY_MODEL_36b1eab6bc7e43ef82893f95e85696cc"
            ]
          }
        },
        "6f9eda149afa4215927de0f7407ee60d": {
          "model_module": "@jupyter-widgets/base",
          "model_name": "LayoutModel",
          "state": {
            "_view_name": "LayoutView",
            "grid_template_rows": null,
            "right": null,
            "justify_content": null,
            "_view_module": "@jupyter-widgets/base",
            "overflow": null,
            "_model_module_version": "1.2.0",
            "_view_count": null,
            "flex_flow": null,
            "width": null,
            "min_width": null,
            "border": null,
            "align_items": null,
            "bottom": null,
            "_model_module": "@jupyter-widgets/base",
            "top": null,
            "grid_column": null,
            "overflow_y": null,
            "overflow_x": null,
            "grid_auto_flow": null,
            "grid_area": null,
            "grid_template_columns": null,
            "flex": null,
            "_model_name": "LayoutModel",
            "justify_items": null,
            "grid_row": null,
            "max_height": null,
            "align_content": null,
            "visibility": null,
            "align_self": null,
            "height": null,
            "min_height": null,
            "padding": null,
            "grid_auto_rows": null,
            "grid_gap": null,
            "max_width": null,
            "order": null,
            "_view_module_version": "1.2.0",
            "grid_template_areas": null,
            "object_position": null,
            "object_fit": null,
            "grid_auto_columns": null,
            "margin": null,
            "display": null,
            "left": null
          }
        },
        "13841c7e72184b6ca27676f47dbce535": {
          "model_module": "@jupyter-widgets/controls",
          "model_name": "FloatProgressModel",
          "state": {
            "_view_name": "ProgressView",
            "style": "IPY_MODEL_77f031278f064122a8c77b90d6de2ae5",
            "_dom_classes": [],
            "description": "Downloading: 100%",
            "_model_name": "FloatProgressModel",
            "bar_style": "success",
            "max": 899,
            "_view_module": "@jupyter-widgets/controls",
            "_model_module_version": "1.5.0",
            "value": 899,
            "_view_count": null,
            "_view_module_version": "1.5.0",
            "orientation": "horizontal",
            "min": 0,
            "description_tooltip": null,
            "_model_module": "@jupyter-widgets/controls",
            "layout": "IPY_MODEL_a405d58e5e34474ebf86a164b6546368"
          }
        },
        "36b1eab6bc7e43ef82893f95e85696cc": {
          "model_module": "@jupyter-widgets/controls",
          "model_name": "HTMLModel",
          "state": {
            "_view_name": "HTMLView",
            "style": "IPY_MODEL_f199a8607eb14b90aba62f631cc7fe64",
            "_dom_classes": [],
            "description": "",
            "_model_name": "HTMLModel",
            "placeholder": "​",
            "_view_module": "@jupyter-widgets/controls",
            "_model_module_version": "1.5.0",
            "value": " 899/899 [00:12&lt;00:00, 69.8B/s]",
            "_view_count": null,
            "_view_module_version": "1.5.0",
            "description_tooltip": null,
            "_model_module": "@jupyter-widgets/controls",
            "layout": "IPY_MODEL_6d6c509cd8b04d77ad6d2bf29cb18e4f"
          }
        },
        "77f031278f064122a8c77b90d6de2ae5": {
          "model_module": "@jupyter-widgets/controls",
          "model_name": "ProgressStyleModel",
          "state": {
            "_view_name": "StyleView",
            "_model_name": "ProgressStyleModel",
            "description_width": "initial",
            "_view_module": "@jupyter-widgets/base",
            "_model_module_version": "1.5.0",
            "_view_count": null,
            "_view_module_version": "1.2.0",
            "bar_color": null,
            "_model_module": "@jupyter-widgets/controls"
          }
        },
        "a405d58e5e34474ebf86a164b6546368": {
          "model_module": "@jupyter-widgets/base",
          "model_name": "LayoutModel",
          "state": {
            "_view_name": "LayoutView",
            "grid_template_rows": null,
            "right": null,
            "justify_content": null,
            "_view_module": "@jupyter-widgets/base",
            "overflow": null,
            "_model_module_version": "1.2.0",
            "_view_count": null,
            "flex_flow": null,
            "width": null,
            "min_width": null,
            "border": null,
            "align_items": null,
            "bottom": null,
            "_model_module": "@jupyter-widgets/base",
            "top": null,
            "grid_column": null,
            "overflow_y": null,
            "overflow_x": null,
            "grid_auto_flow": null,
            "grid_area": null,
            "grid_template_columns": null,
            "flex": null,
            "_model_name": "LayoutModel",
            "justify_items": null,
            "grid_row": null,
            "max_height": null,
            "align_content": null,
            "visibility": null,
            "align_self": null,
            "height": null,
            "min_height": null,
            "padding": null,
            "grid_auto_rows": null,
            "grid_gap": null,
            "max_width": null,
            "order": null,
            "_view_module_version": "1.2.0",
            "grid_template_areas": null,
            "object_position": null,
            "object_fit": null,
            "grid_auto_columns": null,
            "margin": null,
            "display": null,
            "left": null
          }
        },
        "f199a8607eb14b90aba62f631cc7fe64": {
          "model_module": "@jupyter-widgets/controls",
          "model_name": "DescriptionStyleModel",
          "state": {
            "_view_name": "StyleView",
            "_model_name": "DescriptionStyleModel",
            "description_width": "",
            "_view_module": "@jupyter-widgets/base",
            "_model_module_version": "1.5.0",
            "_view_count": null,
            "_view_module_version": "1.2.0",
            "_model_module": "@jupyter-widgets/controls"
          }
        },
        "6d6c509cd8b04d77ad6d2bf29cb18e4f": {
          "model_module": "@jupyter-widgets/base",
          "model_name": "LayoutModel",
          "state": {
            "_view_name": "LayoutView",
            "grid_template_rows": null,
            "right": null,
            "justify_content": null,
            "_view_module": "@jupyter-widgets/base",
            "overflow": null,
            "_model_module_version": "1.2.0",
            "_view_count": null,
            "flex_flow": null,
            "width": null,
            "min_width": null,
            "border": null,
            "align_items": null,
            "bottom": null,
            "_model_module": "@jupyter-widgets/base",
            "top": null,
            "grid_column": null,
            "overflow_y": null,
            "overflow_x": null,
            "grid_auto_flow": null,
            "grid_area": null,
            "grid_template_columns": null,
            "flex": null,
            "_model_name": "LayoutModel",
            "justify_items": null,
            "grid_row": null,
            "max_height": null,
            "align_content": null,
            "visibility": null,
            "align_self": null,
            "height": null,
            "min_height": null,
            "padding": null,
            "grid_auto_rows": null,
            "grid_gap": null,
            "max_width": null,
            "order": null,
            "_view_module_version": "1.2.0",
            "grid_template_areas": null,
            "object_position": null,
            "object_fit": null,
            "grid_auto_columns": null,
            "margin": null,
            "display": null,
            "left": null
          }
        },
        "f2834d5e6c2c405d8bc57b6ed61bef10": {
          "model_module": "@jupyter-widgets/controls",
          "model_name": "HBoxModel",
          "state": {
            "_view_name": "HBoxView",
            "_dom_classes": [],
            "_model_name": "HBoxModel",
            "_view_module": "@jupyter-widgets/controls",
            "_model_module_version": "1.5.0",
            "_view_count": null,
            "_view_module_version": "1.5.0",
            "box_style": "",
            "layout": "IPY_MODEL_e8a843a94c994e56a615f681e56610d3",
            "_model_module": "@jupyter-widgets/controls",
            "children": [
              "IPY_MODEL_568a2689d54f4c0686502f6f7a0cf40f",
              "IPY_MODEL_710c20d8b4a647a2a8b9e89416235cfe"
            ]
          }
        },
        "e8a843a94c994e56a615f681e56610d3": {
          "model_module": "@jupyter-widgets/base",
          "model_name": "LayoutModel",
          "state": {
            "_view_name": "LayoutView",
            "grid_template_rows": null,
            "right": null,
            "justify_content": null,
            "_view_module": "@jupyter-widgets/base",
            "overflow": null,
            "_model_module_version": "1.2.0",
            "_view_count": null,
            "flex_flow": null,
            "width": null,
            "min_width": null,
            "border": null,
            "align_items": null,
            "bottom": null,
            "_model_module": "@jupyter-widgets/base",
            "top": null,
            "grid_column": null,
            "overflow_y": null,
            "overflow_x": null,
            "grid_auto_flow": null,
            "grid_area": null,
            "grid_template_columns": null,
            "flex": null,
            "_model_name": "LayoutModel",
            "justify_items": null,
            "grid_row": null,
            "max_height": null,
            "align_content": null,
            "visibility": null,
            "align_self": null,
            "height": null,
            "min_height": null,
            "padding": null,
            "grid_auto_rows": null,
            "grid_gap": null,
            "max_width": null,
            "order": null,
            "_view_module_version": "1.2.0",
            "grid_template_areas": null,
            "object_position": null,
            "object_fit": null,
            "grid_auto_columns": null,
            "margin": null,
            "display": null,
            "left": null
          }
        },
        "568a2689d54f4c0686502f6f7a0cf40f": {
          "model_module": "@jupyter-widgets/controls",
          "model_name": "FloatProgressModel",
          "state": {
            "_view_name": "ProgressView",
            "style": "IPY_MODEL_7b49cadf599f4fd397d71f60ae540f51",
            "_dom_classes": [],
            "description": "Downloading: 100%",
            "_model_name": "FloatProgressModel",
            "bar_style": "success",
            "max": 793981,
            "_view_module": "@jupyter-widgets/controls",
            "_model_module_version": "1.5.0",
            "value": 793981,
            "_view_count": null,
            "_view_module_version": "1.5.0",
            "orientation": "horizontal",
            "min": 0,
            "description_tooltip": null,
            "_model_module": "@jupyter-widgets/controls",
            "layout": "IPY_MODEL_30895b59d1794c9f90e73e6405c4754a"
          }
        },
        "710c20d8b4a647a2a8b9e89416235cfe": {
          "model_module": "@jupyter-widgets/controls",
          "model_name": "HTMLModel",
          "state": {
            "_view_name": "HTMLView",
            "style": "IPY_MODEL_2b0efa97e62d487e8bdf4f5e6d4042cc",
            "_dom_classes": [],
            "description": "",
            "_model_name": "HTMLModel",
            "placeholder": "​",
            "_view_module": "@jupyter-widgets/controls",
            "_model_module_version": "1.5.0",
            "value": " 794k/794k [00:00&lt;00:00, 1.18MB/s]",
            "_view_count": null,
            "_view_module_version": "1.5.0",
            "description_tooltip": null,
            "_model_module": "@jupyter-widgets/controls",
            "layout": "IPY_MODEL_a7b7a6941b0043d5bc13b95b3fe12fbd"
          }
        },
        "7b49cadf599f4fd397d71f60ae540f51": {
          "model_module": "@jupyter-widgets/controls",
          "model_name": "ProgressStyleModel",
          "state": {
            "_view_name": "StyleView",
            "_model_name": "ProgressStyleModel",
            "description_width": "initial",
            "_view_module": "@jupyter-widgets/base",
            "_model_module_version": "1.5.0",
            "_view_count": null,
            "_view_module_version": "1.2.0",
            "bar_color": null,
            "_model_module": "@jupyter-widgets/controls"
          }
        },
        "30895b59d1794c9f90e73e6405c4754a": {
          "model_module": "@jupyter-widgets/base",
          "model_name": "LayoutModel",
          "state": {
            "_view_name": "LayoutView",
            "grid_template_rows": null,
            "right": null,
            "justify_content": null,
            "_view_module": "@jupyter-widgets/base",
            "overflow": null,
            "_model_module_version": "1.2.0",
            "_view_count": null,
            "flex_flow": null,
            "width": null,
            "min_width": null,
            "border": null,
            "align_items": null,
            "bottom": null,
            "_model_module": "@jupyter-widgets/base",
            "top": null,
            "grid_column": null,
            "overflow_y": null,
            "overflow_x": null,
            "grid_auto_flow": null,
            "grid_area": null,
            "grid_template_columns": null,
            "flex": null,
            "_model_name": "LayoutModel",
            "justify_items": null,
            "grid_row": null,
            "max_height": null,
            "align_content": null,
            "visibility": null,
            "align_self": null,
            "height": null,
            "min_height": null,
            "padding": null,
            "grid_auto_rows": null,
            "grid_gap": null,
            "max_width": null,
            "order": null,
            "_view_module_version": "1.2.0",
            "grid_template_areas": null,
            "object_position": null,
            "object_fit": null,
            "grid_auto_columns": null,
            "margin": null,
            "display": null,
            "left": null
          }
        },
        "2b0efa97e62d487e8bdf4f5e6d4042cc": {
          "model_module": "@jupyter-widgets/controls",
          "model_name": "DescriptionStyleModel",
          "state": {
            "_view_name": "StyleView",
            "_model_name": "DescriptionStyleModel",
            "description_width": "",
            "_view_module": "@jupyter-widgets/base",
            "_model_module_version": "1.5.0",
            "_view_count": null,
            "_view_module_version": "1.2.0",
            "_model_module": "@jupyter-widgets/controls"
          }
        },
        "a7b7a6941b0043d5bc13b95b3fe12fbd": {
          "model_module": "@jupyter-widgets/base",
          "model_name": "LayoutModel",
          "state": {
            "_view_name": "LayoutView",
            "grid_template_rows": null,
            "right": null,
            "justify_content": null,
            "_view_module": "@jupyter-widgets/base",
            "overflow": null,
            "_model_module_version": "1.2.0",
            "_view_count": null,
            "flex_flow": null,
            "width": null,
            "min_width": null,
            "border": null,
            "align_items": null,
            "bottom": null,
            "_model_module": "@jupyter-widgets/base",
            "top": null,
            "grid_column": null,
            "overflow_y": null,
            "overflow_x": null,
            "grid_auto_flow": null,
            "grid_area": null,
            "grid_template_columns": null,
            "flex": null,
            "_model_name": "LayoutModel",
            "justify_items": null,
            "grid_row": null,
            "max_height": null,
            "align_content": null,
            "visibility": null,
            "align_self": null,
            "height": null,
            "min_height": null,
            "padding": null,
            "grid_auto_rows": null,
            "grid_gap": null,
            "max_width": null,
            "order": null,
            "_view_module_version": "1.2.0",
            "grid_template_areas": null,
            "object_position": null,
            "object_fit": null,
            "grid_auto_columns": null,
            "margin": null,
            "display": null,
            "left": null
          }
        },
        "f84d84816d1c461c8ca6f122b8b38800": {
          "model_module": "@jupyter-widgets/controls",
          "model_name": "HBoxModel",
          "state": {
            "_view_name": "HBoxView",
            "_dom_classes": [],
            "_model_name": "HBoxModel",
            "_view_module": "@jupyter-widgets/controls",
            "_model_module_version": "1.5.0",
            "_view_count": null,
            "_view_module_version": "1.5.0",
            "box_style": "",
            "layout": "IPY_MODEL_f0afa6e28c4d4e49b42184d3ecee877f",
            "_model_module": "@jupyter-widgets/controls",
            "children": [
              "IPY_MODEL_1686161511a14868a9bf31a36d5cbb92",
              "IPY_MODEL_07b662f5401a40f0a3cd3124d9764557"
            ]
          }
        },
        "f0afa6e28c4d4e49b42184d3ecee877f": {
          "model_module": "@jupyter-widgets/base",
          "model_name": "LayoutModel",
          "state": {
            "_view_name": "LayoutView",
            "grid_template_rows": null,
            "right": null,
            "justify_content": null,
            "_view_module": "@jupyter-widgets/base",
            "overflow": null,
            "_model_module_version": "1.2.0",
            "_view_count": null,
            "flex_flow": null,
            "width": null,
            "min_width": null,
            "border": null,
            "align_items": null,
            "bottom": null,
            "_model_module": "@jupyter-widgets/base",
            "top": null,
            "grid_column": null,
            "overflow_y": null,
            "overflow_x": null,
            "grid_auto_flow": null,
            "grid_area": null,
            "grid_template_columns": null,
            "flex": null,
            "_model_name": "LayoutModel",
            "justify_items": null,
            "grid_row": null,
            "max_height": null,
            "align_content": null,
            "visibility": null,
            "align_self": null,
            "height": null,
            "min_height": null,
            "padding": null,
            "grid_auto_rows": null,
            "grid_gap": null,
            "max_width": null,
            "order": null,
            "_view_module_version": "1.2.0",
            "grid_template_areas": null,
            "object_position": null,
            "object_fit": null,
            "grid_auto_columns": null,
            "margin": null,
            "display": null,
            "left": null
          }
        },
        "1686161511a14868a9bf31a36d5cbb92": {
          "model_module": "@jupyter-widgets/controls",
          "model_name": "FloatProgressModel",
          "state": {
            "_view_name": "ProgressView",
            "style": "IPY_MODEL_7bf705120e96412cb2caf3cc0fff2025",
            "_dom_classes": [],
            "description": "Downloading: 100%",
            "_model_name": "FloatProgressModel",
            "bar_style": "success",
            "max": 1682192,
            "_view_module": "@jupyter-widgets/controls",
            "_model_module_version": "1.5.0",
            "value": 1682192,
            "_view_count": null,
            "_view_module_version": "1.5.0",
            "orientation": "horizontal",
            "min": 0,
            "description_tooltip": null,
            "_model_module": "@jupyter-widgets/controls",
            "layout": "IPY_MODEL_98f882ac265a4c54912de495a69c0ab6"
          }
        },
        "07b662f5401a40f0a3cd3124d9764557": {
          "model_module": "@jupyter-widgets/controls",
          "model_name": "HTMLModel",
          "state": {
            "_view_name": "HTMLView",
            "style": "IPY_MODEL_636b8fa2c4fe4af4a24bee3a6e9032b4",
            "_dom_classes": [],
            "description": "",
            "_model_name": "HTMLModel",
            "placeholder": "​",
            "_view_module": "@jupyter-widgets/controls",
            "_model_module_version": "1.5.0",
            "value": " 1.68M/1.68M [00:00&lt;00:00, 4.65MB/s]",
            "_view_count": null,
            "_view_module_version": "1.5.0",
            "description_tooltip": null,
            "_model_module": "@jupyter-widgets/controls",
            "layout": "IPY_MODEL_a059da92bad949748da96f420a7dc736"
          }
        },
        "7bf705120e96412cb2caf3cc0fff2025": {
          "model_module": "@jupyter-widgets/controls",
          "model_name": "ProgressStyleModel",
          "state": {
            "_view_name": "StyleView",
            "_model_name": "ProgressStyleModel",
            "description_width": "initial",
            "_view_module": "@jupyter-widgets/base",
            "_model_module_version": "1.5.0",
            "_view_count": null,
            "_view_module_version": "1.2.0",
            "bar_color": null,
            "_model_module": "@jupyter-widgets/controls"
          }
        },
        "98f882ac265a4c54912de495a69c0ab6": {
          "model_module": "@jupyter-widgets/base",
          "model_name": "LayoutModel",
          "state": {
            "_view_name": "LayoutView",
            "grid_template_rows": null,
            "right": null,
            "justify_content": null,
            "_view_module": "@jupyter-widgets/base",
            "overflow": null,
            "_model_module_version": "1.2.0",
            "_view_count": null,
            "flex_flow": null,
            "width": null,
            "min_width": null,
            "border": null,
            "align_items": null,
            "bottom": null,
            "_model_module": "@jupyter-widgets/base",
            "top": null,
            "grid_column": null,
            "overflow_y": null,
            "overflow_x": null,
            "grid_auto_flow": null,
            "grid_area": null,
            "grid_template_columns": null,
            "flex": null,
            "_model_name": "LayoutModel",
            "justify_items": null,
            "grid_row": null,
            "max_height": null,
            "align_content": null,
            "visibility": null,
            "align_self": null,
            "height": null,
            "min_height": null,
            "padding": null,
            "grid_auto_rows": null,
            "grid_gap": null,
            "max_width": null,
            "order": null,
            "_view_module_version": "1.2.0",
            "grid_template_areas": null,
            "object_position": null,
            "object_fit": null,
            "grid_auto_columns": null,
            "margin": null,
            "display": null,
            "left": null
          }
        },
        "636b8fa2c4fe4af4a24bee3a6e9032b4": {
          "model_module": "@jupyter-widgets/controls",
          "model_name": "DescriptionStyleModel",
          "state": {
            "_view_name": "StyleView",
            "_model_name": "DescriptionStyleModel",
            "description_width": "",
            "_view_module": "@jupyter-widgets/base",
            "_model_module_version": "1.5.0",
            "_view_count": null,
            "_view_module_version": "1.2.0",
            "_model_module": "@jupyter-widgets/controls"
          }
        },
        "a059da92bad949748da96f420a7dc736": {
          "model_module": "@jupyter-widgets/base",
          "model_name": "LayoutModel",
          "state": {
            "_view_name": "LayoutView",
            "grid_template_rows": null,
            "right": null,
            "justify_content": null,
            "_view_module": "@jupyter-widgets/base",
            "overflow": null,
            "_model_module_version": "1.2.0",
            "_view_count": null,
            "flex_flow": null,
            "width": null,
            "min_width": null,
            "border": null,
            "align_items": null,
            "bottom": null,
            "_model_module": "@jupyter-widgets/base",
            "top": null,
            "grid_column": null,
            "overflow_y": null,
            "overflow_x": null,
            "grid_auto_flow": null,
            "grid_area": null,
            "grid_template_columns": null,
            "flex": null,
            "_model_name": "LayoutModel",
            "justify_items": null,
            "grid_row": null,
            "max_height": null,
            "align_content": null,
            "visibility": null,
            "align_self": null,
            "height": null,
            "min_height": null,
            "padding": null,
            "grid_auto_rows": null,
            "grid_gap": null,
            "max_width": null,
            "order": null,
            "_view_module_version": "1.2.0",
            "grid_template_areas": null,
            "object_position": null,
            "object_fit": null,
            "grid_auto_columns": null,
            "margin": null,
            "display": null,
            "left": null
          }
        },
        "935914645e114bf19513b82cb37b958a": {
          "model_module": "@jupyter-widgets/controls",
          "model_name": "HBoxModel",
          "state": {
            "_view_name": "HBoxView",
            "_dom_classes": [],
            "_model_name": "HBoxModel",
            "_view_module": "@jupyter-widgets/controls",
            "_model_module_version": "1.5.0",
            "_view_count": null,
            "_view_module_version": "1.5.0",
            "box_style": "",
            "layout": "IPY_MODEL_4b42549a456e43dabbcc9c2bd8734fbb",
            "_model_module": "@jupyter-widgets/controls",
            "children": [
              "IPY_MODEL_7e1c99f218c84085a61488b0bd1b7029",
              "IPY_MODEL_9d3663f2620a4729a7d991d5ff76c985"
            ]
          }
        },
        "4b42549a456e43dabbcc9c2bd8734fbb": {
          "model_module": "@jupyter-widgets/base",
          "model_name": "LayoutModel",
          "state": {
            "_view_name": "LayoutView",
            "grid_template_rows": null,
            "right": null,
            "justify_content": null,
            "_view_module": "@jupyter-widgets/base",
            "overflow": null,
            "_model_module_version": "1.2.0",
            "_view_count": null,
            "flex_flow": null,
            "width": null,
            "min_width": null,
            "border": null,
            "align_items": null,
            "bottom": null,
            "_model_module": "@jupyter-widgets/base",
            "top": null,
            "grid_column": null,
            "overflow_y": null,
            "overflow_x": null,
            "grid_auto_flow": null,
            "grid_area": null,
            "grid_template_columns": null,
            "flex": null,
            "_model_name": "LayoutModel",
            "justify_items": null,
            "grid_row": null,
            "max_height": null,
            "align_content": null,
            "visibility": null,
            "align_self": null,
            "height": null,
            "min_height": null,
            "padding": null,
            "grid_auto_rows": null,
            "grid_gap": null,
            "max_width": null,
            "order": null,
            "_view_module_version": "1.2.0",
            "grid_template_areas": null,
            "object_position": null,
            "object_fit": null,
            "grid_auto_columns": null,
            "margin": null,
            "display": null,
            "left": null
          }
        },
        "7e1c99f218c84085a61488b0bd1b7029": {
          "model_module": "@jupyter-widgets/controls",
          "model_name": "FloatProgressModel",
          "state": {
            "_view_name": "ProgressView",
            "style": "IPY_MODEL_1925badd460b4f7dbf5504fbfe5ed9b3",
            "_dom_classes": [],
            "description": "Downloading: 100%",
            "_model_name": "FloatProgressModel",
            "bar_style": "success",
            "max": 299,
            "_view_module": "@jupyter-widgets/controls",
            "_model_module_version": "1.5.0",
            "value": 299,
            "_view_count": null,
            "_view_module_version": "1.5.0",
            "orientation": "horizontal",
            "min": 0,
            "description_tooltip": null,
            "_model_module": "@jupyter-widgets/controls",
            "layout": "IPY_MODEL_a06762d549b2434da2cf1d9ff298ede6"
          }
        },
        "9d3663f2620a4729a7d991d5ff76c985": {
          "model_module": "@jupyter-widgets/controls",
          "model_name": "HTMLModel",
          "state": {
            "_view_name": "HTMLView",
            "style": "IPY_MODEL_69fefee3142b4d2f96638a92c6fb8143",
            "_dom_classes": [],
            "description": "",
            "_model_name": "HTMLModel",
            "placeholder": "​",
            "_view_module": "@jupyter-widgets/controls",
            "_model_module_version": "1.5.0",
            "value": " 299/299 [00:11&lt;00:00, 25.5B/s]",
            "_view_count": null,
            "_view_module_version": "1.5.0",
            "description_tooltip": null,
            "_model_module": "@jupyter-widgets/controls",
            "layout": "IPY_MODEL_82b25ef33e29450f95ceae40f09dce3b"
          }
        },
        "1925badd460b4f7dbf5504fbfe5ed9b3": {
          "model_module": "@jupyter-widgets/controls",
          "model_name": "ProgressStyleModel",
          "state": {
            "_view_name": "StyleView",
            "_model_name": "ProgressStyleModel",
            "description_width": "initial",
            "_view_module": "@jupyter-widgets/base",
            "_model_module_version": "1.5.0",
            "_view_count": null,
            "_view_module_version": "1.2.0",
            "bar_color": null,
            "_model_module": "@jupyter-widgets/controls"
          }
        },
        "a06762d549b2434da2cf1d9ff298ede6": {
          "model_module": "@jupyter-widgets/base",
          "model_name": "LayoutModel",
          "state": {
            "_view_name": "LayoutView",
            "grid_template_rows": null,
            "right": null,
            "justify_content": null,
            "_view_module": "@jupyter-widgets/base",
            "overflow": null,
            "_model_module_version": "1.2.0",
            "_view_count": null,
            "flex_flow": null,
            "width": null,
            "min_width": null,
            "border": null,
            "align_items": null,
            "bottom": null,
            "_model_module": "@jupyter-widgets/base",
            "top": null,
            "grid_column": null,
            "overflow_y": null,
            "overflow_x": null,
            "grid_auto_flow": null,
            "grid_area": null,
            "grid_template_columns": null,
            "flex": null,
            "_model_name": "LayoutModel",
            "justify_items": null,
            "grid_row": null,
            "max_height": null,
            "align_content": null,
            "visibility": null,
            "align_self": null,
            "height": null,
            "min_height": null,
            "padding": null,
            "grid_auto_rows": null,
            "grid_gap": null,
            "max_width": null,
            "order": null,
            "_view_module_version": "1.2.0",
            "grid_template_areas": null,
            "object_position": null,
            "object_fit": null,
            "grid_auto_columns": null,
            "margin": null,
            "display": null,
            "left": null
          }
        },
        "69fefee3142b4d2f96638a92c6fb8143": {
          "model_module": "@jupyter-widgets/controls",
          "model_name": "DescriptionStyleModel",
          "state": {
            "_view_name": "StyleView",
            "_model_name": "DescriptionStyleModel",
            "description_width": "",
            "_view_module": "@jupyter-widgets/base",
            "_model_module_version": "1.5.0",
            "_view_count": null,
            "_view_module_version": "1.2.0",
            "_model_module": "@jupyter-widgets/controls"
          }
        },
        "82b25ef33e29450f95ceae40f09dce3b": {
          "model_module": "@jupyter-widgets/base",
          "model_name": "LayoutModel",
          "state": {
            "_view_name": "LayoutView",
            "grid_template_rows": null,
            "right": null,
            "justify_content": null,
            "_view_module": "@jupyter-widgets/base",
            "overflow": null,
            "_model_module_version": "1.2.0",
            "_view_count": null,
            "flex_flow": null,
            "width": null,
            "min_width": null,
            "border": null,
            "align_items": null,
            "bottom": null,
            "_model_module": "@jupyter-widgets/base",
            "top": null,
            "grid_column": null,
            "overflow_y": null,
            "overflow_x": null,
            "grid_auto_flow": null,
            "grid_area": null,
            "grid_template_columns": null,
            "flex": null,
            "_model_name": "LayoutModel",
            "justify_items": null,
            "grid_row": null,
            "max_height": null,
            "align_content": null,
            "visibility": null,
            "align_self": null,
            "height": null,
            "min_height": null,
            "padding": null,
            "grid_auto_rows": null,
            "grid_gap": null,
            "max_width": null,
            "order": null,
            "_view_module_version": "1.2.0",
            "grid_template_areas": null,
            "object_position": null,
            "object_fit": null,
            "grid_auto_columns": null,
            "margin": null,
            "display": null,
            "left": null
          }
        },
        "338987f117e145a795a82312705549ce": {
          "model_module": "@jupyter-widgets/controls",
          "model_name": "HBoxModel",
          "state": {
            "_view_name": "HBoxView",
            "_dom_classes": [],
            "_model_name": "HBoxModel",
            "_view_module": "@jupyter-widgets/controls",
            "_model_module_version": "1.5.0",
            "_view_count": null,
            "_view_module_version": "1.5.0",
            "box_style": "",
            "layout": "IPY_MODEL_14b34d4826c24de29df92a8cf7068415",
            "_model_module": "@jupyter-widgets/controls",
            "children": [
              "IPY_MODEL_e206a5602cfe4fc8894a84d706afe32d",
              "IPY_MODEL_d24fbf2fb0e948ae8d5f76c7e16cd3a9"
            ]
          }
        },
        "14b34d4826c24de29df92a8cf7068415": {
          "model_module": "@jupyter-widgets/base",
          "model_name": "LayoutModel",
          "state": {
            "_view_name": "LayoutView",
            "grid_template_rows": null,
            "right": null,
            "justify_content": null,
            "_view_module": "@jupyter-widgets/base",
            "overflow": null,
            "_model_module_version": "1.2.0",
            "_view_count": null,
            "flex_flow": null,
            "width": null,
            "min_width": null,
            "border": null,
            "align_items": null,
            "bottom": null,
            "_model_module": "@jupyter-widgets/base",
            "top": null,
            "grid_column": null,
            "overflow_y": null,
            "overflow_x": null,
            "grid_auto_flow": null,
            "grid_area": null,
            "grid_template_columns": null,
            "flex": null,
            "_model_name": "LayoutModel",
            "justify_items": null,
            "grid_row": null,
            "max_height": null,
            "align_content": null,
            "visibility": null,
            "align_self": null,
            "height": null,
            "min_height": null,
            "padding": null,
            "grid_auto_rows": null,
            "grid_gap": null,
            "max_width": null,
            "order": null,
            "_view_module_version": "1.2.0",
            "grid_template_areas": null,
            "object_position": null,
            "object_fit": null,
            "grid_auto_columns": null,
            "margin": null,
            "display": null,
            "left": null
          }
        },
        "e206a5602cfe4fc8894a84d706afe32d": {
          "model_module": "@jupyter-widgets/controls",
          "model_name": "FloatProgressModel",
          "state": {
            "_view_name": "ProgressView",
            "style": "IPY_MODEL_f8e77ca4a217470a8b0bd445cd3b47f1",
            "_dom_classes": [],
            "description": "Downloading: 100%",
            "_model_name": "FloatProgressModel",
            "bar_style": "success",
            "max": 414,
            "_view_module": "@jupyter-widgets/controls",
            "_model_module_version": "1.5.0",
            "value": 414,
            "_view_count": null,
            "_view_module_version": "1.5.0",
            "orientation": "horizontal",
            "min": 0,
            "description_tooltip": null,
            "_model_module": "@jupyter-widgets/controls",
            "layout": "IPY_MODEL_a1156069186c4180aea71dceaf7c40fb"
          }
        },
        "d24fbf2fb0e948ae8d5f76c7e16cd3a9": {
          "model_module": "@jupyter-widgets/controls",
          "model_name": "HTMLModel",
          "state": {
            "_view_name": "HTMLView",
            "style": "IPY_MODEL_e47c4c57e0b34ec8a70a8d769be94ffe",
            "_dom_classes": [],
            "description": "",
            "_model_name": "HTMLModel",
            "placeholder": "​",
            "_view_module": "@jupyter-widgets/controls",
            "_model_module_version": "1.5.0",
            "value": " 414/414 [00:00&lt;00:00, 723B/s]",
            "_view_count": null,
            "_view_module_version": "1.5.0",
            "description_tooltip": null,
            "_model_module": "@jupyter-widgets/controls",
            "layout": "IPY_MODEL_424d9c344ca14132bfafe03552e141de"
          }
        },
        "f8e77ca4a217470a8b0bd445cd3b47f1": {
          "model_module": "@jupyter-widgets/controls",
          "model_name": "ProgressStyleModel",
          "state": {
            "_view_name": "StyleView",
            "_model_name": "ProgressStyleModel",
            "description_width": "initial",
            "_view_module": "@jupyter-widgets/base",
            "_model_module_version": "1.5.0",
            "_view_count": null,
            "_view_module_version": "1.2.0",
            "bar_color": null,
            "_model_module": "@jupyter-widgets/controls"
          }
        },
        "a1156069186c4180aea71dceaf7c40fb": {
          "model_module": "@jupyter-widgets/base",
          "model_name": "LayoutModel",
          "state": {
            "_view_name": "LayoutView",
            "grid_template_rows": null,
            "right": null,
            "justify_content": null,
            "_view_module": "@jupyter-widgets/base",
            "overflow": null,
            "_model_module_version": "1.2.0",
            "_view_count": null,
            "flex_flow": null,
            "width": null,
            "min_width": null,
            "border": null,
            "align_items": null,
            "bottom": null,
            "_model_module": "@jupyter-widgets/base",
            "top": null,
            "grid_column": null,
            "overflow_y": null,
            "overflow_x": null,
            "grid_auto_flow": null,
            "grid_area": null,
            "grid_template_columns": null,
            "flex": null,
            "_model_name": "LayoutModel",
            "justify_items": null,
            "grid_row": null,
            "max_height": null,
            "align_content": null,
            "visibility": null,
            "align_self": null,
            "height": null,
            "min_height": null,
            "padding": null,
            "grid_auto_rows": null,
            "grid_gap": null,
            "max_width": null,
            "order": null,
            "_view_module_version": "1.2.0",
            "grid_template_areas": null,
            "object_position": null,
            "object_fit": null,
            "grid_auto_columns": null,
            "margin": null,
            "display": null,
            "left": null
          }
        },
        "e47c4c57e0b34ec8a70a8d769be94ffe": {
          "model_module": "@jupyter-widgets/controls",
          "model_name": "DescriptionStyleModel",
          "state": {
            "_view_name": "StyleView",
            "_model_name": "DescriptionStyleModel",
            "description_width": "",
            "_view_module": "@jupyter-widgets/base",
            "_model_module_version": "1.5.0",
            "_view_count": null,
            "_view_module_version": "1.2.0",
            "_model_module": "@jupyter-widgets/controls"
          }
        },
        "424d9c344ca14132bfafe03552e141de": {
          "model_module": "@jupyter-widgets/base",
          "model_name": "LayoutModel",
          "state": {
            "_view_name": "LayoutView",
            "grid_template_rows": null,
            "right": null,
            "justify_content": null,
            "_view_module": "@jupyter-widgets/base",
            "overflow": null,
            "_model_module_version": "1.2.0",
            "_view_count": null,
            "flex_flow": null,
            "width": null,
            "min_width": null,
            "border": null,
            "align_items": null,
            "bottom": null,
            "_model_module": "@jupyter-widgets/base",
            "top": null,
            "grid_column": null,
            "overflow_y": null,
            "overflow_x": null,
            "grid_auto_flow": null,
            "grid_area": null,
            "grid_template_columns": null,
            "flex": null,
            "_model_name": "LayoutModel",
            "justify_items": null,
            "grid_row": null,
            "max_height": null,
            "align_content": null,
            "visibility": null,
            "align_self": null,
            "height": null,
            "min_height": null,
            "padding": null,
            "grid_auto_rows": null,
            "grid_gap": null,
            "max_width": null,
            "order": null,
            "_view_module_version": "1.2.0",
            "grid_template_areas": null,
            "object_position": null,
            "object_fit": null,
            "grid_auto_columns": null,
            "margin": null,
            "display": null,
            "left": null
          }
        },
        "e0e407512d7e43349771b5bc3a92b828": {
          "model_module": "@jupyter-widgets/controls",
          "model_name": "HBoxModel",
          "state": {
            "_view_name": "HBoxView",
            "_dom_classes": [],
            "_model_name": "HBoxModel",
            "_view_module": "@jupyter-widgets/controls",
            "_model_module_version": "1.5.0",
            "_view_count": null,
            "_view_module_version": "1.5.0",
            "box_style": "",
            "layout": "IPY_MODEL_c63f446e59fe4eddb16f8a024e69053b",
            "_model_module": "@jupyter-widgets/controls",
            "children": [
              "IPY_MODEL_1d1060ecf06d4b0c8a5bc5f913da2684",
              "IPY_MODEL_099406c06cd54a12b715b8559cb95e75"
            ]
          }
        },
        "c63f446e59fe4eddb16f8a024e69053b": {
          "model_module": "@jupyter-widgets/base",
          "model_name": "LayoutModel",
          "state": {
            "_view_name": "LayoutView",
            "grid_template_rows": null,
            "right": null,
            "justify_content": null,
            "_view_module": "@jupyter-widgets/base",
            "overflow": null,
            "_model_module_version": "1.2.0",
            "_view_count": null,
            "flex_flow": null,
            "width": null,
            "min_width": null,
            "border": null,
            "align_items": null,
            "bottom": null,
            "_model_module": "@jupyter-widgets/base",
            "top": null,
            "grid_column": null,
            "overflow_y": null,
            "overflow_x": null,
            "grid_auto_flow": null,
            "grid_area": null,
            "grid_template_columns": null,
            "flex": null,
            "_model_name": "LayoutModel",
            "justify_items": null,
            "grid_row": null,
            "max_height": null,
            "align_content": null,
            "visibility": null,
            "align_self": null,
            "height": null,
            "min_height": null,
            "padding": null,
            "grid_auto_rows": null,
            "grid_gap": null,
            "max_width": null,
            "order": null,
            "_view_module_version": "1.2.0",
            "grid_template_areas": null,
            "object_position": null,
            "object_fit": null,
            "grid_auto_columns": null,
            "margin": null,
            "display": null,
            "left": null
          }
        },
        "1d1060ecf06d4b0c8a5bc5f913da2684": {
          "model_module": "@jupyter-widgets/controls",
          "model_name": "FloatProgressModel",
          "state": {
            "_view_name": "ProgressView",
            "style": "IPY_MODEL_0c52d5096a6a47a882a3fd4095ae31e2",
            "_dom_classes": [],
            "description": "Downloading: 100%",
            "_model_name": "FloatProgressModel",
            "bar_style": "success",
            "max": 442587849,
            "_view_module": "@jupyter-widgets/controls",
            "_model_module_version": "1.5.0",
            "value": 442587849,
            "_view_count": null,
            "_view_module_version": "1.5.0",
            "orientation": "horizontal",
            "min": 0,
            "description_tooltip": null,
            "_model_module": "@jupyter-widgets/controls",
            "layout": "IPY_MODEL_125777346c37485e8a7f6e3c8f90859f"
          }
        },
        "099406c06cd54a12b715b8559cb95e75": {
          "model_module": "@jupyter-widgets/controls",
          "model_name": "HTMLModel",
          "state": {
            "_view_name": "HTMLView",
            "style": "IPY_MODEL_c2a2d83e0d474eaa82dcecf9bba33ca0",
            "_dom_classes": [],
            "description": "",
            "_model_name": "HTMLModel",
            "placeholder": "​",
            "_view_module": "@jupyter-widgets/controls",
            "_model_module_version": "1.5.0",
            "value": " 443M/443M [00:10&lt;00:00, 40.4MB/s]",
            "_view_count": null,
            "_view_module_version": "1.5.0",
            "description_tooltip": null,
            "_model_module": "@jupyter-widgets/controls",
            "layout": "IPY_MODEL_9d96da5c12534b5c86e02fcfb709e8ec"
          }
        },
        "0c52d5096a6a47a882a3fd4095ae31e2": {
          "model_module": "@jupyter-widgets/controls",
          "model_name": "ProgressStyleModel",
          "state": {
            "_view_name": "StyleView",
            "_model_name": "ProgressStyleModel",
            "description_width": "initial",
            "_view_module": "@jupyter-widgets/base",
            "_model_module_version": "1.5.0",
            "_view_count": null,
            "_view_module_version": "1.2.0",
            "bar_color": null,
            "_model_module": "@jupyter-widgets/controls"
          }
        },
        "125777346c37485e8a7f6e3c8f90859f": {
          "model_module": "@jupyter-widgets/base",
          "model_name": "LayoutModel",
          "state": {
            "_view_name": "LayoutView",
            "grid_template_rows": null,
            "right": null,
            "justify_content": null,
            "_view_module": "@jupyter-widgets/base",
            "overflow": null,
            "_model_module_version": "1.2.0",
            "_view_count": null,
            "flex_flow": null,
            "width": null,
            "min_width": null,
            "border": null,
            "align_items": null,
            "bottom": null,
            "_model_module": "@jupyter-widgets/base",
            "top": null,
            "grid_column": null,
            "overflow_y": null,
            "overflow_x": null,
            "grid_auto_flow": null,
            "grid_area": null,
            "grid_template_columns": null,
            "flex": null,
            "_model_name": "LayoutModel",
            "justify_items": null,
            "grid_row": null,
            "max_height": null,
            "align_content": null,
            "visibility": null,
            "align_self": null,
            "height": null,
            "min_height": null,
            "padding": null,
            "grid_auto_rows": null,
            "grid_gap": null,
            "max_width": null,
            "order": null,
            "_view_module_version": "1.2.0",
            "grid_template_areas": null,
            "object_position": null,
            "object_fit": null,
            "grid_auto_columns": null,
            "margin": null,
            "display": null,
            "left": null
          }
        },
        "c2a2d83e0d474eaa82dcecf9bba33ca0": {
          "model_module": "@jupyter-widgets/controls",
          "model_name": "DescriptionStyleModel",
          "state": {
            "_view_name": "StyleView",
            "_model_name": "DescriptionStyleModel",
            "description_width": "",
            "_view_module": "@jupyter-widgets/base",
            "_model_module_version": "1.5.0",
            "_view_count": null,
            "_view_module_version": "1.2.0",
            "_model_module": "@jupyter-widgets/controls"
          }
        },
        "9d96da5c12534b5c86e02fcfb709e8ec": {
          "model_module": "@jupyter-widgets/base",
          "model_name": "LayoutModel",
          "state": {
            "_view_name": "LayoutView",
            "grid_template_rows": null,
            "right": null,
            "justify_content": null,
            "_view_module": "@jupyter-widgets/base",
            "overflow": null,
            "_model_module_version": "1.2.0",
            "_view_count": null,
            "flex_flow": null,
            "width": null,
            "min_width": null,
            "border": null,
            "align_items": null,
            "bottom": null,
            "_model_module": "@jupyter-widgets/base",
            "top": null,
            "grid_column": null,
            "overflow_y": null,
            "overflow_x": null,
            "grid_auto_flow": null,
            "grid_area": null,
            "grid_template_columns": null,
            "flex": null,
            "_model_name": "LayoutModel",
            "justify_items": null,
            "grid_row": null,
            "max_height": null,
            "align_content": null,
            "visibility": null,
            "align_self": null,
            "height": null,
            "min_height": null,
            "padding": null,
            "grid_auto_rows": null,
            "grid_gap": null,
            "max_width": null,
            "order": null,
            "_view_module_version": "1.2.0",
            "grid_template_areas": null,
            "object_position": null,
            "object_fit": null,
            "grid_auto_columns": null,
            "margin": null,
            "display": null,
            "left": null
          }
        },
        "a0b79b784dc74ccaa2c25b47b54ef383": {
          "model_module": "@jupyter-widgets/controls",
          "model_name": "HBoxModel",
          "state": {
            "_view_name": "HBoxView",
            "_dom_classes": [],
            "_model_name": "HBoxModel",
            "_view_module": "@jupyter-widgets/controls",
            "_model_module_version": "1.5.0",
            "_view_count": null,
            "_view_module_version": "1.5.0",
            "box_style": "",
            "layout": "IPY_MODEL_d0901f90608d48f79784cab3bc25e3fa",
            "_model_module": "@jupyter-widgets/controls",
            "children": [
              "IPY_MODEL_90ec5fd34ed54526a315fa9e1f918949",
              "IPY_MODEL_5898139d176b40cc8c7969a7391425fe"
            ]
          }
        },
        "d0901f90608d48f79784cab3bc25e3fa": {
          "model_module": "@jupyter-widgets/base",
          "model_name": "LayoutModel",
          "state": {
            "_view_name": "LayoutView",
            "grid_template_rows": null,
            "right": null,
            "justify_content": null,
            "_view_module": "@jupyter-widgets/base",
            "overflow": null,
            "_model_module_version": "1.2.0",
            "_view_count": null,
            "flex_flow": null,
            "width": null,
            "min_width": null,
            "border": null,
            "align_items": null,
            "bottom": null,
            "_model_module": "@jupyter-widgets/base",
            "top": null,
            "grid_column": null,
            "overflow_y": null,
            "overflow_x": null,
            "grid_auto_flow": null,
            "grid_area": null,
            "grid_template_columns": null,
            "flex": null,
            "_model_name": "LayoutModel",
            "justify_items": null,
            "grid_row": null,
            "max_height": null,
            "align_content": null,
            "visibility": null,
            "align_self": null,
            "height": null,
            "min_height": null,
            "padding": null,
            "grid_auto_rows": null,
            "grid_gap": null,
            "max_width": null,
            "order": null,
            "_view_module_version": "1.2.0",
            "grid_template_areas": null,
            "object_position": null,
            "object_fit": null,
            "grid_auto_columns": null,
            "margin": null,
            "display": null,
            "left": null
          }
        },
        "90ec5fd34ed54526a315fa9e1f918949": {
          "model_module": "@jupyter-widgets/controls",
          "model_name": "FloatProgressModel",
          "state": {
            "_view_name": "ProgressView",
            "style": "IPY_MODEL_673ce0a5de6840f2ad3f35b8976fede8",
            "_dom_classes": [],
            "description": "Downloading: 100%",
            "_model_name": "FloatProgressModel",
            "bar_style": "success",
            "max": 847,
            "_view_module": "@jupyter-widgets/controls",
            "_model_module_version": "1.5.0",
            "value": 847,
            "_view_count": null,
            "_view_module_version": "1.5.0",
            "orientation": "horizontal",
            "min": 0,
            "description_tooltip": null,
            "_model_module": "@jupyter-widgets/controls",
            "layout": "IPY_MODEL_50f8a5add6ad4701b898764af0218127"
          }
        },
        "5898139d176b40cc8c7969a7391425fe": {
          "model_module": "@jupyter-widgets/controls",
          "model_name": "HTMLModel",
          "state": {
            "_view_name": "HTMLView",
            "style": "IPY_MODEL_c1f97e3e27294d6f823e22da8bf3dbe0",
            "_dom_classes": [],
            "description": "",
            "_model_name": "HTMLModel",
            "placeholder": "​",
            "_view_module": "@jupyter-widgets/controls",
            "_model_module_version": "1.5.0",
            "value": " 847/847 [00:00&lt;00:00, 2.16kB/s]",
            "_view_count": null,
            "_view_module_version": "1.5.0",
            "description_tooltip": null,
            "_model_module": "@jupyter-widgets/controls",
            "layout": "IPY_MODEL_ace51340553342369bc14587d03f5b4b"
          }
        },
        "673ce0a5de6840f2ad3f35b8976fede8": {
          "model_module": "@jupyter-widgets/controls",
          "model_name": "ProgressStyleModel",
          "state": {
            "_view_name": "StyleView",
            "_model_name": "ProgressStyleModel",
            "description_width": "initial",
            "_view_module": "@jupyter-widgets/base",
            "_model_module_version": "1.5.0",
            "_view_count": null,
            "_view_module_version": "1.2.0",
            "bar_color": null,
            "_model_module": "@jupyter-widgets/controls"
          }
        },
        "50f8a5add6ad4701b898764af0218127": {
          "model_module": "@jupyter-widgets/base",
          "model_name": "LayoutModel",
          "state": {
            "_view_name": "LayoutView",
            "grid_template_rows": null,
            "right": null,
            "justify_content": null,
            "_view_module": "@jupyter-widgets/base",
            "overflow": null,
            "_model_module_version": "1.2.0",
            "_view_count": null,
            "flex_flow": null,
            "width": null,
            "min_width": null,
            "border": null,
            "align_items": null,
            "bottom": null,
            "_model_module": "@jupyter-widgets/base",
            "top": null,
            "grid_column": null,
            "overflow_y": null,
            "overflow_x": null,
            "grid_auto_flow": null,
            "grid_area": null,
            "grid_template_columns": null,
            "flex": null,
            "_model_name": "LayoutModel",
            "justify_items": null,
            "grid_row": null,
            "max_height": null,
            "align_content": null,
            "visibility": null,
            "align_self": null,
            "height": null,
            "min_height": null,
            "padding": null,
            "grid_auto_rows": null,
            "grid_gap": null,
            "max_width": null,
            "order": null,
            "_view_module_version": "1.2.0",
            "grid_template_areas": null,
            "object_position": null,
            "object_fit": null,
            "grid_auto_columns": null,
            "margin": null,
            "display": null,
            "left": null
          }
        },
        "c1f97e3e27294d6f823e22da8bf3dbe0": {
          "model_module": "@jupyter-widgets/controls",
          "model_name": "DescriptionStyleModel",
          "state": {
            "_view_name": "StyleView",
            "_model_name": "DescriptionStyleModel",
            "description_width": "",
            "_view_module": "@jupyter-widgets/base",
            "_model_module_version": "1.5.0",
            "_view_count": null,
            "_view_module_version": "1.2.0",
            "_model_module": "@jupyter-widgets/controls"
          }
        },
        "ace51340553342369bc14587d03f5b4b": {
          "model_module": "@jupyter-widgets/base",
          "model_name": "LayoutModel",
          "state": {
            "_view_name": "LayoutView",
            "grid_template_rows": null,
            "right": null,
            "justify_content": null,
            "_view_module": "@jupyter-widgets/base",
            "overflow": null,
            "_model_module_version": "1.2.0",
            "_view_count": null,
            "flex_flow": null,
            "width": null,
            "min_width": null,
            "border": null,
            "align_items": null,
            "bottom": null,
            "_model_module": "@jupyter-widgets/base",
            "top": null,
            "grid_column": null,
            "overflow_y": null,
            "overflow_x": null,
            "grid_auto_flow": null,
            "grid_area": null,
            "grid_template_columns": null,
            "flex": null,
            "_model_name": "LayoutModel",
            "justify_items": null,
            "grid_row": null,
            "max_height": null,
            "align_content": null,
            "visibility": null,
            "align_self": null,
            "height": null,
            "min_height": null,
            "padding": null,
            "grid_auto_rows": null,
            "grid_gap": null,
            "max_width": null,
            "order": null,
            "_view_module_version": "1.2.0",
            "grid_template_areas": null,
            "object_position": null,
            "object_fit": null,
            "grid_auto_columns": null,
            "margin": null,
            "display": null,
            "left": null
          }
        },
        "868223eabae4407993a0409cfae3353f": {
          "model_module": "@jupyter-widgets/controls",
          "model_name": "HBoxModel",
          "state": {
            "_view_name": "HBoxView",
            "_dom_classes": [],
            "_model_name": "HBoxModel",
            "_view_module": "@jupyter-widgets/controls",
            "_model_module_version": "1.5.0",
            "_view_count": null,
            "_view_module_version": "1.5.0",
            "box_style": "",
            "layout": "IPY_MODEL_fd49cd5e07424737b8f8124f7431604b",
            "_model_module": "@jupyter-widgets/controls",
            "children": [
              "IPY_MODEL_d06d62f99c4c405fa07b61c296363a9e",
              "IPY_MODEL_4a946b3e08224f9cb1d6b3fe431920d4"
            ]
          }
        },
        "fd49cd5e07424737b8f8124f7431604b": {
          "model_module": "@jupyter-widgets/base",
          "model_name": "LayoutModel",
          "state": {
            "_view_name": "LayoutView",
            "grid_template_rows": null,
            "right": null,
            "justify_content": null,
            "_view_module": "@jupyter-widgets/base",
            "overflow": null,
            "_model_module_version": "1.2.0",
            "_view_count": null,
            "flex_flow": null,
            "width": null,
            "min_width": null,
            "border": null,
            "align_items": null,
            "bottom": null,
            "_model_module": "@jupyter-widgets/base",
            "top": null,
            "grid_column": null,
            "overflow_y": null,
            "overflow_x": null,
            "grid_auto_flow": null,
            "grid_area": null,
            "grid_template_columns": null,
            "flex": null,
            "_model_name": "LayoutModel",
            "justify_items": null,
            "grid_row": null,
            "max_height": null,
            "align_content": null,
            "visibility": null,
            "align_self": null,
            "height": null,
            "min_height": null,
            "padding": null,
            "grid_auto_rows": null,
            "grid_gap": null,
            "max_width": null,
            "order": null,
            "_view_module_version": "1.2.0",
            "grid_template_areas": null,
            "object_position": null,
            "object_fit": null,
            "grid_auto_columns": null,
            "margin": null,
            "display": null,
            "left": null
          }
        },
        "d06d62f99c4c405fa07b61c296363a9e": {
          "model_module": "@jupyter-widgets/controls",
          "model_name": "FloatProgressModel",
          "state": {
            "_view_name": "ProgressView",
            "style": "IPY_MODEL_6475c4a0c5764087b21b36e07033400b",
            "_dom_classes": [],
            "description": "Downloading: 100%",
            "_model_name": "FloatProgressModel",
            "bar_style": "success",
            "max": 793981,
            "_view_module": "@jupyter-widgets/controls",
            "_model_module_version": "1.5.0",
            "value": 793981,
            "_view_count": null,
            "_view_module_version": "1.5.0",
            "orientation": "horizontal",
            "min": 0,
            "description_tooltip": null,
            "_model_module": "@jupyter-widgets/controls",
            "layout": "IPY_MODEL_42179c65f44f431c98cdbc768feb454f"
          }
        },
        "4a946b3e08224f9cb1d6b3fe431920d4": {
          "model_module": "@jupyter-widgets/controls",
          "model_name": "HTMLModel",
          "state": {
            "_view_name": "HTMLView",
            "style": "IPY_MODEL_f4ba93e03edf42aa97414794c7d3089f",
            "_dom_classes": [],
            "description": "",
            "_model_name": "HTMLModel",
            "placeholder": "​",
            "_view_module": "@jupyter-widgets/controls",
            "_model_module_version": "1.5.0",
            "value": " 794k/794k [00:32&lt;00:00, 24.4kB/s]",
            "_view_count": null,
            "_view_module_version": "1.5.0",
            "description_tooltip": null,
            "_model_module": "@jupyter-widgets/controls",
            "layout": "IPY_MODEL_00e98ab52973477480b0aa2bde1bdb00"
          }
        },
        "6475c4a0c5764087b21b36e07033400b": {
          "model_module": "@jupyter-widgets/controls",
          "model_name": "ProgressStyleModel",
          "state": {
            "_view_name": "StyleView",
            "_model_name": "ProgressStyleModel",
            "description_width": "initial",
            "_view_module": "@jupyter-widgets/base",
            "_model_module_version": "1.5.0",
            "_view_count": null,
            "_view_module_version": "1.2.0",
            "bar_color": null,
            "_model_module": "@jupyter-widgets/controls"
          }
        },
        "42179c65f44f431c98cdbc768feb454f": {
          "model_module": "@jupyter-widgets/base",
          "model_name": "LayoutModel",
          "state": {
            "_view_name": "LayoutView",
            "grid_template_rows": null,
            "right": null,
            "justify_content": null,
            "_view_module": "@jupyter-widgets/base",
            "overflow": null,
            "_model_module_version": "1.2.0",
            "_view_count": null,
            "flex_flow": null,
            "width": null,
            "min_width": null,
            "border": null,
            "align_items": null,
            "bottom": null,
            "_model_module": "@jupyter-widgets/base",
            "top": null,
            "grid_column": null,
            "overflow_y": null,
            "overflow_x": null,
            "grid_auto_flow": null,
            "grid_area": null,
            "grid_template_columns": null,
            "flex": null,
            "_model_name": "LayoutModel",
            "justify_items": null,
            "grid_row": null,
            "max_height": null,
            "align_content": null,
            "visibility": null,
            "align_self": null,
            "height": null,
            "min_height": null,
            "padding": null,
            "grid_auto_rows": null,
            "grid_gap": null,
            "max_width": null,
            "order": null,
            "_view_module_version": "1.2.0",
            "grid_template_areas": null,
            "object_position": null,
            "object_fit": null,
            "grid_auto_columns": null,
            "margin": null,
            "display": null,
            "left": null
          }
        },
        "f4ba93e03edf42aa97414794c7d3089f": {
          "model_module": "@jupyter-widgets/controls",
          "model_name": "DescriptionStyleModel",
          "state": {
            "_view_name": "StyleView",
            "_model_name": "DescriptionStyleModel",
            "description_width": "",
            "_view_module": "@jupyter-widgets/base",
            "_model_module_version": "1.5.0",
            "_view_count": null,
            "_view_module_version": "1.2.0",
            "_model_module": "@jupyter-widgets/controls"
          }
        },
        "00e98ab52973477480b0aa2bde1bdb00": {
          "model_module": "@jupyter-widgets/base",
          "model_name": "LayoutModel",
          "state": {
            "_view_name": "LayoutView",
            "grid_template_rows": null,
            "right": null,
            "justify_content": null,
            "_view_module": "@jupyter-widgets/base",
            "overflow": null,
            "_model_module_version": "1.2.0",
            "_view_count": null,
            "flex_flow": null,
            "width": null,
            "min_width": null,
            "border": null,
            "align_items": null,
            "bottom": null,
            "_model_module": "@jupyter-widgets/base",
            "top": null,
            "grid_column": null,
            "overflow_y": null,
            "overflow_x": null,
            "grid_auto_flow": null,
            "grid_area": null,
            "grid_template_columns": null,
            "flex": null,
            "_model_name": "LayoutModel",
            "justify_items": null,
            "grid_row": null,
            "max_height": null,
            "align_content": null,
            "visibility": null,
            "align_self": null,
            "height": null,
            "min_height": null,
            "padding": null,
            "grid_auto_rows": null,
            "grid_gap": null,
            "max_width": null,
            "order": null,
            "_view_module_version": "1.2.0",
            "grid_template_areas": null,
            "object_position": null,
            "object_fit": null,
            "grid_auto_columns": null,
            "margin": null,
            "display": null,
            "left": null
          }
        },
        "db2881aded1e4e0bb0e506c924ddc096": {
          "model_module": "@jupyter-widgets/controls",
          "model_name": "HBoxModel",
          "state": {
            "_view_name": "HBoxView",
            "_dom_classes": [],
            "_model_name": "HBoxModel",
            "_view_module": "@jupyter-widgets/controls",
            "_model_module_version": "1.5.0",
            "_view_count": null,
            "_view_module_version": "1.5.0",
            "box_style": "",
            "layout": "IPY_MODEL_9b203c51ec9d4ff08a0bca198ce6350d",
            "_model_module": "@jupyter-widgets/controls",
            "children": [
              "IPY_MODEL_1d1ee26d513349e7a87e655c8e0e71d4",
              "IPY_MODEL_608dc5c2fe86423cb21a479a7aa33769"
            ]
          }
        },
        "9b203c51ec9d4ff08a0bca198ce6350d": {
          "model_module": "@jupyter-widgets/base",
          "model_name": "LayoutModel",
          "state": {
            "_view_name": "LayoutView",
            "grid_template_rows": null,
            "right": null,
            "justify_content": null,
            "_view_module": "@jupyter-widgets/base",
            "overflow": null,
            "_model_module_version": "1.2.0",
            "_view_count": null,
            "flex_flow": null,
            "width": null,
            "min_width": null,
            "border": null,
            "align_items": null,
            "bottom": null,
            "_model_module": "@jupyter-widgets/base",
            "top": null,
            "grid_column": null,
            "overflow_y": null,
            "overflow_x": null,
            "grid_auto_flow": null,
            "grid_area": null,
            "grid_template_columns": null,
            "flex": null,
            "_model_name": "LayoutModel",
            "justify_items": null,
            "grid_row": null,
            "max_height": null,
            "align_content": null,
            "visibility": null,
            "align_self": null,
            "height": null,
            "min_height": null,
            "padding": null,
            "grid_auto_rows": null,
            "grid_gap": null,
            "max_width": null,
            "order": null,
            "_view_module_version": "1.2.0",
            "grid_template_areas": null,
            "object_position": null,
            "object_fit": null,
            "grid_auto_columns": null,
            "margin": null,
            "display": null,
            "left": null
          }
        },
        "1d1ee26d513349e7a87e655c8e0e71d4": {
          "model_module": "@jupyter-widgets/controls",
          "model_name": "FloatProgressModel",
          "state": {
            "_view_name": "ProgressView",
            "style": "IPY_MODEL_2ffea8070ba04076adc908542d2b962a",
            "_dom_classes": [],
            "description": "Downloading: 100%",
            "_model_name": "FloatProgressModel",
            "bar_style": "success",
            "max": 1682192,
            "_view_module": "@jupyter-widgets/controls",
            "_model_module_version": "1.5.0",
            "value": 1682192,
            "_view_count": null,
            "_view_module_version": "1.5.0",
            "orientation": "horizontal",
            "min": 0,
            "description_tooltip": null,
            "_model_module": "@jupyter-widgets/controls",
            "layout": "IPY_MODEL_5c309ffb369d43dc887951caae9c383e"
          }
        },
        "608dc5c2fe86423cb21a479a7aa33769": {
          "model_module": "@jupyter-widgets/controls",
          "model_name": "HTMLModel",
          "state": {
            "_view_name": "HTMLView",
            "style": "IPY_MODEL_7005390c01884e95bd94ece54dabd4f2",
            "_dom_classes": [],
            "description": "",
            "_model_name": "HTMLModel",
            "placeholder": "​",
            "_view_module": "@jupyter-widgets/controls",
            "_model_module_version": "1.5.0",
            "value": " 1.68M/1.68M [00:00&lt;00:00, 3.33MB/s]",
            "_view_count": null,
            "_view_module_version": "1.5.0",
            "description_tooltip": null,
            "_model_module": "@jupyter-widgets/controls",
            "layout": "IPY_MODEL_12ab3158f51a43f39aebfb66bbca832d"
          }
        },
        "2ffea8070ba04076adc908542d2b962a": {
          "model_module": "@jupyter-widgets/controls",
          "model_name": "ProgressStyleModel",
          "state": {
            "_view_name": "StyleView",
            "_model_name": "ProgressStyleModel",
            "description_width": "initial",
            "_view_module": "@jupyter-widgets/base",
            "_model_module_version": "1.5.0",
            "_view_count": null,
            "_view_module_version": "1.2.0",
            "bar_color": null,
            "_model_module": "@jupyter-widgets/controls"
          }
        },
        "5c309ffb369d43dc887951caae9c383e": {
          "model_module": "@jupyter-widgets/base",
          "model_name": "LayoutModel",
          "state": {
            "_view_name": "LayoutView",
            "grid_template_rows": null,
            "right": null,
            "justify_content": null,
            "_view_module": "@jupyter-widgets/base",
            "overflow": null,
            "_model_module_version": "1.2.0",
            "_view_count": null,
            "flex_flow": null,
            "width": null,
            "min_width": null,
            "border": null,
            "align_items": null,
            "bottom": null,
            "_model_module": "@jupyter-widgets/base",
            "top": null,
            "grid_column": null,
            "overflow_y": null,
            "overflow_x": null,
            "grid_auto_flow": null,
            "grid_area": null,
            "grid_template_columns": null,
            "flex": null,
            "_model_name": "LayoutModel",
            "justify_items": null,
            "grid_row": null,
            "max_height": null,
            "align_content": null,
            "visibility": null,
            "align_self": null,
            "height": null,
            "min_height": null,
            "padding": null,
            "grid_auto_rows": null,
            "grid_gap": null,
            "max_width": null,
            "order": null,
            "_view_module_version": "1.2.0",
            "grid_template_areas": null,
            "object_position": null,
            "object_fit": null,
            "grid_auto_columns": null,
            "margin": null,
            "display": null,
            "left": null
          }
        },
        "7005390c01884e95bd94ece54dabd4f2": {
          "model_module": "@jupyter-widgets/controls",
          "model_name": "DescriptionStyleModel",
          "state": {
            "_view_name": "StyleView",
            "_model_name": "DescriptionStyleModel",
            "description_width": "",
            "_view_module": "@jupyter-widgets/base",
            "_model_module_version": "1.5.0",
            "_view_count": null,
            "_view_module_version": "1.2.0",
            "_model_module": "@jupyter-widgets/controls"
          }
        },
        "12ab3158f51a43f39aebfb66bbca832d": {
          "model_module": "@jupyter-widgets/base",
          "model_name": "LayoutModel",
          "state": {
            "_view_name": "LayoutView",
            "grid_template_rows": null,
            "right": null,
            "justify_content": null,
            "_view_module": "@jupyter-widgets/base",
            "overflow": null,
            "_model_module_version": "1.2.0",
            "_view_count": null,
            "flex_flow": null,
            "width": null,
            "min_width": null,
            "border": null,
            "align_items": null,
            "bottom": null,
            "_model_module": "@jupyter-widgets/base",
            "top": null,
            "grid_column": null,
            "overflow_y": null,
            "overflow_x": null,
            "grid_auto_flow": null,
            "grid_area": null,
            "grid_template_columns": null,
            "flex": null,
            "_model_name": "LayoutModel",
            "justify_items": null,
            "grid_row": null,
            "max_height": null,
            "align_content": null,
            "visibility": null,
            "align_self": null,
            "height": null,
            "min_height": null,
            "padding": null,
            "grid_auto_rows": null,
            "grid_gap": null,
            "max_width": null,
            "order": null,
            "_view_module_version": "1.2.0",
            "grid_template_areas": null,
            "object_position": null,
            "object_fit": null,
            "grid_auto_columns": null,
            "margin": null,
            "display": null,
            "left": null
          }
        },
        "5dd3e531595d40aaa2f5de4502455141": {
          "model_module": "@jupyter-widgets/controls",
          "model_name": "HBoxModel",
          "state": {
            "_view_name": "HBoxView",
            "_dom_classes": [],
            "_model_name": "HBoxModel",
            "_view_module": "@jupyter-widgets/controls",
            "_model_module_version": "1.5.0",
            "_view_count": null,
            "_view_module_version": "1.5.0",
            "box_style": "",
            "layout": "IPY_MODEL_52aed65623244ee19622b3d63089ff74",
            "_model_module": "@jupyter-widgets/controls",
            "children": [
              "IPY_MODEL_772e546666f54d27923917fbc1c95de9",
              "IPY_MODEL_5f8474f9dbf94f048e85e43bf7a71ae3"
            ]
          }
        },
        "52aed65623244ee19622b3d63089ff74": {
          "model_module": "@jupyter-widgets/base",
          "model_name": "LayoutModel",
          "state": {
            "_view_name": "LayoutView",
            "grid_template_rows": null,
            "right": null,
            "justify_content": null,
            "_view_module": "@jupyter-widgets/base",
            "overflow": null,
            "_model_module_version": "1.2.0",
            "_view_count": null,
            "flex_flow": null,
            "width": null,
            "min_width": null,
            "border": null,
            "align_items": null,
            "bottom": null,
            "_model_module": "@jupyter-widgets/base",
            "top": null,
            "grid_column": null,
            "overflow_y": null,
            "overflow_x": null,
            "grid_auto_flow": null,
            "grid_area": null,
            "grid_template_columns": null,
            "flex": null,
            "_model_name": "LayoutModel",
            "justify_items": null,
            "grid_row": null,
            "max_height": null,
            "align_content": null,
            "visibility": null,
            "align_self": null,
            "height": null,
            "min_height": null,
            "padding": null,
            "grid_auto_rows": null,
            "grid_gap": null,
            "max_width": null,
            "order": null,
            "_view_module_version": "1.2.0",
            "grid_template_areas": null,
            "object_position": null,
            "object_fit": null,
            "grid_auto_columns": null,
            "margin": null,
            "display": null,
            "left": null
          }
        },
        "772e546666f54d27923917fbc1c95de9": {
          "model_module": "@jupyter-widgets/controls",
          "model_name": "FloatProgressModel",
          "state": {
            "_view_name": "ProgressView",
            "style": "IPY_MODEL_382ac920034f4333921a1ac6301374ee",
            "_dom_classes": [],
            "description": "Downloading: 100%",
            "_model_name": "FloatProgressModel",
            "bar_style": "success",
            "max": 299,
            "_view_module": "@jupyter-widgets/controls",
            "_model_module_version": "1.5.0",
            "value": 299,
            "_view_count": null,
            "_view_module_version": "1.5.0",
            "orientation": "horizontal",
            "min": 0,
            "description_tooltip": null,
            "_model_module": "@jupyter-widgets/controls",
            "layout": "IPY_MODEL_3214b01b34ff4e629e433395d287c6ae"
          }
        },
        "5f8474f9dbf94f048e85e43bf7a71ae3": {
          "model_module": "@jupyter-widgets/controls",
          "model_name": "HTMLModel",
          "state": {
            "_view_name": "HTMLView",
            "style": "IPY_MODEL_0123c94097e046ef841cea69c6d19831",
            "_dom_classes": [],
            "description": "",
            "_model_name": "HTMLModel",
            "placeholder": "​",
            "_view_module": "@jupyter-widgets/controls",
            "_model_module_version": "1.5.0",
            "value": " 299/299 [00:00&lt;00:00, 1.57kB/s]",
            "_view_count": null,
            "_view_module_version": "1.5.0",
            "description_tooltip": null,
            "_model_module": "@jupyter-widgets/controls",
            "layout": "IPY_MODEL_cc0009ed5a5f491ea904afc040271279"
          }
        },
        "382ac920034f4333921a1ac6301374ee": {
          "model_module": "@jupyter-widgets/controls",
          "model_name": "ProgressStyleModel",
          "state": {
            "_view_name": "StyleView",
            "_model_name": "ProgressStyleModel",
            "description_width": "initial",
            "_view_module": "@jupyter-widgets/base",
            "_model_module_version": "1.5.0",
            "_view_count": null,
            "_view_module_version": "1.2.0",
            "bar_color": null,
            "_model_module": "@jupyter-widgets/controls"
          }
        },
        "3214b01b34ff4e629e433395d287c6ae": {
          "model_module": "@jupyter-widgets/base",
          "model_name": "LayoutModel",
          "state": {
            "_view_name": "LayoutView",
            "grid_template_rows": null,
            "right": null,
            "justify_content": null,
            "_view_module": "@jupyter-widgets/base",
            "overflow": null,
            "_model_module_version": "1.2.0",
            "_view_count": null,
            "flex_flow": null,
            "width": null,
            "min_width": null,
            "border": null,
            "align_items": null,
            "bottom": null,
            "_model_module": "@jupyter-widgets/base",
            "top": null,
            "grid_column": null,
            "overflow_y": null,
            "overflow_x": null,
            "grid_auto_flow": null,
            "grid_area": null,
            "grid_template_columns": null,
            "flex": null,
            "_model_name": "LayoutModel",
            "justify_items": null,
            "grid_row": null,
            "max_height": null,
            "align_content": null,
            "visibility": null,
            "align_self": null,
            "height": null,
            "min_height": null,
            "padding": null,
            "grid_auto_rows": null,
            "grid_gap": null,
            "max_width": null,
            "order": null,
            "_view_module_version": "1.2.0",
            "grid_template_areas": null,
            "object_position": null,
            "object_fit": null,
            "grid_auto_columns": null,
            "margin": null,
            "display": null,
            "left": null
          }
        },
        "0123c94097e046ef841cea69c6d19831": {
          "model_module": "@jupyter-widgets/controls",
          "model_name": "DescriptionStyleModel",
          "state": {
            "_view_name": "StyleView",
            "_model_name": "DescriptionStyleModel",
            "description_width": "",
            "_view_module": "@jupyter-widgets/base",
            "_model_module_version": "1.5.0",
            "_view_count": null,
            "_view_module_version": "1.2.0",
            "_model_module": "@jupyter-widgets/controls"
          }
        },
        "cc0009ed5a5f491ea904afc040271279": {
          "model_module": "@jupyter-widgets/base",
          "model_name": "LayoutModel",
          "state": {
            "_view_name": "LayoutView",
            "grid_template_rows": null,
            "right": null,
            "justify_content": null,
            "_view_module": "@jupyter-widgets/base",
            "overflow": null,
            "_model_module_version": "1.2.0",
            "_view_count": null,
            "flex_flow": null,
            "width": null,
            "min_width": null,
            "border": null,
            "align_items": null,
            "bottom": null,
            "_model_module": "@jupyter-widgets/base",
            "top": null,
            "grid_column": null,
            "overflow_y": null,
            "overflow_x": null,
            "grid_auto_flow": null,
            "grid_area": null,
            "grid_template_columns": null,
            "flex": null,
            "_model_name": "LayoutModel",
            "justify_items": null,
            "grid_row": null,
            "max_height": null,
            "align_content": null,
            "visibility": null,
            "align_self": null,
            "height": null,
            "min_height": null,
            "padding": null,
            "grid_auto_rows": null,
            "grid_gap": null,
            "max_width": null,
            "order": null,
            "_view_module_version": "1.2.0",
            "grid_template_areas": null,
            "object_position": null,
            "object_fit": null,
            "grid_auto_columns": null,
            "margin": null,
            "display": null,
            "left": null
          }
        },
        "c59518ede15f49718726b453acc279eb": {
          "model_module": "@jupyter-widgets/controls",
          "model_name": "HBoxModel",
          "state": {
            "_view_name": "HBoxView",
            "_dom_classes": [],
            "_model_name": "HBoxModel",
            "_view_module": "@jupyter-widgets/controls",
            "_model_module_version": "1.5.0",
            "_view_count": null,
            "_view_module_version": "1.5.0",
            "box_style": "",
            "layout": "IPY_MODEL_18b23f0bd75b4c8bbeeef24fbefaa868",
            "_model_module": "@jupyter-widgets/controls",
            "children": [
              "IPY_MODEL_4adba7ed0d9143138302441d8bb4e3b3",
              "IPY_MODEL_63c1ebb2d5834e46a41889b201a9bfa5"
            ]
          }
        },
        "18b23f0bd75b4c8bbeeef24fbefaa868": {
          "model_module": "@jupyter-widgets/base",
          "model_name": "LayoutModel",
          "state": {
            "_view_name": "LayoutView",
            "grid_template_rows": null,
            "right": null,
            "justify_content": null,
            "_view_module": "@jupyter-widgets/base",
            "overflow": null,
            "_model_module_version": "1.2.0",
            "_view_count": null,
            "flex_flow": null,
            "width": null,
            "min_width": null,
            "border": null,
            "align_items": null,
            "bottom": null,
            "_model_module": "@jupyter-widgets/base",
            "top": null,
            "grid_column": null,
            "overflow_y": null,
            "overflow_x": null,
            "grid_auto_flow": null,
            "grid_area": null,
            "grid_template_columns": null,
            "flex": null,
            "_model_name": "LayoutModel",
            "justify_items": null,
            "grid_row": null,
            "max_height": null,
            "align_content": null,
            "visibility": null,
            "align_self": null,
            "height": null,
            "min_height": null,
            "padding": null,
            "grid_auto_rows": null,
            "grid_gap": null,
            "max_width": null,
            "order": null,
            "_view_module_version": "1.2.0",
            "grid_template_areas": null,
            "object_position": null,
            "object_fit": null,
            "grid_auto_columns": null,
            "margin": null,
            "display": null,
            "left": null
          }
        },
        "4adba7ed0d9143138302441d8bb4e3b3": {
          "model_module": "@jupyter-widgets/controls",
          "model_name": "FloatProgressModel",
          "state": {
            "_view_name": "ProgressView",
            "style": "IPY_MODEL_a8c0712fef9c4a6b924a4ff27617b79d",
            "_dom_classes": [],
            "description": "Downloading: 100%",
            "_model_name": "FloatProgressModel",
            "bar_style": "success",
            "max": 414,
            "_view_module": "@jupyter-widgets/controls",
            "_model_module_version": "1.5.0",
            "value": 414,
            "_view_count": null,
            "_view_module_version": "1.5.0",
            "orientation": "horizontal",
            "min": 0,
            "description_tooltip": null,
            "_model_module": "@jupyter-widgets/controls",
            "layout": "IPY_MODEL_22a06a95cb144e9cb2b23680c284f7ac"
          }
        },
        "63c1ebb2d5834e46a41889b201a9bfa5": {
          "model_module": "@jupyter-widgets/controls",
          "model_name": "HTMLModel",
          "state": {
            "_view_name": "HTMLView",
            "style": "IPY_MODEL_125cf772e6fa4e8fae94a8f95f386b5f",
            "_dom_classes": [],
            "description": "",
            "_model_name": "HTMLModel",
            "placeholder": "​",
            "_view_module": "@jupyter-widgets/controls",
            "_model_module_version": "1.5.0",
            "value": " 414/414 [00:31&lt;00:00, 13.1B/s]",
            "_view_count": null,
            "_view_module_version": "1.5.0",
            "description_tooltip": null,
            "_model_module": "@jupyter-widgets/controls",
            "layout": "IPY_MODEL_53f96cbac356416f936184aadbe7ae03"
          }
        },
        "a8c0712fef9c4a6b924a4ff27617b79d": {
          "model_module": "@jupyter-widgets/controls",
          "model_name": "ProgressStyleModel",
          "state": {
            "_view_name": "StyleView",
            "_model_name": "ProgressStyleModel",
            "description_width": "initial",
            "_view_module": "@jupyter-widgets/base",
            "_model_module_version": "1.5.0",
            "_view_count": null,
            "_view_module_version": "1.2.0",
            "bar_color": null,
            "_model_module": "@jupyter-widgets/controls"
          }
        },
        "22a06a95cb144e9cb2b23680c284f7ac": {
          "model_module": "@jupyter-widgets/base",
          "model_name": "LayoutModel",
          "state": {
            "_view_name": "LayoutView",
            "grid_template_rows": null,
            "right": null,
            "justify_content": null,
            "_view_module": "@jupyter-widgets/base",
            "overflow": null,
            "_model_module_version": "1.2.0",
            "_view_count": null,
            "flex_flow": null,
            "width": null,
            "min_width": null,
            "border": null,
            "align_items": null,
            "bottom": null,
            "_model_module": "@jupyter-widgets/base",
            "top": null,
            "grid_column": null,
            "overflow_y": null,
            "overflow_x": null,
            "grid_auto_flow": null,
            "grid_area": null,
            "grid_template_columns": null,
            "flex": null,
            "_model_name": "LayoutModel",
            "justify_items": null,
            "grid_row": null,
            "max_height": null,
            "align_content": null,
            "visibility": null,
            "align_self": null,
            "height": null,
            "min_height": null,
            "padding": null,
            "grid_auto_rows": null,
            "grid_gap": null,
            "max_width": null,
            "order": null,
            "_view_module_version": "1.2.0",
            "grid_template_areas": null,
            "object_position": null,
            "object_fit": null,
            "grid_auto_columns": null,
            "margin": null,
            "display": null,
            "left": null
          }
        },
        "125cf772e6fa4e8fae94a8f95f386b5f": {
          "model_module": "@jupyter-widgets/controls",
          "model_name": "DescriptionStyleModel",
          "state": {
            "_view_name": "StyleView",
            "_model_name": "DescriptionStyleModel",
            "description_width": "",
            "_view_module": "@jupyter-widgets/base",
            "_model_module_version": "1.5.0",
            "_view_count": null,
            "_view_module_version": "1.2.0",
            "_model_module": "@jupyter-widgets/controls"
          }
        },
        "53f96cbac356416f936184aadbe7ae03": {
          "model_module": "@jupyter-widgets/base",
          "model_name": "LayoutModel",
          "state": {
            "_view_name": "LayoutView",
            "grid_template_rows": null,
            "right": null,
            "justify_content": null,
            "_view_module": "@jupyter-widgets/base",
            "overflow": null,
            "_model_module_version": "1.2.0",
            "_view_count": null,
            "flex_flow": null,
            "width": null,
            "min_width": null,
            "border": null,
            "align_items": null,
            "bottom": null,
            "_model_module": "@jupyter-widgets/base",
            "top": null,
            "grid_column": null,
            "overflow_y": null,
            "overflow_x": null,
            "grid_auto_flow": null,
            "grid_area": null,
            "grid_template_columns": null,
            "flex": null,
            "_model_name": "LayoutModel",
            "justify_items": null,
            "grid_row": null,
            "max_height": null,
            "align_content": null,
            "visibility": null,
            "align_self": null,
            "height": null,
            "min_height": null,
            "padding": null,
            "grid_auto_rows": null,
            "grid_gap": null,
            "max_width": null,
            "order": null,
            "_view_module_version": "1.2.0",
            "grid_template_areas": null,
            "object_position": null,
            "object_fit": null,
            "grid_auto_columns": null,
            "margin": null,
            "display": null,
            "left": null
          }
        },
        "1ef35d299f8a473b99a44d3cd28a5214": {
          "model_module": "@jupyter-widgets/controls",
          "model_name": "HBoxModel",
          "state": {
            "_view_name": "HBoxView",
            "_dom_classes": [],
            "_model_name": "HBoxModel",
            "_view_module": "@jupyter-widgets/controls",
            "_model_module_version": "1.5.0",
            "_view_count": null,
            "_view_module_version": "1.5.0",
            "box_style": "",
            "layout": "IPY_MODEL_574bc02fe5fd4ba986d77639ad56c905",
            "_model_module": "@jupyter-widgets/controls",
            "children": [
              "IPY_MODEL_d1d1cfadcab848ea98632a81710578e6",
              "IPY_MODEL_115c954a06f44022bd7d12b87b938e07"
            ]
          }
        },
        "574bc02fe5fd4ba986d77639ad56c905": {
          "model_module": "@jupyter-widgets/base",
          "model_name": "LayoutModel",
          "state": {
            "_view_name": "LayoutView",
            "grid_template_rows": null,
            "right": null,
            "justify_content": null,
            "_view_module": "@jupyter-widgets/base",
            "overflow": null,
            "_model_module_version": "1.2.0",
            "_view_count": null,
            "flex_flow": null,
            "width": null,
            "min_width": null,
            "border": null,
            "align_items": null,
            "bottom": null,
            "_model_module": "@jupyter-widgets/base",
            "top": null,
            "grid_column": null,
            "overflow_y": null,
            "overflow_x": null,
            "grid_auto_flow": null,
            "grid_area": null,
            "grid_template_columns": null,
            "flex": null,
            "_model_name": "LayoutModel",
            "justify_items": null,
            "grid_row": null,
            "max_height": null,
            "align_content": null,
            "visibility": null,
            "align_self": null,
            "height": null,
            "min_height": null,
            "padding": null,
            "grid_auto_rows": null,
            "grid_gap": null,
            "max_width": null,
            "order": null,
            "_view_module_version": "1.2.0",
            "grid_template_areas": null,
            "object_position": null,
            "object_fit": null,
            "grid_auto_columns": null,
            "margin": null,
            "display": null,
            "left": null
          }
        },
        "d1d1cfadcab848ea98632a81710578e6": {
          "model_module": "@jupyter-widgets/controls",
          "model_name": "FloatProgressModel",
          "state": {
            "_view_name": "ProgressView",
            "style": "IPY_MODEL_9d3febb7373e488d9b9069017f0a4fdc",
            "_dom_classes": [],
            "description": "Downloading: 100%",
            "_model_name": "FloatProgressModel",
            "bar_style": "success",
            "max": 442581705,
            "_view_module": "@jupyter-widgets/controls",
            "_model_module_version": "1.5.0",
            "value": 442581705,
            "_view_count": null,
            "_view_module_version": "1.5.0",
            "orientation": "horizontal",
            "min": 0,
            "description_tooltip": null,
            "_model_module": "@jupyter-widgets/controls",
            "layout": "IPY_MODEL_6264a5a8f46a45679ee4ff9cdd83c2a8"
          }
        },
        "115c954a06f44022bd7d12b87b938e07": {
          "model_module": "@jupyter-widgets/controls",
          "model_name": "HTMLModel",
          "state": {
            "_view_name": "HTMLView",
            "style": "IPY_MODEL_5ac0297ee82f4a5f8111c21532046b03",
            "_dom_classes": [],
            "description": "",
            "_model_name": "HTMLModel",
            "placeholder": "​",
            "_view_module": "@jupyter-widgets/controls",
            "_model_module_version": "1.5.0",
            "value": " 443M/443M [00:17&lt;00:00, 25.1MB/s]",
            "_view_count": null,
            "_view_module_version": "1.5.0",
            "description_tooltip": null,
            "_model_module": "@jupyter-widgets/controls",
            "layout": "IPY_MODEL_a219efba35a044e883f38f67a33955cd"
          }
        },
        "9d3febb7373e488d9b9069017f0a4fdc": {
          "model_module": "@jupyter-widgets/controls",
          "model_name": "ProgressStyleModel",
          "state": {
            "_view_name": "StyleView",
            "_model_name": "ProgressStyleModel",
            "description_width": "initial",
            "_view_module": "@jupyter-widgets/base",
            "_model_module_version": "1.5.0",
            "_view_count": null,
            "_view_module_version": "1.2.0",
            "bar_color": null,
            "_model_module": "@jupyter-widgets/controls"
          }
        },
        "6264a5a8f46a45679ee4ff9cdd83c2a8": {
          "model_module": "@jupyter-widgets/base",
          "model_name": "LayoutModel",
          "state": {
            "_view_name": "LayoutView",
            "grid_template_rows": null,
            "right": null,
            "justify_content": null,
            "_view_module": "@jupyter-widgets/base",
            "overflow": null,
            "_model_module_version": "1.2.0",
            "_view_count": null,
            "flex_flow": null,
            "width": null,
            "min_width": null,
            "border": null,
            "align_items": null,
            "bottom": null,
            "_model_module": "@jupyter-widgets/base",
            "top": null,
            "grid_column": null,
            "overflow_y": null,
            "overflow_x": null,
            "grid_auto_flow": null,
            "grid_area": null,
            "grid_template_columns": null,
            "flex": null,
            "_model_name": "LayoutModel",
            "justify_items": null,
            "grid_row": null,
            "max_height": null,
            "align_content": null,
            "visibility": null,
            "align_self": null,
            "height": null,
            "min_height": null,
            "padding": null,
            "grid_auto_rows": null,
            "grid_gap": null,
            "max_width": null,
            "order": null,
            "_view_module_version": "1.2.0",
            "grid_template_areas": null,
            "object_position": null,
            "object_fit": null,
            "grid_auto_columns": null,
            "margin": null,
            "display": null,
            "left": null
          }
        },
        "5ac0297ee82f4a5f8111c21532046b03": {
          "model_module": "@jupyter-widgets/controls",
          "model_name": "DescriptionStyleModel",
          "state": {
            "_view_name": "StyleView",
            "_model_name": "DescriptionStyleModel",
            "description_width": "",
            "_view_module": "@jupyter-widgets/base",
            "_model_module_version": "1.5.0",
            "_view_count": null,
            "_view_module_version": "1.2.0",
            "_model_module": "@jupyter-widgets/controls"
          }
        },
        "a219efba35a044e883f38f67a33955cd": {
          "model_module": "@jupyter-widgets/base",
          "model_name": "LayoutModel",
          "state": {
            "_view_name": "LayoutView",
            "grid_template_rows": null,
            "right": null,
            "justify_content": null,
            "_view_module": "@jupyter-widgets/base",
            "overflow": null,
            "_model_module_version": "1.2.0",
            "_view_count": null,
            "flex_flow": null,
            "width": null,
            "min_width": null,
            "border": null,
            "align_items": null,
            "bottom": null,
            "_model_module": "@jupyter-widgets/base",
            "top": null,
            "grid_column": null,
            "overflow_y": null,
            "overflow_x": null,
            "grid_auto_flow": null,
            "grid_area": null,
            "grid_template_columns": null,
            "flex": null,
            "_model_name": "LayoutModel",
            "justify_items": null,
            "grid_row": null,
            "max_height": null,
            "align_content": null,
            "visibility": null,
            "align_self": null,
            "height": null,
            "min_height": null,
            "padding": null,
            "grid_auto_rows": null,
            "grid_gap": null,
            "max_width": null,
            "order": null,
            "_view_module_version": "1.2.0",
            "grid_template_areas": null,
            "object_position": null,
            "object_fit": null,
            "grid_auto_columns": null,
            "margin": null,
            "display": null,
            "left": null
          }
        }
      }
    }
  },
  "cells": [
    {
      "cell_type": "markdown",
      "metadata": {
        "id": "MQlGHpdfVz4f"
      },
      "source": [
        "# Text classification"
      ]
    },
    {
      "cell_type": "markdown",
      "metadata": {
        "id": "0JjcI3COVz4f"
      },
      "source": [
        "## *\"Words. I know words. I have the best words!\"*\n",
        "*- Noam Chomsky*"
      ]
    },
    {
      "cell_type": "markdown",
      "metadata": {
        "id": "9VwIn2GUVz4g"
      },
      "source": [
        "# Overview\n",
        "\n",
        "In order to train a machine learning model to classify text, we need:\n",
        "1. a way to preprocess text\n",
        "2. a label for each text, represented as number\n",
        "3. a way to represent each text as vector input\n",
        "4. a model to learn  a function $f(input) = label$\n",
        "5. a way to evaluate how well the model works\n",
        "6. a way to predict new data"
      ]
    },
    {
      "cell_type": "markdown",
      "metadata": {
        "id": "l6rJC_TFVz4g"
      },
      "source": [
        "As an example, we will use reviews data and try to classify the rating into $positive$ or $negative$, only based on the text they use.\n",
        "\n",
        "The same method can be used for any other data, including more labels and other dependent variables (e.g., age or gender of the text author, social constructs expressed in the text, etc...). "
      ]
    },
    {
      "cell_type": "markdown",
      "metadata": {
        "id": "TvC3_gQNVz4h"
      },
      "source": [
        "# 1. Data"
      ]
    },
    {
      "cell_type": "code",
      "metadata": {
        "id": "K4ccSH_kVz4h",
        "colab": {
          "base_uri": "https://localhost:8080/",
          "height": 128
        },
        "outputId": "83c36062-800f-4769-c916-f29e1d20d875"
      },
      "source": [
        "import pandas as pd\n",
        "\n",
        "data = pd.read_csv('sa_train.csv', quoting=0)\n",
        "print(len(data), data['output'].unique())\n",
        "data.head(2)"
      ],
      "execution_count": 1,
      "outputs": [
        {
          "output_type": "stream",
          "text": [
            "1800 ['neg' 'pos']\n"
          ],
          "name": "stdout"
        },
        {
          "output_type": "execute_result",
          "data": {
            "text/html": [
              "<div>\n",
              "<style scoped>\n",
              "    .dataframe tbody tr th:only-of-type {\n",
              "        vertical-align: middle;\n",
              "    }\n",
              "\n",
              "    .dataframe tbody tr th {\n",
              "        vertical-align: top;\n",
              "    }\n",
              "\n",
              "    .dataframe thead th {\n",
              "        text-align: right;\n",
              "    }\n",
              "</style>\n",
              "<table border=\"1\" class=\"dataframe\">\n",
              "  <thead>\n",
              "    <tr style=\"text-align: right;\">\n",
              "      <th></th>\n",
              "      <th>input</th>\n",
              "      <th>output</th>\n",
              "    </tr>\n",
              "  </thead>\n",
              "  <tbody>\n",
              "    <tr>\n",
              "      <th>0</th>\n",
              "      <td>shakespeare in love is quite possibly the most...</td>\n",
              "      <td>neg</td>\n",
              "    </tr>\n",
              "    <tr>\n",
              "      <th>1</th>\n",
              "      <td>wizards is an animated feature that begins wit...</td>\n",
              "      <td>neg</td>\n",
              "    </tr>\n",
              "  </tbody>\n",
              "</table>\n",
              "</div>"
            ],
            "text/plain": [
              "                                               input output\n",
              "0  shakespeare in love is quite possibly the most...    neg\n",
              "1  wizards is an animated feature that begins wit...    neg"
            ]
          },
          "metadata": {
            "tags": []
          },
          "execution_count": 1
        }
      ]
    },
    {
      "cell_type": "markdown",
      "metadata": {
        "id": "aq9uSkU2Vz4k"
      },
      "source": [
        "## Preprocessing\n",
        "\n",
        "Text is messy. The goal of preprocessing is to reduce the amount of noise (= unnecessary variation), while maintaining the signal. There is no one-size-fits-all solution, but a good approximation is the following:"
      ]
    },
    {
      "cell_type": "code",
      "metadata": {
        "id": "JzWUUADMVz4k"
      },
      "source": [
        "import spacy\n",
        "nlp = spacy.load('en', disable=['parser', 'ner'])"
      ],
      "execution_count": 2,
      "outputs": []
    },
    {
      "cell_type": "code",
      "metadata": {
        "id": "3qjwErbyVz4n",
        "colab": {
          "base_uri": "https://localhost:8080/",
          "height": 35
        },
        "outputId": "61eedcb3-6716-4931-e601-24cd35fa8206"
      },
      "source": [
        "def clean_text(text):\n",
        "    '''reduce text to lower-case lexicon entry'''\n",
        "    lemmas = [token.lemma_ for token in nlp(text) \n",
        "              if token.pos_ in {'NOUN', 'VERB', 'ADJ', 'ADV', 'PROPN'}]\n",
        "    return ' '.join(lemmas)\n",
        "\n",
        "clean_text('This is a test sentence. And here comes another one... Go me!')"
      ],
      "execution_count": 3,
      "outputs": [
        {
          "output_type": "execute_result",
          "data": {
            "application/vnd.google.colaboratory.intrinsic+json": {
              "type": "string"
            },
            "text/plain": [
              "'test sentence here come one go'"
            ]
          },
          "metadata": {
            "tags": []
          },
          "execution_count": 3
        }
      ]
    },
    {
      "cell_type": "markdown",
      "metadata": {
        "id": "FZ2lm8GGVz4p"
      },
      "source": [
        "Let's clean up the input data. This can take a while, so it's good to save it."
      ]
    },
    {
      "cell_type": "code",
      "metadata": {
        "id": "fxdCFYKRVz4p",
        "colab": {
          "base_uri": "https://localhost:8080/"
        },
        "outputId": "4412127e-979d-4ce2-8d00-021f984df6ed"
      },
      "source": [
        "data['clean_text'] = data['input'].apply(clean_text)\n",
        "data['clean_text'].head()"
      ],
      "execution_count": 4,
      "outputs": [
        {
          "output_type": "execute_result",
          "data": {
            "text/plain": [
              "0    shakespeare love quite possibly most enjoyable...\n",
              "1    wizard animate feature begin narration epic pr...\n",
              "2    gun wielding arnold schwarzenegger change hear...\n",
              "3    keep jane austen sense sensibility pride preju...\n",
              "4    hollywood pimp fat cigar smoking chump wear fu...\n",
              "Name: clean_text, dtype: object"
            ]
          },
          "metadata": {
            "tags": []
          },
          "execution_count": 4
        }
      ]
    },
    {
      "cell_type": "code",
      "metadata": {
        "id": "YmrTaAOdiHZJ",
        "colab": {
          "base_uri": "https://localhost:8080/",
          "height": 204
        },
        "outputId": "9c50a55b-02e9-46f6-8b88-1a6d59e725f5"
      },
      "source": [
        "data.head()"
      ],
      "execution_count": 5,
      "outputs": [
        {
          "output_type": "execute_result",
          "data": {
            "text/html": [
              "<div>\n",
              "<style scoped>\n",
              "    .dataframe tbody tr th:only-of-type {\n",
              "        vertical-align: middle;\n",
              "    }\n",
              "\n",
              "    .dataframe tbody tr th {\n",
              "        vertical-align: top;\n",
              "    }\n",
              "\n",
              "    .dataframe thead th {\n",
              "        text-align: right;\n",
              "    }\n",
              "</style>\n",
              "<table border=\"1\" class=\"dataframe\">\n",
              "  <thead>\n",
              "    <tr style=\"text-align: right;\">\n",
              "      <th></th>\n",
              "      <th>input</th>\n",
              "      <th>output</th>\n",
              "      <th>clean_text</th>\n",
              "    </tr>\n",
              "  </thead>\n",
              "  <tbody>\n",
              "    <tr>\n",
              "      <th>0</th>\n",
              "      <td>shakespeare in love is quite possibly the most...</td>\n",
              "      <td>neg</td>\n",
              "      <td>shakespeare love quite possibly most enjoyable...</td>\n",
              "    </tr>\n",
              "    <tr>\n",
              "      <th>1</th>\n",
              "      <td>wizards is an animated feature that begins wit...</td>\n",
              "      <td>neg</td>\n",
              "      <td>wizard animate feature begin narration epic pr...</td>\n",
              "    </tr>\n",
              "    <tr>\n",
              "      <th>2</th>\n",
              "      <td>gun wielding arnold schwarzenegger has a chang...</td>\n",
              "      <td>neg</td>\n",
              "      <td>gun wielding arnold schwarzenegger change hear...</td>\n",
              "    </tr>\n",
              "    <tr>\n",
              "      <th>3</th>\n",
              "      <td>if this keeps up , jane austen ( sense and sen...</td>\n",
              "      <td>pos</td>\n",
              "      <td>keep jane austen sense sensibility pride preju...</td>\n",
              "    </tr>\n",
              "    <tr>\n",
              "      <th>4</th>\n",
              "      <td>hollywood is a pimp . a fat , cigar - smoking ...</td>\n",
              "      <td>pos</td>\n",
              "      <td>hollywood pimp fat cigar smoking chump wear fu...</td>\n",
              "    </tr>\n",
              "  </tbody>\n",
              "</table>\n",
              "</div>"
            ],
            "text/plain": [
              "                                               input  ...                                         clean_text\n",
              "0  shakespeare in love is quite possibly the most...  ...  shakespeare love quite possibly most enjoyable...\n",
              "1  wizards is an animated feature that begins wit...  ...  wizard animate feature begin narration epic pr...\n",
              "2  gun wielding arnold schwarzenegger has a chang...  ...  gun wielding arnold schwarzenegger change hear...\n",
              "3  if this keeps up , jane austen ( sense and sen...  ...  keep jane austen sense sensibility pride preju...\n",
              "4  hollywood is a pimp . a fat , cigar - smoking ...  ...  hollywood pimp fat cigar smoking chump wear fu...\n",
              "\n",
              "[5 rows x 3 columns]"
            ]
          },
          "metadata": {
            "tags": []
          },
          "execution_count": 5
        }
      ]
    },
    {
      "cell_type": "markdown",
      "metadata": {
        "id": "cz6B9HrzVz4r"
      },
      "source": [
        "# 2. Labels\n",
        "\n",
        "Here, we assume that we already have the labels. (In your task, you will have to label them yourself! Hint: use `input()` or a spreadsheet).\n",
        "\n",
        "However, in order for the machine learning model to work with the labels, we need to translate them into a vector of numbers. We can use `sklearn.LabelEncoder`"
      ]
    },
    {
      "cell_type": "code",
      "metadata": {
        "id": "iC0Z9QLCVz4s",
        "colab": {
          "base_uri": "https://localhost:8080/"
        },
        "outputId": "c7971760-ca2e-428e-946b-b9e58d5cba82"
      },
      "source": [
        "from sklearn.preprocessing import LabelEncoder\n",
        "\n",
        "# transform labels into numbers\n",
        "labels2numbers = LabelEncoder()\n",
        "\n",
        "y = labels2numbers.fit_transform(data['output'])\n",
        "print(data['output'][:10], y[:10], len(y))"
      ],
      "execution_count": 6,
      "outputs": [
        {
          "output_type": "stream",
          "text": [
            "0    neg\n",
            "1    neg\n",
            "2    neg\n",
            "3    pos\n",
            "4    pos\n",
            "5    neg\n",
            "6    pos\n",
            "7    pos\n",
            "8    neg\n",
            "9    neg\n",
            "Name: output, dtype: object [0 0 0 1 1 0 1 1 0 0] 1800\n"
          ],
          "name": "stdout"
        }
      ]
    },
    {
      "cell_type": "markdown",
      "metadata": {
        "id": "ce3RqPSnVz4u"
      },
      "source": [
        "To get the original names back, use `inverse_transform()`:"
      ]
    },
    {
      "cell_type": "code",
      "metadata": {
        "id": "jWUAa5qRVz4u",
        "colab": {
          "base_uri": "https://localhost:8080/"
        },
        "outputId": "7f49ca7c-e0e9-4853-e042-08033012b92d"
      },
      "source": [
        "labels2numbers.inverse_transform([1,1,1,0,0,1])"
      ],
      "execution_count": 7,
      "outputs": [
        {
          "output_type": "execute_result",
          "data": {
            "text/plain": [
              "array(['pos', 'pos', 'pos', 'neg', 'neg', 'pos'], dtype=object)"
            ]
          },
          "metadata": {
            "tags": []
          },
          "execution_count": 7
        }
      ]
    },
    {
      "cell_type": "markdown",
      "metadata": {
        "id": "B1ji_rubVz4x"
      },
      "source": [
        "# 3. Representing text\n",
        "\n",
        "First, we need to transform the texts into a matrix, where each row represents one text instance. The columns are the **features**\n"
      ]
    },
    {
      "cell_type": "code",
      "metadata": {
        "id": "ui4ie7e6Vz4x",
        "colab": {
          "base_uri": "https://localhost:8080/"
        },
        "outputId": "ded759a2-8701-4fe8-d0ac-733797c17605"
      },
      "source": [
        "from sklearn.feature_extraction.text import TfidfVectorizer\n",
        "\n",
        "vectorizer = TfidfVectorizer(ngram_range=(1,2), \n",
        "                             min_df=0.001, \n",
        "                             max_df=0.75, \n",
        "                             stop_words='english')\n",
        "\n",
        "X = vectorizer.fit_transform(data['clean_text'])\n",
        "print(X.shape)"
      ],
      "execution_count": 8,
      "outputs": [
        {
          "output_type": "stream",
          "text": [
            "(1800, 66808)\n"
          ],
          "name": "stdout"
        }
      ]
    },
    {
      "cell_type": "markdown",
      "metadata": {
        "id": "MqzzmzwsVz40"
      },
      "source": [
        "We can now translate back and forth between columns and words:"
      ]
    },
    {
      "cell_type": "code",
      "metadata": {
        "id": "92xme8BZVz40",
        "colab": {
          "base_uri": "https://localhost:8080/"
        },
        "outputId": "2a0551c0-0583-4152-a8f1-7ebe3c9ff7e8"
      },
      "source": [
        "vectorizer.vocabulary_['bad']"
      ],
      "execution_count": 9,
      "outputs": [
        {
          "output_type": "execute_result",
          "data": {
            "text/plain": [
              "3786"
            ]
          },
          "metadata": {
            "tags": []
          },
          "execution_count": 9
        }
      ]
    },
    {
      "cell_type": "code",
      "metadata": {
        "id": "X3GJ324yVz42",
        "colab": {
          "base_uri": "https://localhost:8080/",
          "height": 35
        },
        "outputId": "f66e086e-ac86-4353-bfb5-0311e59ddf0a"
      },
      "source": [
        "vectorizer.get_feature_names()[3786]"
      ],
      "execution_count": 10,
      "outputs": [
        {
          "output_type": "execute_result",
          "data": {
            "application/vnd.google.colaboratory.intrinsic+json": {
              "type": "string"
            },
            "text/plain": [
              "'bad'"
            ]
          },
          "metadata": {
            "tags": []
          },
          "execution_count": 10
        }
      ]
    },
    {
      "cell_type": "markdown",
      "metadata": {
        "id": "hXZ-Xw5yVz44"
      },
      "source": [
        "Let's see how often that word is in the data:"
      ]
    },
    {
      "cell_type": "code",
      "metadata": {
        "id": "Y85dIjYsVz45",
        "colab": {
          "base_uri": "https://localhost:8080/"
        },
        "outputId": "93cc2460-1632-4345-c6a4-ad8091d7968a"
      },
      "source": [
        "len(data[data.input.str.contains('bad')])"
      ],
      "execution_count": 11,
      "outputs": [
        {
          "output_type": "execute_result",
          "data": {
            "text/plain": [
              "749"
            ]
          },
          "metadata": {
            "tags": []
          },
          "execution_count": 11
        }
      ]
    },
    {
      "cell_type": "code",
      "metadata": {
        "colab": {
          "base_uri": "https://localhost:8080/",
          "height": 419
        },
        "id": "B6KrfWcdDAea",
        "outputId": "b60b6bc5-b27e-428d-abb3-f197b97084c8"
      },
      "source": [
        "data[data.input.str.contains('bad')]"
      ],
      "execution_count": 12,
      "outputs": [
        {
          "output_type": "execute_result",
          "data": {
            "text/html": [
              "<div>\n",
              "<style scoped>\n",
              "    .dataframe tbody tr th:only-of-type {\n",
              "        vertical-align: middle;\n",
              "    }\n",
              "\n",
              "    .dataframe tbody tr th {\n",
              "        vertical-align: top;\n",
              "    }\n",
              "\n",
              "    .dataframe thead th {\n",
              "        text-align: right;\n",
              "    }\n",
              "</style>\n",
              "<table border=\"1\" class=\"dataframe\">\n",
              "  <thead>\n",
              "    <tr style=\"text-align: right;\">\n",
              "      <th></th>\n",
              "      <th>input</th>\n",
              "      <th>output</th>\n",
              "      <th>clean_text</th>\n",
              "    </tr>\n",
              "  </thead>\n",
              "  <tbody>\n",
              "    <tr>\n",
              "      <th>0</th>\n",
              "      <td>shakespeare in love is quite possibly the most...</td>\n",
              "      <td>neg</td>\n",
              "      <td>shakespeare love quite possibly most enjoyable...</td>\n",
              "    </tr>\n",
              "    <tr>\n",
              "      <th>1</th>\n",
              "      <td>wizards is an animated feature that begins wit...</td>\n",
              "      <td>neg</td>\n",
              "      <td>wizard animate feature begin narration epic pr...</td>\n",
              "    </tr>\n",
              "    <tr>\n",
              "      <th>4</th>\n",
              "      <td>hollywood is a pimp . a fat , cigar - smoking ...</td>\n",
              "      <td>pos</td>\n",
              "      <td>hollywood pimp fat cigar smoking chump wear fu...</td>\n",
              "    </tr>\n",
              "    <tr>\n",
              "      <th>6</th>\n",
              "      <td>films adapted from comic books have had plenty...</td>\n",
              "      <td>pos</td>\n",
              "      <td>film adapt comic book have plenty success supe...</td>\n",
              "    </tr>\n",
              "    <tr>\n",
              "      <th>9</th>\n",
              "      <td>tommy lee jones chases an innocent victim arou...</td>\n",
              "      <td>neg</td>\n",
              "      <td>tommy lee jones chase innocent victim america ...</td>\n",
              "    </tr>\n",
              "    <tr>\n",
              "      <th>...</th>\n",
              "      <td>...</td>\n",
              "      <td>...</td>\n",
              "      <td>...</td>\n",
              "    </tr>\n",
              "    <tr>\n",
              "      <th>1791</th>\n",
              "      <td>synopsis : captain picard and the crew of the ...</td>\n",
              "      <td>pos</td>\n",
              "      <td>synopsis captain picard crew starship enterpri...</td>\n",
              "    </tr>\n",
              "    <tr>\n",
              "      <th>1794</th>\n",
              "      <td>ladies and gentlemen , 1997 ' s independence d...</td>\n",
              "      <td>pos</td>\n",
              "      <td>lady gentleman s independence day here title s...</td>\n",
              "    </tr>\n",
              "    <tr>\n",
              "      <th>1795</th>\n",
              "      <td>terrence malick made an excellent 90 minute fi...</td>\n",
              "      <td>neg</td>\n",
              "      <td>terrence malick make excellent minute film ada...</td>\n",
              "    </tr>\n",
              "    <tr>\n",
              "      <th>1798</th>\n",
              "      <td>a movie about divorce and custody in 1995 seem...</td>\n",
              "      <td>neg</td>\n",
              "      <td>movie divorce custody seem about as timely mov...</td>\n",
              "    </tr>\n",
              "    <tr>\n",
              "      <th>1799</th>\n",
              "      <td>plot : a down - and - out girl moves in with s...</td>\n",
              "      <td>neg</td>\n",
              "      <td>plot down girl move top model fall love goofy ...</td>\n",
              "    </tr>\n",
              "  </tbody>\n",
              "</table>\n",
              "<p>749 rows × 3 columns</p>\n",
              "</div>"
            ],
            "text/plain": [
              "                                                  input  ...                                         clean_text\n",
              "0     shakespeare in love is quite possibly the most...  ...  shakespeare love quite possibly most enjoyable...\n",
              "1     wizards is an animated feature that begins wit...  ...  wizard animate feature begin narration epic pr...\n",
              "4     hollywood is a pimp . a fat , cigar - smoking ...  ...  hollywood pimp fat cigar smoking chump wear fu...\n",
              "6     films adapted from comic books have had plenty...  ...  film adapt comic book have plenty success supe...\n",
              "9     tommy lee jones chases an innocent victim arou...  ...  tommy lee jones chase innocent victim america ...\n",
              "...                                                 ...  ...                                                ...\n",
              "1791  synopsis : captain picard and the crew of the ...  ...  synopsis captain picard crew starship enterpri...\n",
              "1794  ladies and gentlemen , 1997 ' s independence d...  ...  lady gentleman s independence day here title s...\n",
              "1795  terrence malick made an excellent 90 minute fi...  ...  terrence malick make excellent minute film ada...\n",
              "1798  a movie about divorce and custody in 1995 seem...  ...  movie divorce custody seem about as timely mov...\n",
              "1799  plot : a down - and - out girl moves in with s...  ...  plot down girl move top model fall love goofy ...\n",
              "\n",
              "[749 rows x 3 columns]"
            ]
          },
          "metadata": {
            "tags": []
          },
          "execution_count": 12
        }
      ]
    },
    {
      "cell_type": "code",
      "metadata": {
        "colab": {
          "base_uri": "https://localhost:8080/"
        },
        "id": "ElHeRUsWCp7e",
        "outputId": "fd8cd9c5-a80e-4146-e1e8-554e1f3a21e4"
      },
      "source": [
        "len(data[data.clean_text.str.contains('bad')])"
      ],
      "execution_count": 13,
      "outputs": [
        {
          "output_type": "execute_result",
          "data": {
            "text/plain": [
              "895"
            ]
          },
          "metadata": {
            "tags": []
          },
          "execution_count": 13
        }
      ]
    },
    {
      "cell_type": "markdown",
      "metadata": {
        "id": "jdqEPjjKVz47"
      },
      "source": [
        "# 4. Learning a classification model\n",
        "\n",
        "A classification model is simply a function that takes a text representation as input, and returns an output label.\n",
        "\n",
        "Inside that function is normally a set of weights. By multiplying the weight vector with the input vector, we get the label."
      ]
    },
    {
      "cell_type": "markdown",
      "metadata": {
        "id": "iQ1Nw6wGVz47"
      },
      "source": [
        "## 4.1: Fitting a model\n",
        "\n",
        "Fitting a model is the process of finding the right weights to map the training inputs to the training outputs. Fitting to data in `sklearn` is easy: we use the `fit()` function, giving it the input matrix and output vector."
      ]
    },
    {
      "cell_type": "code",
      "metadata": {
        "id": "ObVUO3JqVz48",
        "colab": {
          "base_uri": "https://localhost:8080/"
        },
        "outputId": "c5413b6c-f5c9-4c18-e1dc-434b88b57196"
      },
      "source": [
        "from sklearn.linear_model import LogisticRegression\n",
        "\n",
        "classifier = LogisticRegression(n_jobs=-1, class_weight='balanced')\n",
        "%time classifier.fit(X, y)\n",
        "print(classifier)"
      ],
      "execution_count": 14,
      "outputs": [
        {
          "output_type": "stream",
          "text": [
            "CPU times: user 38.3 ms, sys: 44.2 ms, total: 82.5 ms\n",
            "Wall time: 1.13 s\n",
            "LogisticRegression(C=1.0, class_weight='balanced', dual=False,\n",
            "                   fit_intercept=True, intercept_scaling=1, l1_ratio=None,\n",
            "                   max_iter=100, multi_class='auto', n_jobs=-1, penalty='l2',\n",
            "                   random_state=None, solver='lbfgs', tol=0.0001, verbose=0,\n",
            "                   warm_start=False)\n"
          ],
          "name": "stdout"
        }
      ]
    },
    {
      "cell_type": "markdown",
      "metadata": {
        "id": "Nr_RwOdtVz4-"
      },
      "source": [
        "The resulting fitted model has coefficients (betas) for each word/feature in our vocabulary"
      ]
    },
    {
      "cell_type": "code",
      "metadata": {
        "id": "u-BCqLYrVz4-",
        "colab": {
          "base_uri": "https://localhost:8080/"
        },
        "outputId": "7fcc469d-20d3-4796-bb5d-cb37ebab360d"
      },
      "source": [
        "coefs = classifier.coef_\n",
        "coefs"
      ],
      "execution_count": 15,
      "outputs": [
        {
          "output_type": "execute_result",
          "data": {
            "text/plain": [
              "array([[ 0.00986428, -0.06329059, -0.03779013, ...,  0.06591883,\n",
              "         0.02520406, -0.00039513]])"
            ]
          },
          "metadata": {
            "tags": []
          },
          "execution_count": 15
        }
      ]
    },
    {
      "cell_type": "markdown",
      "metadata": {
        "id": "pmDSYjKGVz5B"
      },
      "source": [
        "We can now examine the weights/coefficients/betas for the individual words (note that each word has an ID):"
      ]
    },
    {
      "cell_type": "code",
      "metadata": {
        "id": "1yHdzoH5Vz5C",
        "colab": {
          "base_uri": "https://localhost:8080/"
        },
        "outputId": "14dce528-a602-4132-d6ac-ad3888563fac"
      },
      "source": [
        "k = vectorizer.vocabulary_['bad'] # column position for the word\n",
        "print(vectorizer.get_feature_names()[k], classifier.coef_[0, k])\n",
        "#negative vlaue related to negative class --> bad belongs to negative class"
      ],
      "execution_count": 16,
      "outputs": [
        {
          "output_type": "stream",
          "text": [
            "bad -3.493747454624923\n"
          ],
          "name": "stdout"
        }
      ]
    },
    {
      "cell_type": "code",
      "metadata": {
        "colab": {
          "base_uri": "https://localhost:8080/"
        },
        "id": "btrDejrB-cdR",
        "outputId": "5f70f488-6b15-4ab8-ccb0-cab7f1964198"
      },
      "source": [
        "k = vectorizer.vocabulary_['good'] # column position for the word\n",
        "print(vectorizer.get_feature_names()[k], classifier.coef_[0, k])\n",
        "#positive value related to positive class --> good belongs to positive class"
      ],
      "execution_count": 17,
      "outputs": [
        {
          "output_type": "stream",
          "text": [
            "good 0.8523441444658751\n"
          ],
          "name": "stdout"
        }
      ]
    },
    {
      "cell_type": "markdown",
      "metadata": {
        "id": "itvwkAATVz5E"
      },
      "source": [
        "NB: in a two-class problem, our coefficents are in a vector: positive values indicate the positive class, negative values the other class.\n",
        "In a multi-class problem, we have one **row** of coefficients for each class: positive values indicate that this feature contributes to the class, negative values indicate that it contributes to other classes."
      ]
    },
    {
      "cell_type": "markdown",
      "metadata": {
        "id": "vlX7iByXVz5F"
      },
      "source": [
        "# 5. Evaluating models\n",
        "\n",
        "Having a model is great, but how well does it do? Can it classify what it has seen? We need a way to estimate how well the model will work on new data.\n",
        "\n",
        "We need a metric to measure performance and a way to simulate new data."
      ]
    },
    {
      "cell_type": "markdown",
      "metadata": {
        "id": "8Q0Wg78sVz5F"
      },
      "source": [
        "## 5.1: Metrics\n",
        "\n",
        "We use three measure:\n",
        "1. precision\n",
        "2. recall\n",
        "3. F1 (usually it is the best)"
      ]
    },
    {
      "cell_type": "markdown",
      "metadata": {
        "id": "WQz-RT3bVz5F"
      },
      "source": [
        "### Precision\n",
        "\n",
        "Precision measures how many of our model's predictions were correct. We divide the number of true positives by the number of all positives\n",
        "\n",
        "$$\n",
        "p = \\frac{tp}{tp+fp}\n",
        "$$"
      ]
    },
    {
      "cell_type": "markdown",
      "metadata": {
        "id": "RuxrcSFUVz5G"
      },
      "source": [
        "### Recall\n",
        "\n",
        "Recall measures how many of the correct answers in the data our model managed to find. We divide the number of true positives by the number of true positives (the instances our model got) and false negatives (the instances our model *should* have gotten)\n",
        "\n",
        "$$\n",
        "r = \\frac{tp}{tp+fn}\n",
        "$$"
      ]
    },
    {
      "cell_type": "markdown",
      "metadata": {
        "id": "Au9AhOaUVz5G"
      },
      "source": [
        "### F1\n",
        "\n",
        "A model that classified everything as, say, \"positive\" would get a perfect recall (it does, after all, find all positive examples). However, such a model would obviously be useless, since its precision is bad.\n",
        "\n",
        "We want to balance the two against each other. F1 does exactly that, by taking the harmonic mean.\n",
        "\n",
        "$$\n",
        "F_1 = \\frac{p\\cdot r}{p+r}\n",
        "$$"
      ]
    },
    {
      "cell_type": "markdown",
      "metadata": {
        "id": "JZg3zpb9Vz5H"
      },
      "source": [
        "Luckily, all of these metrics are implemented in `sklearn`. All we have to provide are the predictions of our model, and the actual correct answers (called the *gold standard*). "
      ]
    },
    {
      "cell_type": "code",
      "metadata": {
        "id": "Lc_wtcu9Vz5H"
      },
      "source": [
        "from sklearn.metrics import classification_report"
      ],
      "execution_count": 18,
      "outputs": []
    },
    {
      "cell_type": "markdown",
      "metadata": {
        "id": "NeQ8FWL5Vz5K"
      },
      "source": [
        "## 5.2: Cross-validation\n",
        "\n",
        "How do we measure performance on new data, if we don't know what the correct outputs for those new data points are?\n",
        "\n",
        "In **$k$-fold cross-validation**, we simulate new data, by fitting our model on parts of the data, and evaluating on other. We can thereby measure the performance on the held-out part. "
      ]
    },
    {
      "cell_type": "markdown",
      "metadata": {
        "id": "DoLWzhNDVz5K"
      },
      "source": [
        "However, we have now reduced the amount of data we used to fit the data. In order to address this, we simply repeat the process $k$ times.\n",
        "We separate the data into $k$ parts, fit the model on $k-1$ parts, and evaluate on the $k$th part. In the end, we have performance scores from $k$ models. The average of them tells us how well the model would work on new data.\n",
        "\n"
      ]
    },
    {
      "cell_type": "code",
      "metadata": {
        "id": "GjyLdz_gVz5L",
        "colab": {
          "base_uri": "https://localhost:8080/"
        },
        "outputId": "cac7659d-d331-44d7-a496-2cca15eb524f"
      },
      "source": [
        "from sklearn.model_selection import cross_val_score\n",
        "\n",
        "for k in [2,3,5,10]:\n",
        "    cv = cross_val_score(LogisticRegression(), X, y=y, cv=k, n_jobs=-1, scoring=\"f1_micro\")\n",
        "    fold_size = X.shape[0]/k\n",
        "    \n",
        "    print(\"F1 with {} folds for bag-of-words is {}\".format(k, cv.mean()))\n",
        "    print(\"Training on {} instances/fold, testing on {}\".format(fold_size*(k-1), fold_size))\n",
        "    print()"
      ],
      "execution_count": 19,
      "outputs": [
        {
          "output_type": "stream",
          "text": [
            "F1 with 2 folds for bag-of-words is 0.8083333333333333\n",
            "Training on 900.0 instances/fold, testing on 900.0\n",
            "\n",
            "F1 with 3 folds for bag-of-words is 0.8172222222222222\n",
            "Training on 1200.0 instances/fold, testing on 600.0\n",
            "\n",
            "F1 with 5 folds for bag-of-words is 0.828888888888889\n",
            "Training on 1440.0 instances/fold, testing on 360.0\n",
            "\n",
            "F1 with 10 folds for bag-of-words is 0.8305555555555555\n",
            "Training on 1620.0 instances/fold, testing on 180.0\n",
            "\n"
          ],
          "name": "stdout"
        }
      ]
    },
    {
      "cell_type": "code",
      "metadata": {
        "colab": {
          "base_uri": "https://localhost:8080/"
        },
        "id": "EzQj-MJ3Au2O",
        "outputId": "f1a95a05-1d1c-4159-e01e-c330f3101c55"
      },
      "source": [
        "cv"
      ],
      "execution_count": 20,
      "outputs": [
        {
          "output_type": "execute_result",
          "data": {
            "text/plain": [
              "array([0.84444444, 0.82777778, 0.78333333, 0.8       , 0.80555556,\n",
              "       0.85      , 0.81666667, 0.85      , 0.86111111, 0.86666667])"
            ]
          },
          "metadata": {
            "tags": []
          },
          "execution_count": 20
        }
      ]
    },
    {
      "cell_type": "markdown",
      "metadata": {
        "id": "M_XkJ3CgVz5N"
      },
      "source": [
        "## Baselines\n",
        "So, is that performance good? Let's compare to a **baseline**, i.e., a null-hypothesis. The simplest one is that all instances belong to the most frequnt class in the data."
      ]
    },
    {
      "cell_type": "code",
      "metadata": {
        "id": "8fvRRMb3Vz5N",
        "colab": {
          "base_uri": "https://localhost:8080/"
        },
        "outputId": "11dd7d9f-ef60-4d32-c5c0-993a8a183c2e"
      },
      "source": [
        "from sklearn.dummy import DummyClassifier\n",
        "\n",
        "most_frequent = DummyClassifier(strategy='most_frequent')\n",
        "\n",
        "print(cross_val_score(most_frequent, X, y=y, cv=5, n_jobs=-1, scoring=\"f1_micro\").mean())\n"
      ],
      "execution_count": 21,
      "outputs": [
        {
          "output_type": "stream",
          "text": [
            "0.5061111111111111\n"
          ],
          "name": "stdout"
        }
      ]
    },
    {
      "cell_type": "markdown",
      "metadata": {
        "id": "t4cEIoxVVz5P"
      },
      "source": [
        "# Exercise\n",
        "\n",
        "See whether you can apply the previous steps to a new data sets, a description of wines. Choose any of the descriptor columns as target variable. The text is already preprocessed, to save time."
      ]
    },
    {
      "cell_type": "code",
      "metadata": {
        "id": "-DgVNPbgVz5P",
        "colab": {
          "base_uri": "https://localhost:8080/",
          "height": 564
        },
        "outputId": "0822fc06-5f5d-4c3c-bfc9-fbf19bcaf9f8"
      },
      "source": [
        "wine = pd.read_excel('wine_reviews_small.xlsx', nrows=10000)\n",
        "wine.head()\n",
        "#predict the country given the description"
      ],
      "execution_count": 22,
      "outputs": [
        {
          "output_type": "execute_result",
          "data": {
            "text/html": [
              "<div>\n",
              "<style scoped>\n",
              "    .dataframe tbody tr th:only-of-type {\n",
              "        vertical-align: middle;\n",
              "    }\n",
              "\n",
              "    .dataframe tbody tr th {\n",
              "        vertical-align: top;\n",
              "    }\n",
              "\n",
              "    .dataframe thead th {\n",
              "        text-align: right;\n",
              "    }\n",
              "</style>\n",
              "<table border=\"1\" class=\"dataframe\">\n",
              "  <thead>\n",
              "    <tr style=\"text-align: right;\">\n",
              "      <th></th>\n",
              "      <th>Unnamed: 0</th>\n",
              "      <th>Unnamed: 0.1</th>\n",
              "      <th>country</th>\n",
              "      <th>description</th>\n",
              "      <th>designation</th>\n",
              "      <th>points</th>\n",
              "      <th>price</th>\n",
              "      <th>province</th>\n",
              "      <th>region_1</th>\n",
              "      <th>region_2</th>\n",
              "      <th>variety</th>\n",
              "      <th>winery</th>\n",
              "      <th>description_cleaned</th>\n",
              "    </tr>\n",
              "  </thead>\n",
              "  <tbody>\n",
              "    <tr>\n",
              "      <th>0</th>\n",
              "      <td>0</td>\n",
              "      <td>0</td>\n",
              "      <td>US</td>\n",
              "      <td>This tremendous 100% varietal wine hails from ...</td>\n",
              "      <td>Martha's Vineyard</td>\n",
              "      <td>96</td>\n",
              "      <td>235.0</td>\n",
              "      <td>California</td>\n",
              "      <td>Napa Valley</td>\n",
              "      <td>Napa</td>\n",
              "      <td>Cabernet Sauvignon</td>\n",
              "      <td>Heitz</td>\n",
              "      <td>tremendous varietal wine hail be age year oak ...</td>\n",
              "    </tr>\n",
              "    <tr>\n",
              "      <th>1</th>\n",
              "      <td>1</td>\n",
              "      <td>1</td>\n",
              "      <td>Spain</td>\n",
              "      <td>Ripe aromas of fig, blackberry and cassis are ...</td>\n",
              "      <td>Carodorum Selección Especial Reserva</td>\n",
              "      <td>96</td>\n",
              "      <td>110.0</td>\n",
              "      <td>Northern Spain</td>\n",
              "      <td>Toro</td>\n",
              "      <td>NaN</td>\n",
              "      <td>Tinta de Toro</td>\n",
              "      <td>Bodega Carmen Rodríguez</td>\n",
              "      <td>ripe aroma fig blackberry cassis be soften swe...</td>\n",
              "    </tr>\n",
              "    <tr>\n",
              "      <th>2</th>\n",
              "      <td>2</td>\n",
              "      <td>2</td>\n",
              "      <td>US</td>\n",
              "      <td>Mac Watson honors the memory of a wine once ma...</td>\n",
              "      <td>Special Selected Late Harvest</td>\n",
              "      <td>96</td>\n",
              "      <td>90.0</td>\n",
              "      <td>California</td>\n",
              "      <td>Knights Valley</td>\n",
              "      <td>Sonoma</td>\n",
              "      <td>Sauvignon Blanc</td>\n",
              "      <td>Macauley</td>\n",
              "      <td>honor memory wine once make his mother tremend...</td>\n",
              "    </tr>\n",
              "    <tr>\n",
              "      <th>3</th>\n",
              "      <td>3</td>\n",
              "      <td>3</td>\n",
              "      <td>US</td>\n",
              "      <td>This spent 20 months in 30% new French oak, an...</td>\n",
              "      <td>Reserve</td>\n",
              "      <td>96</td>\n",
              "      <td>65.0</td>\n",
              "      <td>Oregon</td>\n",
              "      <td>Willamette Valley</td>\n",
              "      <td>Willamette Valley</td>\n",
              "      <td>Pinot Noir</td>\n",
              "      <td>Ponzi</td>\n",
              "      <td>spend month new french oak incorporate fruit v...</td>\n",
              "    </tr>\n",
              "    <tr>\n",
              "      <th>4</th>\n",
              "      <td>4</td>\n",
              "      <td>4</td>\n",
              "      <td>France</td>\n",
              "      <td>This is the top wine from La Bégude, named aft...</td>\n",
              "      <td>La Brûlade</td>\n",
              "      <td>95</td>\n",
              "      <td>66.0</td>\n",
              "      <td>Provence</td>\n",
              "      <td>Bandol</td>\n",
              "      <td>NaN</td>\n",
              "      <td>Provence red blend</td>\n",
              "      <td>Domaine de la Bégude</td>\n",
              "      <td>be top wine name high point vineyard foot have...</td>\n",
              "    </tr>\n",
              "  </tbody>\n",
              "</table>\n",
              "</div>"
            ],
            "text/plain": [
              "   Unnamed: 0  ...                                description_cleaned\n",
              "0           0  ...  tremendous varietal wine hail be age year oak ...\n",
              "1           1  ...  ripe aroma fig blackberry cassis be soften swe...\n",
              "2           2  ...  honor memory wine once make his mother tremend...\n",
              "3           3  ...  spend month new french oak incorporate fruit v...\n",
              "4           4  ...  be top wine name high point vineyard foot have...\n",
              "\n",
              "[5 rows x 13 columns]"
            ]
          },
          "metadata": {
            "tags": []
          },
          "execution_count": 22
        }
      ]
    },
    {
      "cell_type": "code",
      "metadata": {
        "colab": {
          "base_uri": "https://localhost:8080/"
        },
        "id": "e5BoNvFHKhdh",
        "outputId": "b64f8bf0-3a5e-4d25-e213-437f7c739323"
      },
      "source": [
        "wine_vectorizer = TfidfVectorizer(ngram_range=(1,2), \n",
        "                             min_df=0.001, \n",
        "                             max_df=0.75, \n",
        "                             stop_words='english')\n",
        "\n",
        "wine_X = wine_vectorizer.fit_transform(wine['description_cleaned'])\n",
        "wine_labels2numbers = LabelEncoder()\n",
        "wine_y = wine_labels2numbers.fit_transform(wine['country'])\n",
        "\n",
        "wine_classifier = LogisticRegression(n_jobs=-1, class_weight='balanced')\n",
        "%time wine_classifier.fit(wine_X, wine_y)\n",
        "print(wine_classifier)"
      ],
      "execution_count": 23,
      "outputs": [
        {
          "output_type": "stream",
          "text": [
            "CPU times: user 37.2 ms, sys: 8.96 ms, total: 46.2 ms\n",
            "Wall time: 5.13 s\n",
            "LogisticRegression(C=1.0, class_weight='balanced', dual=False,\n",
            "                   fit_intercept=True, intercept_scaling=1, l1_ratio=None,\n",
            "                   max_iter=100, multi_class='auto', n_jobs=-1, penalty='l2',\n",
            "                   random_state=None, solver='lbfgs', tol=0.0001, verbose=0,\n",
            "                   warm_start=False)\n"
          ],
          "name": "stdout"
        }
      ]
    },
    {
      "cell_type": "code",
      "metadata": {
        "colab": {
          "base_uri": "https://localhost:8080/"
        },
        "id": "aG7oBLo-rgGQ",
        "outputId": "10a0a867-20d3-4221-dd07-d243ada621d2"
      },
      "source": [
        "wine_most_frequent = DummyClassifier(strategy='most_frequent')\n",
        "\n",
        "print(cross_val_score(wine_most_frequent, wine_X, y=wine_y, cv=5, n_jobs=-1, scoring=\"f1_micro\").mean())"
      ],
      "execution_count": 24,
      "outputs": [
        {
          "output_type": "stream",
          "text": [
            "0.4091\n"
          ],
          "name": "stdout"
        },
        {
          "output_type": "stream",
          "text": [
            "/usr/local/lib/python3.7/dist-packages/sklearn/model_selection/_split.py:667: UserWarning: The least populated class in y has only 1 members, which is less than n_splits=5.\n",
            "  % (min_groups, self.n_splits)), UserWarning)\n"
          ],
          "name": "stderr"
        }
      ]
    },
    {
      "cell_type": "code",
      "metadata": {
        "colab": {
          "base_uri": "https://localhost:8080/"
        },
        "id": "PEwaOLMqNtqL",
        "outputId": "54805a7e-38f3-4913-faf2-72b3711b5928"
      },
      "source": [
        "for k in [2,3,5,10]:\n",
        "    cv = cross_val_score(LogisticRegression(), wine_X, y=wine_y, cv=k, n_jobs=-1, scoring=\"f1_micro\")\n",
        "    fold_size = wine_X.shape[0]/k\n",
        "    \n",
        "    print(\"F1 with {} folds for bag-of-words is {}\".format(k, cv.mean()))\n",
        "    print(\"Training on {} instances/fold, testing on {}\".format(fold_size*(k-1), fold_size))\n",
        "    print()"
      ],
      "execution_count": 25,
      "outputs": [
        {
          "output_type": "stream",
          "text": [
            "/usr/local/lib/python3.7/dist-packages/sklearn/model_selection/_split.py:667: UserWarning: The least populated class in y has only 1 members, which is less than n_splits=2.\n",
            "  % (min_groups, self.n_splits)), UserWarning)\n"
          ],
          "name": "stderr"
        },
        {
          "output_type": "stream",
          "text": [
            "F1 with 2 folds for bag-of-words is 0.7711000000000001\n",
            "Training on 5000.0 instances/fold, testing on 5000.0\n",
            "\n"
          ],
          "name": "stdout"
        },
        {
          "output_type": "stream",
          "text": [
            "/usr/local/lib/python3.7/dist-packages/sklearn/model_selection/_split.py:667: UserWarning: The least populated class in y has only 1 members, which is less than n_splits=3.\n",
            "  % (min_groups, self.n_splits)), UserWarning)\n"
          ],
          "name": "stderr"
        },
        {
          "output_type": "stream",
          "text": [
            "F1 with 3 folds for bag-of-words is 0.7825996156904232\n",
            "Training on 6666.666666666667 instances/fold, testing on 3333.3333333333335\n",
            "\n"
          ],
          "name": "stdout"
        },
        {
          "output_type": "stream",
          "text": [
            "/usr/local/lib/python3.7/dist-packages/sklearn/model_selection/_split.py:667: UserWarning: The least populated class in y has only 1 members, which is less than n_splits=5.\n",
            "  % (min_groups, self.n_splits)), UserWarning)\n"
          ],
          "name": "stderr"
        },
        {
          "output_type": "stream",
          "text": [
            "F1 with 5 folds for bag-of-words is 0.7929000000000002\n",
            "Training on 8000.0 instances/fold, testing on 2000.0\n",
            "\n"
          ],
          "name": "stdout"
        },
        {
          "output_type": "stream",
          "text": [
            "/usr/local/lib/python3.7/dist-packages/sklearn/model_selection/_split.py:667: UserWarning: The least populated class in y has only 1 members, which is less than n_splits=10.\n",
            "  % (min_groups, self.n_splits)), UserWarning)\n"
          ],
          "name": "stderr"
        },
        {
          "output_type": "stream",
          "text": [
            "F1 with 10 folds for bag-of-words is 0.7986000000000001\n",
            "Training on 9000.0 instances/fold, testing on 1000.0\n",
            "\n"
          ],
          "name": "stdout"
        }
      ]
    },
    {
      "cell_type": "markdown",
      "metadata": {
        "id": "k7KmMYQAsr1W"
      },
      "source": [
        "The previous warning is due to some classes that appear only on test data and never on training data while applying k-cross validation. "
      ]
    },
    {
      "cell_type": "markdown",
      "metadata": {
        "id": "_zUQtfnJVz5T"
      },
      "source": [
        "# 6 Heldout data\n",
        "\n",
        "Classifying new (**held-out**) data is called **prediction**. We reuse the weights we have learned before on a new data matrix to predict the new outcomes.\n",
        "Important: the new data needs to have the same number of features!"
      ]
    },
    {
      "cell_type": "code",
      "metadata": {
        "id": "POHdSR7EVz5U",
        "colab": {
          "base_uri": "https://localhost:8080/",
          "height": 221
        },
        "outputId": "82615519-8373-4bc5-b2f9-3c17efe1a173"
      },
      "source": [
        "# read in new data set\n",
        "new_data = pd.read_csv('sa_test.csv')\n",
        "print(len(new_data))\n",
        "new_data.head()"
      ],
      "execution_count": 26,
      "outputs": [
        {
          "output_type": "stream",
          "text": [
            "200\n"
          ],
          "name": "stdout"
        },
        {
          "output_type": "execute_result",
          "data": {
            "text/html": [
              "<div>\n",
              "<style scoped>\n",
              "    .dataframe tbody tr th:only-of-type {\n",
              "        vertical-align: middle;\n",
              "    }\n",
              "\n",
              "    .dataframe tbody tr th {\n",
              "        vertical-align: top;\n",
              "    }\n",
              "\n",
              "    .dataframe thead th {\n",
              "        text-align: right;\n",
              "    }\n",
              "</style>\n",
              "<table border=\"1\" class=\"dataframe\">\n",
              "  <thead>\n",
              "    <tr style=\"text-align: right;\">\n",
              "      <th></th>\n",
              "      <th>input</th>\n",
              "      <th>output</th>\n",
              "    </tr>\n",
              "  </thead>\n",
              "  <tbody>\n",
              "    <tr>\n",
              "      <th>0</th>\n",
              "      <td>robert redford ' s a river runs through it is ...</td>\n",
              "      <td>pos</td>\n",
              "    </tr>\n",
              "    <tr>\n",
              "      <th>1</th>\n",
              "      <td>if the 70 ' s nostalgia didn ' t make you feel...</td>\n",
              "      <td>neg</td>\n",
              "    </tr>\n",
              "    <tr>\n",
              "      <th>2</th>\n",
              "      <td>you think that these people only exist in the ...</td>\n",
              "      <td>neg</td>\n",
              "    </tr>\n",
              "    <tr>\n",
              "      <th>3</th>\n",
              "      <td>\" knock off \" is exactly that : a cheap knock ...</td>\n",
              "      <td>neg</td>\n",
              "    </tr>\n",
              "    <tr>\n",
              "      <th>4</th>\n",
              "      <td>brian depalma needs a hit * really * badly . s...</td>\n",
              "      <td>pos</td>\n",
              "    </tr>\n",
              "  </tbody>\n",
              "</table>\n",
              "</div>"
            ],
            "text/plain": [
              "                                               input output\n",
              "0  robert redford ' s a river runs through it is ...    pos\n",
              "1  if the 70 ' s nostalgia didn ' t make you feel...    neg\n",
              "2  you think that these people only exist in the ...    neg\n",
              "3  \" knock off \" is exactly that : a cheap knock ...    neg\n",
              "4  brian depalma needs a hit * really * badly . s...    pos"
            ]
          },
          "metadata": {
            "tags": []
          },
          "execution_count": 26
        }
      ]
    },
    {
      "cell_type": "markdown",
      "metadata": {
        "id": "wS5DsydTVz5W"
      },
      "source": [
        "Don't forget to clean it!"
      ]
    },
    {
      "cell_type": "code",
      "metadata": {
        "id": "6ZS4dScqVz5X",
        "colab": {
          "base_uri": "https://localhost:8080/"
        },
        "outputId": "0f9d7a80-7d68-4598-93cd-4e05ada299eb"
      },
      "source": [
        "%time new_data['clean_text'] = new_data.input.apply(clean_text)"
      ],
      "execution_count": 27,
      "outputs": [
        {
          "output_type": "stream",
          "text": [
            "CPU times: user 19.9 s, sys: 315 ms, total: 20.2 s\n",
            "Wall time: 20.3 s\n"
          ],
          "name": "stdout"
        }
      ]
    },
    {
      "cell_type": "markdown",
      "metadata": {
        "id": "VHJtIjPFVz5b"
      },
      "source": [
        "Let's see how well we do on this data:"
      ]
    },
    {
      "cell_type": "code",
      "metadata": {
        "id": "lzNk3BuBVz5c",
        "colab": {
          "base_uri": "https://localhost:8080/"
        },
        "outputId": "b5f00007-7531-4100-ba5c-a325900158f7"
      },
      "source": [
        "# transform text into word counts\n",
        "# IMPORTANT: use same vectorizer we fit on training data to create vectors!\n",
        "new_X = vectorizer.transform(new_data['clean_text'])\n",
        "\n",
        "# translate labels\n",
        "new_y = labels2numbers.transform(new_data['output'])\n",
        "\n",
        "\n",
        "# use the old classifier to predict and evaluate\n",
        "new_predictions = classifier.predict(new_X)\n",
        "print(new_predictions)"
      ],
      "execution_count": 28,
      "outputs": [
        {
          "output_type": "stream",
          "text": [
            "[1 0 0 0 1 0 0 0 0 0 1 1 1 0 1 1 1 1 0 1 0 1 1 1 0 0 0 0 1 0 1 0 0 0 0 0 1\n",
            " 0 0 0 0 0 0 0 1 1 0 0 0 0 1 1 0 1 0 0 1 1 0 0 0 1 0 0 1 1 0 0 0 1 0 1 0 1\n",
            " 1 0 1 0 0 1 1 1 1 1 1 1 0 0 0 0 0 1 1 1 1 0 0 1 0 1 1 1 0 0 0 0 1 0 0 0 0\n",
            " 0 0 1 1 0 1 1 0 1 0 0 1 0 1 0 0 1 1 0 1 0 0 1 1 1 1 1 0 0 0 0 0 0 1 1 0 0\n",
            " 1 1 1 0 1 1 0 1 0 1 1 0 0 1 1 0 0 1 0 0 0 0 0 0 1 1 1 0 0 0 0 1 0 1 1 0 0\n",
            " 0 0 0 1 1 1 1 0 1 0 1 0 0 0 1]\n"
          ],
          "name": "stdout"
        }
      ]
    },
    {
      "cell_type": "code",
      "metadata": {
        "id": "rC1QJpKqVz5d",
        "colab": {
          "base_uri": "https://localhost:8080/"
        },
        "outputId": "3cb41c5d-22e7-4906-9634-8eb4bf124f89"
      },
      "source": [
        "print(classification_report(new_y, new_predictions))"
      ],
      "execution_count": 29,
      "outputs": [
        {
          "output_type": "stream",
          "text": [
            "              precision    recall  f1-score   support\n",
            "\n",
            "           0       0.83      0.84      0.83       111\n",
            "           1       0.80      0.79      0.79        89\n",
            "\n",
            "    accuracy                           0.81       200\n",
            "   macro avg       0.81      0.81      0.81       200\n",
            "weighted avg       0.81      0.81      0.81       200\n",
            "\n"
          ],
          "name": "stdout"
        }
      ]
    },
    {
      "cell_type": "markdown",
      "metadata": {
        "id": "hGz7iIHoVz5f"
      },
      "source": [
        "Instead, we can also predict the probabilities of belonging to each class"
      ]
    },
    {
      "cell_type": "code",
      "metadata": {
        "id": "JcDpM1w5Vz5f",
        "colab": {
          "base_uri": "https://localhost:8080/"
        },
        "outputId": "09b43128-f897-4892-e562-d58be0038a32"
      },
      "source": [
        "new_probabilities = classifier.predict_proba(new_X)\n",
        "print(new_probabilities)"
      ],
      "execution_count": 30,
      "outputs": [
        {
          "output_type": "stream",
          "text": [
            "[[0.30745711 0.69254289]\n",
            " [0.55629129 0.44370871]\n",
            " [0.5346982  0.4653018 ]\n",
            " [0.74681023 0.25318977]\n",
            " [0.36336666 0.63663334]\n",
            " [0.63447098 0.36552902]\n",
            " [0.52763496 0.47236504]\n",
            " [0.53041422 0.46958578]\n",
            " [0.62989898 0.37010102]\n",
            " [0.52398668 0.47601332]\n",
            " [0.39571583 0.60428417]\n",
            " [0.27701891 0.72298109]\n",
            " [0.36529535 0.63470465]\n",
            " [0.6180369  0.3819631 ]\n",
            " [0.37767803 0.62232197]\n",
            " [0.34803811 0.65196189]\n",
            " [0.30380553 0.69619447]\n",
            " [0.3705448  0.6294552 ]\n",
            " [0.50506119 0.49493881]\n",
            " [0.46744111 0.53255889]\n",
            " [0.71648016 0.28351984]\n",
            " [0.48074602 0.51925398]\n",
            " [0.34768242 0.65231758]\n",
            " [0.40778423 0.59221577]\n",
            " [0.51954813 0.48045187]\n",
            " [0.58126258 0.41873742]\n",
            " [0.69281727 0.30718273]\n",
            " [0.67484025 0.32515975]\n",
            " [0.46197409 0.53802591]\n",
            " [0.5516414  0.4483586 ]\n",
            " [0.29534742 0.70465258]\n",
            " [0.64829551 0.35170449]\n",
            " [0.71811139 0.28188861]\n",
            " [0.81374881 0.18625119]\n",
            " [0.66188463 0.33811537]\n",
            " [0.73474834 0.26525166]\n",
            " [0.30462163 0.69537837]\n",
            " [0.58988807 0.41011193]\n",
            " [0.59001609 0.40998391]\n",
            " [0.64077973 0.35922027]\n",
            " [0.67182359 0.32817641]\n",
            " [0.67460547 0.32539453]\n",
            " [0.73137522 0.26862478]\n",
            " [0.73638276 0.26361724]\n",
            " [0.38788685 0.61211315]\n",
            " [0.42429875 0.57570125]\n",
            " [0.70334106 0.29665894]\n",
            " [0.59688467 0.40311533]\n",
            " [0.66079787 0.33920213]\n",
            " [0.69147161 0.30852839]\n",
            " [0.36483898 0.63516102]\n",
            " [0.25696651 0.74303349]\n",
            " [0.63129232 0.36870768]\n",
            " [0.38832969 0.61167031]\n",
            " [0.51863917 0.48136083]\n",
            " [0.64399717 0.35600283]\n",
            " [0.49134407 0.50865593]\n",
            " [0.2893031  0.7106969 ]\n",
            " [0.61911911 0.38088089]\n",
            " [0.54946439 0.45053561]\n",
            " [0.71439695 0.28560305]\n",
            " [0.32096212 0.67903788]\n",
            " [0.59239414 0.40760586]\n",
            " [0.61342379 0.38657621]\n",
            " [0.37931455 0.62068545]\n",
            " [0.43214396 0.56785604]\n",
            " [0.54737737 0.45262263]\n",
            " [0.52649472 0.47350528]\n",
            " [0.59334677 0.40665323]\n",
            " [0.34985223 0.65014777]\n",
            " [0.50028786 0.49971214]\n",
            " [0.49062582 0.50937418]\n",
            " [0.66777229 0.33222771]\n",
            " [0.27403087 0.72596913]\n",
            " [0.46899063 0.53100937]\n",
            " [0.53833011 0.46166989]\n",
            " [0.49774504 0.50225496]\n",
            " [0.60129157 0.39870843]\n",
            " [0.61402559 0.38597441]\n",
            " [0.44803662 0.55196338]\n",
            " [0.37180692 0.62819308]\n",
            " [0.25657754 0.74342246]\n",
            " [0.40491646 0.59508354]\n",
            " [0.26517246 0.73482754]\n",
            " [0.44212763 0.55787237]\n",
            " [0.3725833  0.6274167 ]\n",
            " [0.64182984 0.35817016]\n",
            " [0.80632551 0.19367449]\n",
            " [0.51455199 0.48544801]\n",
            " [0.58042128 0.41957872]\n",
            " [0.57465969 0.42534031]\n",
            " [0.4958256  0.5041744 ]\n",
            " [0.48248777 0.51751223]\n",
            " [0.37235917 0.62764083]\n",
            " [0.29766449 0.70233551]\n",
            " [0.54467837 0.45532163]\n",
            " [0.65529801 0.34470199]\n",
            " [0.33047553 0.66952447]\n",
            " [0.60049558 0.39950442]\n",
            " [0.40650665 0.59349335]\n",
            " [0.38224084 0.61775916]\n",
            " [0.26606111 0.73393889]\n",
            " [0.55881275 0.44118725]\n",
            " [0.57504669 0.42495331]\n",
            " [0.53709358 0.46290642]\n",
            " [0.55515451 0.44484549]\n",
            " [0.31590584 0.68409416]\n",
            " [0.55881735 0.44118265]\n",
            " [0.52980026 0.47019974]\n",
            " [0.66756612 0.33243388]\n",
            " [0.56341302 0.43658698]\n",
            " [0.82208003 0.17791997]\n",
            " [0.52885354 0.47114646]\n",
            " [0.39835937 0.60164063]\n",
            " [0.38356057 0.61643943]\n",
            " [0.6651991  0.3348009 ]\n",
            " [0.49198794 0.50801206]\n",
            " [0.44690735 0.55309265]\n",
            " [0.54348459 0.45651541]\n",
            " [0.43468199 0.56531801]\n",
            " [0.6048523  0.3951477 ]\n",
            " [0.62209282 0.37790718]\n",
            " [0.33223595 0.66776405]\n",
            " [0.5022371  0.4977629 ]\n",
            " [0.38865194 0.61134806]\n",
            " [0.58249405 0.41750595]\n",
            " [0.53585587 0.46414413]\n",
            " [0.37018286 0.62981714]\n",
            " [0.47516366 0.52483634]\n",
            " [0.67247594 0.32752406]\n",
            " [0.46743095 0.53256905]\n",
            " [0.83379617 0.16620383]\n",
            " [0.79549812 0.20450188]\n",
            " [0.24402533 0.75597467]\n",
            " [0.34168976 0.65831024]\n",
            " [0.28680251 0.71319749]\n",
            " [0.43766946 0.56233054]\n",
            " [0.4311006  0.5688994 ]\n",
            " [0.58495817 0.41504183]\n",
            " [0.55233648 0.44766352]\n",
            " [0.65441504 0.34558496]\n",
            " [0.63449288 0.36550712]\n",
            " [0.66110843 0.33889157]\n",
            " [0.54204271 0.45795729]\n",
            " [0.47811378 0.52188622]\n",
            " [0.2290934  0.7709066 ]\n",
            " [0.56317447 0.43682553]\n",
            " [0.66850296 0.33149704]\n",
            " [0.38425935 0.61574065]\n",
            " [0.43506152 0.56493848]\n",
            " [0.38085177 0.61914823]\n",
            " [0.50475642 0.49524358]\n",
            " [0.37782611 0.62217389]\n",
            " [0.41914351 0.58085649]\n",
            " [0.66971212 0.33028788]\n",
            " [0.25785411 0.74214589]\n",
            " [0.6315107  0.3684893 ]\n",
            " [0.45123209 0.54876791]\n",
            " [0.35668661 0.64331339]\n",
            " [0.62740761 0.37259239]\n",
            " [0.53911846 0.46088154]\n",
            " [0.37266271 0.62733729]\n",
            " [0.27386495 0.72613505]\n",
            " [0.51260269 0.48739731]\n",
            " [0.67826453 0.32173547]\n",
            " [0.44976033 0.55023967]\n",
            " [0.59952272 0.40047728]\n",
            " [0.75514273 0.24485727]\n",
            " [0.60752964 0.39247036]\n",
            " [0.51004392 0.48995608]\n",
            " [0.56792876 0.43207124]\n",
            " [0.51691449 0.48308551]\n",
            " [0.32476754 0.67523246]\n",
            " [0.37411754 0.62588246]\n",
            " [0.38791725 0.61208275]\n",
            " [0.69338943 0.30661057]\n",
            " [0.50491139 0.49508861]\n",
            " [0.51187363 0.48812637]\n",
            " [0.56510008 0.43489992]\n",
            " [0.43349989 0.56650011]\n",
            " [0.57932393 0.42067607]\n",
            " [0.44974573 0.55025427]\n",
            " [0.38019652 0.61980348]\n",
            " [0.59755208 0.40244792]\n",
            " [0.70731    0.29269   ]\n",
            " [0.59452469 0.40547531]\n",
            " [0.55926301 0.44073699]\n",
            " [0.67339484 0.32660516]\n",
            " [0.21299064 0.78700936]\n",
            " [0.48091057 0.51908943]\n",
            " [0.3337796  0.6662204 ]\n",
            " [0.49756018 0.50243982]\n",
            " [0.70863283 0.29136717]\n",
            " [0.35900545 0.64099455]\n",
            " [0.58233257 0.41766743]\n",
            " [0.46589422 0.53410578]\n",
            " [0.56695753 0.43304247]\n",
            " [0.52825457 0.47174543]\n",
            " [0.52801314 0.47198686]\n",
            " [0.39226834 0.60773166]]\n"
          ],
          "name": "stdout"
        }
      ]
    },
    {
      "cell_type": "markdown",
      "metadata": {
        "id": "d0LWcxbwVz5h"
      },
      "source": [
        "For each instance (=row), we get a probability distribution over the classes (=columns)"
      ]
    },
    {
      "cell_type": "markdown",
      "metadata": {
        "id": "R8QbDmCAVz5h"
      },
      "source": [
        "## 6.1 Regularization\n",
        "\n",
        "Typically, performance is lower on unseen data, because our model **overfit** the training data: it expects the new data to look *exactly* the same as the training data. That is almost never true.\n",
        "\n",
        "In order to prevent the model from overfitting, we need to **regularize** it. Essentially, we make it harder to learn the training data.\n",
        "\n",
        "A simple example of regularization is to \"corrupt\" the training data by adding a little bit of noise to each training instance. Since the noise is irregular, it becomes harder for the model to learn any patterns."
      ]
    },
    {
      "cell_type": "code",
      "metadata": {
        "id": "oO3wiiYMVz5h",
        "colab": {
          "base_uri": "https://localhost:8080/"
        },
        "outputId": "54bcc0d0-684d-41c9-9380-ef29f43cac3a"
      },
      "source": [
        "from scipy.sparse import random\n",
        "\n",
        "num_instances, num_features = X.shape\n",
        "\n",
        "for i in range(5):\n",
        "    X_regularized = X + random(num_instances, num_features, density=0.01)\n",
        "\n",
        "    print(cross_val_score(LogisticRegression(), X_regularized, y=y, cv=k, n_jobs=-1, scoring=\"f1_micro\").mean())"
      ],
      "execution_count": 31,
      "outputs": [
        {
          "output_type": "stream",
          "text": [
            "0.5144444444444444\n",
            "0.5005555555555554\n",
            "0.5105555555555555\n",
            "0.526111111111111\n",
            "0.5344444444444444\n"
          ],
          "name": "stdout"
        }
      ]
    },
    {
      "cell_type": "markdown",
      "metadata": {
        "id": "ERmjYFKYVz5k"
      },
      "source": [
        "If you run the previous cell several times, you see different results (it gets even more varied if you change `density`). This variation arises because we add **random** noise. Not good...\n",
        "\n",
        "Instead, it makes sense to force the model to spread the weights more evenly over all features, rather than bet on a few feature, which might not be present in future data.\n",
        "\n",
        "We can do this by training the model with the `C` parameter. The default is `1`. Lower values mean stricter regularization."
      ]
    },
    {
      "cell_type": "code",
      "metadata": {
        "id": "l5AUv2tvVz5k",
        "colab": {
          "base_uri": "https://localhost:8080/"
        },
        "outputId": "c71e4b31-114e-4046-e6e9-38a10fb503cf"
      },
      "source": [
        "from sklearn.metrics import f1_score\n",
        "\n",
        "best_c = None\n",
        "best_f1_score = 0.0\n",
        "\n",
        "for c in [50, 20, 10, 1.0, 0.5, 0.1, 0.05, 0.01]:\n",
        "    clf = LogisticRegression(C=c, n_jobs=-1)\n",
        "    cv_reg = cross_val_score(clf, X, y=y, cv=5, n_jobs=-1, scoring=\"f1_micro\").mean()\n",
        "\n",
        "    print(\"5-CV on train at C={}: {}\".format(c, cv_reg.mean()))\n",
        "    print()\n",
        "\n",
        "    if cv_reg > best_f1_score:\n",
        "        best_f1_score = cv_reg\n",
        "        best_c = c\n",
        "        \n",
        "print(\"best C parameter: {}\".format(best_c))"
      ],
      "execution_count": 32,
      "outputs": [
        {
          "output_type": "stream",
          "text": [
            "5-CV on train at C=50: 0.8477777777777777\n",
            "\n",
            "5-CV on train at C=20: 0.8488888888888889\n",
            "\n",
            "5-CV on train at C=10: 0.8488888888888889\n",
            "\n",
            "5-CV on train at C=1.0: 0.828888888888889\n",
            "\n",
            "5-CV on train at C=0.5: 0.8183333333333334\n",
            "\n",
            "5-CV on train at C=0.1: 0.788888888888889\n",
            "\n",
            "5-CV on train at C=0.05: 0.7311111111111112\n",
            "\n",
            "5-CV on train at C=0.01: 0.5077777777777778\n",
            "\n",
            "best C parameter: 20\n"
          ],
          "name": "stdout"
        }
      ]
    },
    {
      "cell_type": "code",
      "metadata": {
        "id": "XA-Q-ENAVz5m",
        "colab": {
          "base_uri": "https://localhost:8080/"
        },
        "outputId": "c763f318-5306-4ac5-90bd-f50da128aa9f"
      },
      "source": [
        "reg_clf = LogisticRegression(C=best_c, n_jobs=-1)\n",
        "reg_clf.fit(X, y)\n",
        "reg_preds = reg_clf.predict(new_X)\n",
        "\n",
        "print(classification_report(new_y, reg_preds))"
      ],
      "execution_count": 33,
      "outputs": [
        {
          "output_type": "stream",
          "text": [
            "              precision    recall  f1-score   support\n",
            "\n",
            "           0       0.86      0.85      0.85       111\n",
            "           1       0.81      0.83      0.82        89\n",
            "\n",
            "    accuracy                           0.84       200\n",
            "   macro avg       0.84      0.84      0.84       200\n",
            "weighted avg       0.84      0.84      0.84       200\n",
            "\n"
          ],
          "name": "stdout"
        }
      ]
    },
    {
      "cell_type": "markdown",
      "metadata": {
        "id": "Peq6pHWdVz5n"
      },
      "source": [
        "# Better features = better performance\n"
      ]
    },
    {
      "cell_type": "markdown",
      "metadata": {
        "id": "LTdrezvHVz5o"
      },
      "source": [
        "We now have **a lot** of features! More than we have actual examples...\n",
        "\n",
        "Not all of them will be helpful, though. Let's select the top 1500 based on how well they predict they outcome of the training data.\n",
        "\n",
        "We use two libraries from `sklearn`, `SelectKBest` (the selection algorithm) and `chi2` (the selection criterion)."
      ]
    },
    {
      "cell_type": "code",
      "metadata": {
        "id": "KJr7vjX-Vz5o",
        "colab": {
          "base_uri": "https://localhost:8080/"
        },
        "outputId": "37f7cadf-8d5f-462a-eb9c-72c8e1620fb3"
      },
      "source": [
        "from sklearn.feature_selection import SelectKBest\n",
        "from sklearn.feature_selection import chi2\n",
        "\n",
        "selector = SelectKBest(chi2, k=1500).fit(X, y)\n",
        "X_sel = selector.transform(X)\n",
        "print(X_sel.shape)"
      ],
      "execution_count": 34,
      "outputs": [
        {
          "output_type": "stream",
          "text": [
            "(1800, 1500)\n"
          ],
          "name": "stdout"
        }
      ]
    },
    {
      "cell_type": "code",
      "metadata": {
        "id": "DY1SU0fLtN1N",
        "colab": {
          "base_uri": "https://localhost:8080/"
        },
        "outputId": "c1025d45-6762-4030-9369-8aa0d76b20d0"
      },
      "source": [
        "X.shape"
      ],
      "execution_count": 35,
      "outputs": [
        {
          "output_type": "execute_result",
          "data": {
            "text/plain": [
              "(1800, 66808)"
            ]
          },
          "metadata": {
            "tags": []
          },
          "execution_count": 35
        }
      ]
    },
    {
      "cell_type": "markdown",
      "metadata": {
        "id": "sqHZ06Y0Vz5r"
      },
      "source": [
        "Let's see how well this new representation performs, by looking at the 5-fold cross-validation. We keep the best regularization value from before."
      ]
    },
    {
      "cell_type": "code",
      "metadata": {
        "id": "oDJfQT_dVz5r",
        "colab": {
          "base_uri": "https://localhost:8080/"
        },
        "outputId": "488fcc8f-2c4d-466f-c46e-33b3fa9c9639"
      },
      "source": [
        "clf = LogisticRegression(C=best_c, n_jobs=-1)\n",
        "\n",
        "cv_reg = cross_val_score(clf, X_sel, y=y, cv=5, n_jobs=-1, scoring=\"f1_micro\")\n",
        "print(\"5-CV on train: {}\".format(cv_reg.mean()))"
      ],
      "execution_count": 36,
      "outputs": [
        {
          "output_type": "stream",
          "text": [
            "5-CV on train: 0.8955555555555555\n"
          ],
          "name": "stdout"
        }
      ]
    },
    {
      "cell_type": "markdown",
      "metadata": {
        "id": "O8EzUM5GVz5t"
      },
      "source": [
        "Not too bad! We have handily beaten our previous best! Let's fit a classifier on the whole data now."
      ]
    },
    {
      "cell_type": "code",
      "metadata": {
        "id": "U-3iON0qVz5t",
        "colab": {
          "base_uri": "https://localhost:8080/"
        },
        "outputId": "f4285077-6ea7-4c00-e514-fe05fb5af084"
      },
      "source": [
        "clf.fit(X_sel, y)"
      ],
      "execution_count": 37,
      "outputs": [
        {
          "output_type": "execute_result",
          "data": {
            "text/plain": [
              "LogisticRegression(C=20, class_weight=None, dual=False, fit_intercept=True,\n",
              "                   intercept_scaling=1, l1_ratio=None, max_iter=100,\n",
              "                   multi_class='auto', n_jobs=-1, penalty='l2',\n",
              "                   random_state=None, solver='lbfgs', tol=0.0001, verbose=0,\n",
              "                   warm_start=False)"
            ]
          },
          "metadata": {
            "tags": []
          },
          "execution_count": 37
        }
      ]
    },
    {
      "cell_type": "markdown",
      "metadata": {
        "id": "XhE20-xpVz5v"
      },
      "source": [
        "Now, let's apply it to the held-out data set. \n",
        "We need to \n",
        "* vectorize the data with our vectorizer from before (otherwise, we get different features)\n",
        "* select the top features (using our previously fitted selector)"
      ]
    },
    {
      "cell_type": "code",
      "metadata": {
        "id": "dSdElClcVz5v",
        "colab": {
          "base_uri": "https://localhost:8080/"
        },
        "outputId": "96e70ada-6cc2-4abc-c387-7365152b90ec"
      },
      "source": [
        "# select features for new data\n",
        "new_X_sel = selector.transform(new_X)\n",
        "print(new_X_sel.shape)"
      ],
      "execution_count": 38,
      "outputs": [
        {
          "output_type": "stream",
          "text": [
            "(200, 1500)\n"
          ],
          "name": "stdout"
        }
      ]
    },
    {
      "cell_type": "markdown",
      "metadata": {
        "id": "V1LNg6z_Vz5x"
      },
      "source": [
        "Finally, we can use our new classifier to predict the new data labels, and compare them to the truth."
      ]
    },
    {
      "cell_type": "code",
      "metadata": {
        "id": "1LzRhzu6Vz5x",
        "colab": {
          "base_uri": "https://localhost:8080/",
          "height": 419
        },
        "outputId": "d868790d-db26-4743-db6a-3449da636063"
      },
      "source": [
        "new_predictions_regularized = clf.predict(new_X_sel)\n",
        "prediction_df = pd.DataFrame(data={'input': new_data['input'], 'prediction': labels2numbers.inverse_transform(new_predictions_regularized), 'truth':new_data['output']})\n",
        "prediction_df"
      ],
      "execution_count": 39,
      "outputs": [
        {
          "output_type": "execute_result",
          "data": {
            "text/html": [
              "<div>\n",
              "<style scoped>\n",
              "    .dataframe tbody tr th:only-of-type {\n",
              "        vertical-align: middle;\n",
              "    }\n",
              "\n",
              "    .dataframe tbody tr th {\n",
              "        vertical-align: top;\n",
              "    }\n",
              "\n",
              "    .dataframe thead th {\n",
              "        text-align: right;\n",
              "    }\n",
              "</style>\n",
              "<table border=\"1\" class=\"dataframe\">\n",
              "  <thead>\n",
              "    <tr style=\"text-align: right;\">\n",
              "      <th></th>\n",
              "      <th>input</th>\n",
              "      <th>prediction</th>\n",
              "      <th>truth</th>\n",
              "    </tr>\n",
              "  </thead>\n",
              "  <tbody>\n",
              "    <tr>\n",
              "      <th>0</th>\n",
              "      <td>robert redford ' s a river runs through it is ...</td>\n",
              "      <td>pos</td>\n",
              "      <td>pos</td>\n",
              "    </tr>\n",
              "    <tr>\n",
              "      <th>1</th>\n",
              "      <td>if the 70 ' s nostalgia didn ' t make you feel...</td>\n",
              "      <td>neg</td>\n",
              "      <td>neg</td>\n",
              "    </tr>\n",
              "    <tr>\n",
              "      <th>2</th>\n",
              "      <td>you think that these people only exist in the ...</td>\n",
              "      <td>neg</td>\n",
              "      <td>neg</td>\n",
              "    </tr>\n",
              "    <tr>\n",
              "      <th>3</th>\n",
              "      <td>\" knock off \" is exactly that : a cheap knock ...</td>\n",
              "      <td>neg</td>\n",
              "      <td>neg</td>\n",
              "    </tr>\n",
              "    <tr>\n",
              "      <th>4</th>\n",
              "      <td>brian depalma needs a hit * really * badly . s...</td>\n",
              "      <td>pos</td>\n",
              "      <td>pos</td>\n",
              "    </tr>\n",
              "    <tr>\n",
              "      <th>...</th>\n",
              "      <td>...</td>\n",
              "      <td>...</td>\n",
              "      <td>...</td>\n",
              "    </tr>\n",
              "    <tr>\n",
              "      <th>195</th>\n",
              "      <td>i won \u0012 t even pretend that i have seen the ot...</td>\n",
              "      <td>pos</td>\n",
              "      <td>neg</td>\n",
              "    </tr>\n",
              "    <tr>\n",
              "      <th>196</th>\n",
              "      <td>the cartoon is way better . that ' s the botto...</td>\n",
              "      <td>neg</td>\n",
              "      <td>neg</td>\n",
              "    </tr>\n",
              "    <tr>\n",
              "      <th>197</th>\n",
              "      <td>dr . alan grant ( sam neill , \" jurassic park ...</td>\n",
              "      <td>neg</td>\n",
              "      <td>neg</td>\n",
              "    </tr>\n",
              "    <tr>\n",
              "      <th>198</th>\n",
              "      <td>of course i knew this going in . why is it tha...</td>\n",
              "      <td>neg</td>\n",
              "      <td>neg</td>\n",
              "    </tr>\n",
              "    <tr>\n",
              "      <th>199</th>\n",
              "      <td>rated : r for strong language , sexual dialogu...</td>\n",
              "      <td>pos</td>\n",
              "      <td>pos</td>\n",
              "    </tr>\n",
              "  </tbody>\n",
              "</table>\n",
              "<p>200 rows × 3 columns</p>\n",
              "</div>"
            ],
            "text/plain": [
              "                                                 input prediction truth\n",
              "0    robert redford ' s a river runs through it is ...        pos   pos\n",
              "1    if the 70 ' s nostalgia didn ' t make you feel...        neg   neg\n",
              "2    you think that these people only exist in the ...        neg   neg\n",
              "3    \" knock off \" is exactly that : a cheap knock ...        neg   neg\n",
              "4    brian depalma needs a hit * really * badly . s...        pos   pos\n",
              "..                                                 ...        ...   ...\n",
              "195  i won \u0012 t even pretend that i have seen the ot...        pos   neg\n",
              "196  the cartoon is way better . that ' s the botto...        neg   neg\n",
              "197  dr . alan grant ( sam neill , \" jurassic park ...        neg   neg\n",
              "198  of course i knew this going in . why is it tha...        neg   neg\n",
              "199  rated : r for strong language , sexual dialogu...        pos   pos\n",
              "\n",
              "[200 rows x 3 columns]"
            ]
          },
          "metadata": {
            "tags": []
          },
          "execution_count": 39
        }
      ]
    },
    {
      "cell_type": "code",
      "metadata": {
        "id": "anoPusQCVz5z",
        "colab": {
          "base_uri": "https://localhost:8080/"
        },
        "outputId": "8782b3b6-93d3-475e-f621-10b49c799c4c"
      },
      "source": [
        "print(classification_report(new_y, new_predictions_regularized))"
      ],
      "execution_count": 40,
      "outputs": [
        {
          "output_type": "stream",
          "text": [
            "              precision    recall  f1-score   support\n",
            "\n",
            "           0       0.83      0.80      0.82       111\n",
            "           1       0.76      0.80      0.78        89\n",
            "\n",
            "    accuracy                           0.80       200\n",
            "   macro avg       0.80      0.80      0.80       200\n",
            "weighted avg       0.80      0.80      0.80       200\n",
            "\n"
          ],
          "name": "stdout"
        }
      ]
    },
    {
      "cell_type": "markdown",
      "metadata": {
        "id": "rA4gUHxOVz50"
      },
      "source": [
        "## Getting insights\n",
        "\n",
        "In order to explore which features are most indicative, we need some code"
      ]
    },
    {
      "cell_type": "code",
      "metadata": {
        "id": "dwMhr1qBVz51",
        "colab": {
          "base_uri": "https://localhost:8080/",
          "height": 419
        },
        "outputId": "f12f11e1-4d76-4954-c025-eaf8d9f724f4"
      },
      "source": [
        "features = vectorizer.get_feature_names() # get the names of the features\n",
        "top_scores = selector.scores_.argsort()[-1500:] # get the indices of the selection\n",
        "best_indicator_terms = [features[i] for i in sorted(top_scores)] # sort feature names\n",
        "\n",
        "top_indicator_scores = pd.DataFrame(data={'feature': best_indicator_terms, 'coefficient': clf.coef_[0]})\n",
        "top_indicator_scores.sort_values('coefficient')"
      ],
      "execution_count": 41,
      "outputs": [
        {
          "output_type": "execute_result",
          "data": {
            "text/html": [
              "<div>\n",
              "<style scoped>\n",
              "    .dataframe tbody tr th:only-of-type {\n",
              "        vertical-align: middle;\n",
              "    }\n",
              "\n",
              "    .dataframe tbody tr th {\n",
              "        vertical-align: top;\n",
              "    }\n",
              "\n",
              "    .dataframe thead th {\n",
              "        text-align: right;\n",
              "    }\n",
              "</style>\n",
              "<table border=\"1\" class=\"dataframe\">\n",
              "  <thead>\n",
              "    <tr style=\"text-align: right;\">\n",
              "      <th></th>\n",
              "      <th>feature</th>\n",
              "      <th>coefficient</th>\n",
              "    </tr>\n",
              "  </thead>\n",
              "  <tbody>\n",
              "    <tr>\n",
              "      <th>84</th>\n",
              "      <td>bad</td>\n",
              "      <td>-12.780473</td>\n",
              "    </tr>\n",
              "    <tr>\n",
              "      <th>1449</th>\n",
              "      <td>waste</td>\n",
              "      <td>-8.680148</td>\n",
              "    </tr>\n",
              "    <tr>\n",
              "      <th>73</th>\n",
              "      <td>attempt</td>\n",
              "      <td>-8.436183</td>\n",
              "    </tr>\n",
              "    <tr>\n",
              "      <th>1307</th>\n",
              "      <td>suppose</td>\n",
              "      <td>-8.139754</td>\n",
              "    </tr>\n",
              "    <tr>\n",
              "      <th>154</th>\n",
              "      <td>boring</td>\n",
              "      <td>-7.687207</td>\n",
              "    </tr>\n",
              "    <tr>\n",
              "      <th>...</th>\n",
              "      <td>...</td>\n",
              "      <td>...</td>\n",
              "    </tr>\n",
              "    <tr>\n",
              "      <th>1004</th>\n",
              "      <td>perfectly</td>\n",
              "      <td>6.340445</td>\n",
              "    </tr>\n",
              "    <tr>\n",
              "      <th>311</th>\n",
              "      <td>definitely</td>\n",
              "      <td>6.399306</td>\n",
              "    </tr>\n",
              "    <tr>\n",
              "      <th>1005</th>\n",
              "      <td>performance</td>\n",
              "      <td>6.453414</td>\n",
              "    </tr>\n",
              "    <tr>\n",
              "      <th>579</th>\n",
              "      <td>hilarious</td>\n",
              "      <td>6.495110</td>\n",
              "    </tr>\n",
              "    <tr>\n",
              "      <th>530</th>\n",
              "      <td>great</td>\n",
              "      <td>9.701571</td>\n",
              "    </tr>\n",
              "  </tbody>\n",
              "</table>\n",
              "<p>1500 rows × 2 columns</p>\n",
              "</div>"
            ],
            "text/plain": [
              "          feature  coefficient\n",
              "84            bad   -12.780473\n",
              "1449        waste    -8.680148\n",
              "73        attempt    -8.436183\n",
              "1307      suppose    -8.139754\n",
              "154        boring    -7.687207\n",
              "...           ...          ...\n",
              "1004    perfectly     6.340445\n",
              "311    definitely     6.399306\n",
              "1005  performance     6.453414\n",
              "579     hilarious     6.495110\n",
              "530         great     9.701571\n",
              "\n",
              "[1500 rows x 2 columns]"
            ]
          },
          "metadata": {
            "tags": []
          },
          "execution_count": 41
        }
      ]
    },
    {
      "cell_type": "markdown",
      "metadata": {
        "id": "K2v3A2Uhf9Qd"
      },
      "source": [
        "# Exercise\n",
        "\n",
        "Try to test the model trained on the sentiment analysis dataset on the wine reviews."
      ]
    },
    {
      "cell_type": "code",
      "metadata": {
        "id": "iXsi_4_Uc_Sq",
        "colab": {
          "base_uri": "https://localhost:8080/",
          "height": 581
        },
        "outputId": "d46e1338-8c2b-4394-e066-2b5e2506d885"
      },
      "source": [
        "new_data = pd.read_excel('wine_reviews_small.xlsx')\n",
        "print(len(new_data))\n",
        "new_data.head()"
      ],
      "execution_count": 42,
      "outputs": [
        {
          "output_type": "stream",
          "text": [
            "20000\n"
          ],
          "name": "stdout"
        },
        {
          "output_type": "execute_result",
          "data": {
            "text/html": [
              "<div>\n",
              "<style scoped>\n",
              "    .dataframe tbody tr th:only-of-type {\n",
              "        vertical-align: middle;\n",
              "    }\n",
              "\n",
              "    .dataframe tbody tr th {\n",
              "        vertical-align: top;\n",
              "    }\n",
              "\n",
              "    .dataframe thead th {\n",
              "        text-align: right;\n",
              "    }\n",
              "</style>\n",
              "<table border=\"1\" class=\"dataframe\">\n",
              "  <thead>\n",
              "    <tr style=\"text-align: right;\">\n",
              "      <th></th>\n",
              "      <th>Unnamed: 0</th>\n",
              "      <th>Unnamed: 0.1</th>\n",
              "      <th>country</th>\n",
              "      <th>description</th>\n",
              "      <th>designation</th>\n",
              "      <th>points</th>\n",
              "      <th>price</th>\n",
              "      <th>province</th>\n",
              "      <th>region_1</th>\n",
              "      <th>region_2</th>\n",
              "      <th>variety</th>\n",
              "      <th>winery</th>\n",
              "      <th>description_cleaned</th>\n",
              "    </tr>\n",
              "  </thead>\n",
              "  <tbody>\n",
              "    <tr>\n",
              "      <th>0</th>\n",
              "      <td>0</td>\n",
              "      <td>0</td>\n",
              "      <td>US</td>\n",
              "      <td>This tremendous 100% varietal wine hails from ...</td>\n",
              "      <td>Martha's Vineyard</td>\n",
              "      <td>96</td>\n",
              "      <td>235.0</td>\n",
              "      <td>California</td>\n",
              "      <td>Napa Valley</td>\n",
              "      <td>Napa</td>\n",
              "      <td>Cabernet Sauvignon</td>\n",
              "      <td>Heitz</td>\n",
              "      <td>tremendous varietal wine hail be age year oak ...</td>\n",
              "    </tr>\n",
              "    <tr>\n",
              "      <th>1</th>\n",
              "      <td>1</td>\n",
              "      <td>1</td>\n",
              "      <td>Spain</td>\n",
              "      <td>Ripe aromas of fig, blackberry and cassis are ...</td>\n",
              "      <td>Carodorum Selección Especial Reserva</td>\n",
              "      <td>96</td>\n",
              "      <td>110.0</td>\n",
              "      <td>Northern Spain</td>\n",
              "      <td>Toro</td>\n",
              "      <td>NaN</td>\n",
              "      <td>Tinta de Toro</td>\n",
              "      <td>Bodega Carmen Rodríguez</td>\n",
              "      <td>ripe aroma fig blackberry cassis be soften swe...</td>\n",
              "    </tr>\n",
              "    <tr>\n",
              "      <th>2</th>\n",
              "      <td>2</td>\n",
              "      <td>2</td>\n",
              "      <td>US</td>\n",
              "      <td>Mac Watson honors the memory of a wine once ma...</td>\n",
              "      <td>Special Selected Late Harvest</td>\n",
              "      <td>96</td>\n",
              "      <td>90.0</td>\n",
              "      <td>California</td>\n",
              "      <td>Knights Valley</td>\n",
              "      <td>Sonoma</td>\n",
              "      <td>Sauvignon Blanc</td>\n",
              "      <td>Macauley</td>\n",
              "      <td>honor memory wine once make his mother tremend...</td>\n",
              "    </tr>\n",
              "    <tr>\n",
              "      <th>3</th>\n",
              "      <td>3</td>\n",
              "      <td>3</td>\n",
              "      <td>US</td>\n",
              "      <td>This spent 20 months in 30% new French oak, an...</td>\n",
              "      <td>Reserve</td>\n",
              "      <td>96</td>\n",
              "      <td>65.0</td>\n",
              "      <td>Oregon</td>\n",
              "      <td>Willamette Valley</td>\n",
              "      <td>Willamette Valley</td>\n",
              "      <td>Pinot Noir</td>\n",
              "      <td>Ponzi</td>\n",
              "      <td>spend month new french oak incorporate fruit v...</td>\n",
              "    </tr>\n",
              "    <tr>\n",
              "      <th>4</th>\n",
              "      <td>4</td>\n",
              "      <td>4</td>\n",
              "      <td>France</td>\n",
              "      <td>This is the top wine from La Bégude, named aft...</td>\n",
              "      <td>La Brûlade</td>\n",
              "      <td>95</td>\n",
              "      <td>66.0</td>\n",
              "      <td>Provence</td>\n",
              "      <td>Bandol</td>\n",
              "      <td>NaN</td>\n",
              "      <td>Provence red blend</td>\n",
              "      <td>Domaine de la Bégude</td>\n",
              "      <td>be top wine name high point vineyard foot have...</td>\n",
              "    </tr>\n",
              "  </tbody>\n",
              "</table>\n",
              "</div>"
            ],
            "text/plain": [
              "   Unnamed: 0  ...                                description_cleaned\n",
              "0           0  ...  tremendous varietal wine hail be age year oak ...\n",
              "1           1  ...  ripe aroma fig blackberry cassis be soften swe...\n",
              "2           2  ...  honor memory wine once make his mother tremend...\n",
              "3           3  ...  spend month new french oak incorporate fruit v...\n",
              "4           4  ...  be top wine name high point vineyard foot have...\n",
              "\n",
              "[5 rows x 13 columns]"
            ]
          },
          "metadata": {
            "tags": []
          },
          "execution_count": 42
        }
      ]
    },
    {
      "cell_type": "code",
      "metadata": {
        "colab": {
          "base_uri": "https://localhost:8080/"
        },
        "id": "jz8zdAo9Njc6",
        "outputId": "242ad3b7-e10f-49b8-b372-223fd0c77a08"
      },
      "source": [
        "new_data['clean_description'] = new_data.description.apply(clean_text)\n",
        "#print(new_data.head(5))\n",
        "new_X = vectorizer.transform(new_data['clean_description'])\n",
        "\n",
        "new_predictions = classifier.predict(new_X)\n",
        "print(new_predictions)"
      ],
      "execution_count": 43,
      "outputs": [
        {
          "output_type": "stream",
          "text": [
            "[1 1 1 ... 1 1 0]\n"
          ],
          "name": "stdout"
        }
      ]
    },
    {
      "cell_type": "markdown",
      "metadata": {
        "id": "BwG3sAcI5kV3"
      },
      "source": [
        "Don't forget to clean it!"
      ]
    },
    {
      "cell_type": "markdown",
      "metadata": {
        "id": "gPeg8-ac0A0d"
      },
      "source": [
        "# Italian classifier\n",
        "\n",
        "In our lab, we developed a Italian emotion and sentiment classifier available at https://github.com/MilaNLProc/feel-it"
      ]
    },
    {
      "cell_type": "code",
      "metadata": {
        "id": "2hyLrnCM0EDt",
        "colab": {
          "base_uri": "https://localhost:8080/"
        },
        "outputId": "10cbd2de-f524-4397-eecf-c579eb025872"
      },
      "source": [
        "! pip install -U feel-it"
      ],
      "execution_count": 44,
      "outputs": [
        {
          "output_type": "stream",
          "text": [
            "Collecting feel-it\n",
            "  Downloading https://files.pythonhosted.org/packages/a0/12/88b3941faf5124899f1c139a3d83210c76b4db802b144451062d0a0aac5c/feel_it-1.0.3-py2.py3-none-any.whl\n",
            "Collecting transformers==4.3.3\n",
            "\u001b[?25l  Downloading https://files.pythonhosted.org/packages/f9/54/5ca07ec9569d2f232f3166de5457b63943882f7950ddfcc887732fc7fb23/transformers-4.3.3-py3-none-any.whl (1.9MB)\n",
            "\u001b[K     |████████████████████████████████| 1.9MB 5.4MB/s \n",
            "\u001b[?25hRequirement already satisfied, skipping upgrade: numpy in /usr/local/lib/python3.7/dist-packages (from feel-it) (1.19.5)\n",
            "Requirement already satisfied, skipping upgrade: torch>=1.6.0 in /usr/local/lib/python3.7/dist-packages (from feel-it) (1.8.1+cu101)\n",
            "Requirement already satisfied, skipping upgrade: packaging in /usr/local/lib/python3.7/dist-packages (from transformers==4.3.3->feel-it) (20.9)\n",
            "Requirement already satisfied, skipping upgrade: filelock in /usr/local/lib/python3.7/dist-packages (from transformers==4.3.3->feel-it) (3.0.12)\n",
            "Collecting tokenizers<0.11,>=0.10.1\n",
            "\u001b[?25l  Downloading https://files.pythonhosted.org/packages/ae/04/5b870f26a858552025a62f1649c20d29d2672c02ff3c3fb4c688ca46467a/tokenizers-0.10.2-cp37-cp37m-manylinux2010_x86_64.whl (3.3MB)\n",
            "\u001b[K     |████████████████████████████████| 3.3MB 18.1MB/s \n",
            "\u001b[?25hRequirement already satisfied, skipping upgrade: importlib-metadata; python_version < \"3.8\" in /usr/local/lib/python3.7/dist-packages (from transformers==4.3.3->feel-it) (3.10.1)\n",
            "Requirement already satisfied, skipping upgrade: requests in /usr/local/lib/python3.7/dist-packages (from transformers==4.3.3->feel-it) (2.23.0)\n",
            "Requirement already satisfied, skipping upgrade: regex!=2019.12.17 in /usr/local/lib/python3.7/dist-packages (from transformers==4.3.3->feel-it) (2019.12.20)\n",
            "Collecting sacremoses\n",
            "\u001b[?25l  Downloading https://files.pythonhosted.org/packages/08/cd/342e584ee544d044fb573ae697404ce22ede086c9e87ce5960772084cad0/sacremoses-0.0.44.tar.gz (862kB)\n",
            "\u001b[K     |████████████████████████████████| 870kB 47.5MB/s \n",
            "\u001b[?25hRequirement already satisfied, skipping upgrade: tqdm>=4.27 in /usr/local/lib/python3.7/dist-packages (from transformers==4.3.3->feel-it) (4.41.1)\n",
            "Requirement already satisfied, skipping upgrade: typing-extensions in /usr/local/lib/python3.7/dist-packages (from torch>=1.6.0->feel-it) (3.7.4.3)\n",
            "Requirement already satisfied, skipping upgrade: pyparsing>=2.0.2 in /usr/local/lib/python3.7/dist-packages (from packaging->transformers==4.3.3->feel-it) (2.4.7)\n",
            "Requirement already satisfied, skipping upgrade: zipp>=0.5 in /usr/local/lib/python3.7/dist-packages (from importlib-metadata; python_version < \"3.8\"->transformers==4.3.3->feel-it) (3.4.1)\n",
            "Requirement already satisfied, skipping upgrade: certifi>=2017.4.17 in /usr/local/lib/python3.7/dist-packages (from requests->transformers==4.3.3->feel-it) (2020.12.5)\n",
            "Requirement already satisfied, skipping upgrade: idna<3,>=2.5 in /usr/local/lib/python3.7/dist-packages (from requests->transformers==4.3.3->feel-it) (2.10)\n",
            "Requirement already satisfied, skipping upgrade: urllib3!=1.25.0,!=1.25.1,<1.26,>=1.21.1 in /usr/local/lib/python3.7/dist-packages (from requests->transformers==4.3.3->feel-it) (1.24.3)\n",
            "Requirement already satisfied, skipping upgrade: chardet<4,>=3.0.2 in /usr/local/lib/python3.7/dist-packages (from requests->transformers==4.3.3->feel-it) (3.0.4)\n",
            "Requirement already satisfied, skipping upgrade: six in /usr/local/lib/python3.7/dist-packages (from sacremoses->transformers==4.3.3->feel-it) (1.15.0)\n",
            "Requirement already satisfied, skipping upgrade: click in /usr/local/lib/python3.7/dist-packages (from sacremoses->transformers==4.3.3->feel-it) (7.1.2)\n",
            "Requirement already satisfied, skipping upgrade: joblib in /usr/local/lib/python3.7/dist-packages (from sacremoses->transformers==4.3.3->feel-it) (1.0.1)\n",
            "Building wheels for collected packages: sacremoses\n",
            "  Building wheel for sacremoses (setup.py) ... \u001b[?25l\u001b[?25hdone\n",
            "  Created wheel for sacremoses: filename=sacremoses-0.0.44-cp37-none-any.whl size=886084 sha256=0ce86fb5032e5de9d1d6c40a3d4e34f13d60ecef9965bcea8b1ddf29f24fe649\n",
            "  Stored in directory: /root/.cache/pip/wheels/3e/fb/c0/13ab4d63d537658f448366744654323077c4d90069b6512f3c\n",
            "Successfully built sacremoses\n",
            "Installing collected packages: tokenizers, sacremoses, transformers, feel-it\n",
            "Successfully installed feel-it-1.0.3 sacremoses-0.0.44 tokenizers-0.10.2 transformers-4.3.3\n"
          ],
          "name": "stdout"
        }
      ]
    },
    {
      "cell_type": "code",
      "metadata": {
        "id": "aj8KXUhJ0AYR",
        "colab": {
          "base_uri": "https://localhost:8080/",
          "height": 328,
          "referenced_widgets": [
            "071ea3dae16f43dcb397e3fee85cfbe6",
            "6f9eda149afa4215927de0f7407ee60d",
            "13841c7e72184b6ca27676f47dbce535",
            "36b1eab6bc7e43ef82893f95e85696cc",
            "77f031278f064122a8c77b90d6de2ae5",
            "a405d58e5e34474ebf86a164b6546368",
            "f199a8607eb14b90aba62f631cc7fe64",
            "6d6c509cd8b04d77ad6d2bf29cb18e4f",
            "f2834d5e6c2c405d8bc57b6ed61bef10",
            "e8a843a94c994e56a615f681e56610d3",
            "568a2689d54f4c0686502f6f7a0cf40f",
            "710c20d8b4a647a2a8b9e89416235cfe",
            "7b49cadf599f4fd397d71f60ae540f51",
            "30895b59d1794c9f90e73e6405c4754a",
            "2b0efa97e62d487e8bdf4f5e6d4042cc",
            "a7b7a6941b0043d5bc13b95b3fe12fbd",
            "f84d84816d1c461c8ca6f122b8b38800",
            "f0afa6e28c4d4e49b42184d3ecee877f",
            "1686161511a14868a9bf31a36d5cbb92",
            "07b662f5401a40f0a3cd3124d9764557",
            "7bf705120e96412cb2caf3cc0fff2025",
            "98f882ac265a4c54912de495a69c0ab6",
            "636b8fa2c4fe4af4a24bee3a6e9032b4",
            "a059da92bad949748da96f420a7dc736",
            "935914645e114bf19513b82cb37b958a",
            "4b42549a456e43dabbcc9c2bd8734fbb",
            "7e1c99f218c84085a61488b0bd1b7029",
            "9d3663f2620a4729a7d991d5ff76c985",
            "1925badd460b4f7dbf5504fbfe5ed9b3",
            "a06762d549b2434da2cf1d9ff298ede6",
            "69fefee3142b4d2f96638a92c6fb8143",
            "82b25ef33e29450f95ceae40f09dce3b",
            "338987f117e145a795a82312705549ce",
            "14b34d4826c24de29df92a8cf7068415",
            "e206a5602cfe4fc8894a84d706afe32d",
            "d24fbf2fb0e948ae8d5f76c7e16cd3a9",
            "f8e77ca4a217470a8b0bd445cd3b47f1",
            "a1156069186c4180aea71dceaf7c40fb",
            "e47c4c57e0b34ec8a70a8d769be94ffe",
            "424d9c344ca14132bfafe03552e141de",
            "e0e407512d7e43349771b5bc3a92b828",
            "c63f446e59fe4eddb16f8a024e69053b",
            "1d1060ecf06d4b0c8a5bc5f913da2684",
            "099406c06cd54a12b715b8559cb95e75",
            "0c52d5096a6a47a882a3fd4095ae31e2",
            "125777346c37485e8a7f6e3c8f90859f",
            "c2a2d83e0d474eaa82dcecf9bba33ca0",
            "9d96da5c12534b5c86e02fcfb709e8ec"
          ]
        },
        "outputId": "104efc7d-8dd4-4a7a-f244-cdd5f344d616"
      },
      "source": [
        "from feel_it import EmotionClassifier, SentimentClassifier\n",
        "\n",
        "emotion_classifier = EmotionClassifier()\n",
        "\n",
        "emotion_classifier.predict([\"sono molto felice\", \"ma che cazzo vuoi\", \"sono molto triste\"])\n",
        "\n"
      ],
      "execution_count": 45,
      "outputs": [
        {
          "output_type": "display_data",
          "data": {
            "application/vnd.jupyter.widget-view+json": {
              "model_id": "071ea3dae16f43dcb397e3fee85cfbe6",
              "version_minor": 0,
              "version_major": 2
            },
            "text/plain": [
              "HBox(children=(FloatProgress(value=0.0, description='Downloading', max=899.0, style=ProgressStyle(description_…"
            ]
          },
          "metadata": {
            "tags": []
          }
        },
        {
          "output_type": "stream",
          "text": [
            "\n"
          ],
          "name": "stdout"
        },
        {
          "output_type": "display_data",
          "data": {
            "application/vnd.jupyter.widget-view+json": {
              "model_id": "f2834d5e6c2c405d8bc57b6ed61bef10",
              "version_minor": 0,
              "version_major": 2
            },
            "text/plain": [
              "HBox(children=(FloatProgress(value=0.0, description='Downloading', max=793981.0, style=ProgressStyle(descripti…"
            ]
          },
          "metadata": {
            "tags": []
          }
        },
        {
          "output_type": "stream",
          "text": [
            "\n"
          ],
          "name": "stdout"
        },
        {
          "output_type": "display_data",
          "data": {
            "application/vnd.jupyter.widget-view+json": {
              "model_id": "f84d84816d1c461c8ca6f122b8b38800",
              "version_minor": 0,
              "version_major": 2
            },
            "text/plain": [
              "HBox(children=(FloatProgress(value=0.0, description='Downloading', max=1682192.0, style=ProgressStyle(descript…"
            ]
          },
          "metadata": {
            "tags": []
          }
        },
        {
          "output_type": "stream",
          "text": [
            "\n"
          ],
          "name": "stdout"
        },
        {
          "output_type": "display_data",
          "data": {
            "application/vnd.jupyter.widget-view+json": {
              "model_id": "935914645e114bf19513b82cb37b958a",
              "version_minor": 0,
              "version_major": 2
            },
            "text/plain": [
              "HBox(children=(FloatProgress(value=0.0, description='Downloading', max=299.0, style=ProgressStyle(description_…"
            ]
          },
          "metadata": {
            "tags": []
          }
        },
        {
          "output_type": "stream",
          "text": [
            "\n"
          ],
          "name": "stdout"
        },
        {
          "output_type": "display_data",
          "data": {
            "application/vnd.jupyter.widget-view+json": {
              "model_id": "338987f117e145a795a82312705549ce",
              "version_minor": 0,
              "version_major": 2
            },
            "text/plain": [
              "HBox(children=(FloatProgress(value=0.0, description='Downloading', max=414.0, style=ProgressStyle(description_…"
            ]
          },
          "metadata": {
            "tags": []
          }
        },
        {
          "output_type": "stream",
          "text": [
            "\n"
          ],
          "name": "stdout"
        },
        {
          "output_type": "display_data",
          "data": {
            "application/vnd.jupyter.widget-view+json": {
              "model_id": "e0e407512d7e43349771b5bc3a92b828",
              "version_minor": 0,
              "version_major": 2
            },
            "text/plain": [
              "HBox(children=(FloatProgress(value=0.0, description='Downloading', max=442587849.0, style=ProgressStyle(descri…"
            ]
          },
          "metadata": {
            "tags": []
          }
        },
        {
          "output_type": "stream",
          "text": [
            "\n"
          ],
          "name": "stdout"
        },
        {
          "output_type": "execute_result",
          "data": {
            "text/plain": [
              "['joy', 'anger', 'sadness']"
            ]
          },
          "metadata": {
            "tags": []
          },
          "execution_count": 45
        }
      ]
    },
    {
      "cell_type": "code",
      "metadata": {
        "id": "E4IuNfSJ0K4m",
        "colab": {
          "base_uri": "https://localhost:8080/",
          "height": 328,
          "referenced_widgets": [
            "a0b79b784dc74ccaa2c25b47b54ef383",
            "d0901f90608d48f79784cab3bc25e3fa",
            "90ec5fd34ed54526a315fa9e1f918949",
            "5898139d176b40cc8c7969a7391425fe",
            "673ce0a5de6840f2ad3f35b8976fede8",
            "50f8a5add6ad4701b898764af0218127",
            "c1f97e3e27294d6f823e22da8bf3dbe0",
            "ace51340553342369bc14587d03f5b4b",
            "868223eabae4407993a0409cfae3353f",
            "fd49cd5e07424737b8f8124f7431604b",
            "d06d62f99c4c405fa07b61c296363a9e",
            "4a946b3e08224f9cb1d6b3fe431920d4",
            "6475c4a0c5764087b21b36e07033400b",
            "42179c65f44f431c98cdbc768feb454f",
            "f4ba93e03edf42aa97414794c7d3089f",
            "00e98ab52973477480b0aa2bde1bdb00",
            "db2881aded1e4e0bb0e506c924ddc096",
            "9b203c51ec9d4ff08a0bca198ce6350d",
            "1d1ee26d513349e7a87e655c8e0e71d4",
            "608dc5c2fe86423cb21a479a7aa33769",
            "2ffea8070ba04076adc908542d2b962a",
            "5c309ffb369d43dc887951caae9c383e",
            "7005390c01884e95bd94ece54dabd4f2",
            "12ab3158f51a43f39aebfb66bbca832d",
            "5dd3e531595d40aaa2f5de4502455141",
            "52aed65623244ee19622b3d63089ff74",
            "772e546666f54d27923917fbc1c95de9",
            "5f8474f9dbf94f048e85e43bf7a71ae3",
            "382ac920034f4333921a1ac6301374ee",
            "3214b01b34ff4e629e433395d287c6ae",
            "0123c94097e046ef841cea69c6d19831",
            "cc0009ed5a5f491ea904afc040271279",
            "c59518ede15f49718726b453acc279eb",
            "18b23f0bd75b4c8bbeeef24fbefaa868",
            "4adba7ed0d9143138302441d8bb4e3b3",
            "63c1ebb2d5834e46a41889b201a9bfa5",
            "a8c0712fef9c4a6b924a4ff27617b79d",
            "22a06a95cb144e9cb2b23680c284f7ac",
            "125cf772e6fa4e8fae94a8f95f386b5f",
            "53f96cbac356416f936184aadbe7ae03",
            "1ef35d299f8a473b99a44d3cd28a5214",
            "574bc02fe5fd4ba986d77639ad56c905",
            "d1d1cfadcab848ea98632a81710578e6",
            "115c954a06f44022bd7d12b87b938e07",
            "9d3febb7373e488d9b9069017f0a4fdc",
            "6264a5a8f46a45679ee4ff9cdd83c2a8",
            "5ac0297ee82f4a5f8111c21532046b03",
            "a219efba35a044e883f38f67a33955cd"
          ]
        },
        "outputId": "2b10c23c-5f6a-4d6c-94f6-2319498db7ac"
      },
      "source": [
        "sentiment_classifier = SentimentClassifier()\n",
        "\n",
        "sentiment_classifier.predict([\"sono molto felice\", \"ma che cazzo vuoi\", \"sono molto triste\"])"
      ],
      "execution_count": 46,
      "outputs": [
        {
          "output_type": "display_data",
          "data": {
            "application/vnd.jupyter.widget-view+json": {
              "model_id": "a0b79b784dc74ccaa2c25b47b54ef383",
              "version_minor": 0,
              "version_major": 2
            },
            "text/plain": [
              "HBox(children=(FloatProgress(value=0.0, description='Downloading', max=847.0, style=ProgressStyle(description_…"
            ]
          },
          "metadata": {
            "tags": []
          }
        },
        {
          "output_type": "stream",
          "text": [
            "\n"
          ],
          "name": "stdout"
        },
        {
          "output_type": "display_data",
          "data": {
            "application/vnd.jupyter.widget-view+json": {
              "model_id": "868223eabae4407993a0409cfae3353f",
              "version_minor": 0,
              "version_major": 2
            },
            "text/plain": [
              "HBox(children=(FloatProgress(value=0.0, description='Downloading', max=793981.0, style=ProgressStyle(descripti…"
            ]
          },
          "metadata": {
            "tags": []
          }
        },
        {
          "output_type": "stream",
          "text": [
            "\n"
          ],
          "name": "stdout"
        },
        {
          "output_type": "display_data",
          "data": {
            "application/vnd.jupyter.widget-view+json": {
              "model_id": "db2881aded1e4e0bb0e506c924ddc096",
              "version_minor": 0,
              "version_major": 2
            },
            "text/plain": [
              "HBox(children=(FloatProgress(value=0.0, description='Downloading', max=1682192.0, style=ProgressStyle(descript…"
            ]
          },
          "metadata": {
            "tags": []
          }
        },
        {
          "output_type": "stream",
          "text": [
            "\n"
          ],
          "name": "stdout"
        },
        {
          "output_type": "display_data",
          "data": {
            "application/vnd.jupyter.widget-view+json": {
              "model_id": "5dd3e531595d40aaa2f5de4502455141",
              "version_minor": 0,
              "version_major": 2
            },
            "text/plain": [
              "HBox(children=(FloatProgress(value=0.0, description='Downloading', max=299.0, style=ProgressStyle(description_…"
            ]
          },
          "metadata": {
            "tags": []
          }
        },
        {
          "output_type": "stream",
          "text": [
            "\n"
          ],
          "name": "stdout"
        },
        {
          "output_type": "display_data",
          "data": {
            "application/vnd.jupyter.widget-view+json": {
              "model_id": "c59518ede15f49718726b453acc279eb",
              "version_minor": 0,
              "version_major": 2
            },
            "text/plain": [
              "HBox(children=(FloatProgress(value=0.0, description='Downloading', max=414.0, style=ProgressStyle(description_…"
            ]
          },
          "metadata": {
            "tags": []
          }
        },
        {
          "output_type": "stream",
          "text": [
            "\n"
          ],
          "name": "stdout"
        },
        {
          "output_type": "display_data",
          "data": {
            "application/vnd.jupyter.widget-view+json": {
              "model_id": "1ef35d299f8a473b99a44d3cd28a5214",
              "version_minor": 0,
              "version_major": 2
            },
            "text/plain": [
              "HBox(children=(FloatProgress(value=0.0, description='Downloading', max=442581705.0, style=ProgressStyle(descri…"
            ]
          },
          "metadata": {
            "tags": []
          }
        },
        {
          "output_type": "stream",
          "text": [
            "\n"
          ],
          "name": "stdout"
        },
        {
          "output_type": "execute_result",
          "data": {
            "text/plain": [
              "['positive', 'negative', 'negative']"
            ]
          },
          "metadata": {
            "tags": []
          },
          "execution_count": 46
        }
      ]
    },
    {
      "cell_type": "markdown",
      "metadata": {
        "id": "o7WMd3Q00zpc"
      },
      "source": [
        "# Exercise\n",
        "\n",
        "Download a set of tweets with a specific hashtag in Italian and try to run the Emotion and Sentiment Classifier."
      ]
    },
    {
      "cell_type": "code",
      "metadata": {
        "colab": {
          "base_uri": "https://localhost:8080/",
          "height": 479
        },
        "id": "m6e3uSw56B0S",
        "outputId": "7fcfe0ab-a708-40af-bc9d-ae198706af66"
      },
      "source": [
        "tweets = pd.read_csv('betsentiment-IT-tweets-sentiment-players.csv', encoding='cp1252')\n",
        "print(len(tweets))\n",
        "tweets = tweets[:2000]\n",
        "tweets.head()"
      ],
      "execution_count": 47,
      "outputs": [
        {
          "output_type": "stream",
          "text": [
            "165815\n"
          ],
          "name": "stdout"
        },
        {
          "output_type": "execute_result",
          "data": {
            "text/html": [
              "<div>\n",
              "<style scoped>\n",
              "    .dataframe tbody tr th:only-of-type {\n",
              "        vertical-align: middle;\n",
              "    }\n",
              "\n",
              "    .dataframe tbody tr th {\n",
              "        vertical-align: top;\n",
              "    }\n",
              "\n",
              "    .dataframe thead th {\n",
              "        text-align: right;\n",
              "    }\n",
              "</style>\n",
              "<table border=\"1\" class=\"dataframe\">\n",
              "  <thead>\n",
              "    <tr style=\"text-align: right;\">\n",
              "      <th></th>\n",
              "      <th>tweet_date_created</th>\n",
              "      <th>tweet_id</th>\n",
              "      <th>tweet_text</th>\n",
              "      <th>language</th>\n",
              "      <th>sentiment</th>\n",
              "      <th>sentiment_score</th>\n",
              "    </tr>\n",
              "  </thead>\n",
              "  <tbody>\n",
              "    <tr>\n",
              "      <th>0</th>\n",
              "      <td>2018-12-10T10:45:40.865000</td>\n",
              "      <td>1072079899224100865</td>\n",
              "      <td>@juventusfc @G_Higuain Auguri pipita,sempre co...</td>\n",
              "      <td>it</td>\n",
              "      <td>NEUTRAL</td>\n",
              "      <td>{\"Neutral\":0.858726024627685546875,\"Negative\":...</td>\n",
              "    </tr>\n",
              "    <tr>\n",
              "      <th>1</th>\n",
              "      <td>2018-06-30T18:41:02.817000</td>\n",
              "      <td>1013130303454498817</td>\n",
              "      <td>@realvarriale @massimozampini @KMbappe @G_Higu...</td>\n",
              "      <td>it</td>\n",
              "      <td>NEUTRAL</td>\n",
              "      <td>{\"Neutral\":0.973993778228759765625,\"Negative\":...</td>\n",
              "    </tr>\n",
              "    <tr>\n",
              "      <th>2</th>\n",
              "      <td>2018-12-26T19:40:44.308000</td>\n",
              "      <td>1078012758069858308</td>\n",
              "      <td>@OfficialASRoma @D_10Perotti @Hyundai_Italia S...</td>\n",
              "      <td>it</td>\n",
              "      <td>NEUTRAL</td>\n",
              "      <td>{\"Neutral\":0.9844334125518798828125,\"Negative\"...</td>\n",
              "    </tr>\n",
              "    <tr>\n",
              "      <th>3</th>\n",
              "      <td>2018-07-12T11:26:37.766000</td>\n",
              "      <td>1017369635816181766</td>\n",
              "      <td>@CarloRienzi @Cristiano @juventusfc Populismo ...</td>\n",
              "      <td>it</td>\n",
              "      <td>NEUTRAL</td>\n",
              "      <td>{\"Neutral\":0.993849217891693115234375,\"Negativ...</td>\n",
              "    </tr>\n",
              "    <tr>\n",
              "      <th>4</th>\n",
              "      <td>2018-06-12T19:20:36</td>\n",
              "      <td>1006617282779451392</td>\n",
              "      <td>@OfficialASRoma @OfficialRadja @leonsfdo non c...</td>\n",
              "      <td>it</td>\n",
              "      <td>NEUTRAL</td>\n",
              "      <td>{\"Neutral\":0.87245881557464599609375,\"Negative...</td>\n",
              "    </tr>\n",
              "  </tbody>\n",
              "</table>\n",
              "</div>"
            ],
            "text/plain": [
              "           tweet_date_created  ...                                    sentiment_score\n",
              "0  2018-12-10T10:45:40.865000  ...  {\"Neutral\":0.858726024627685546875,\"Negative\":...\n",
              "1  2018-06-30T18:41:02.817000  ...  {\"Neutral\":0.973993778228759765625,\"Negative\":...\n",
              "2  2018-12-26T19:40:44.308000  ...  {\"Neutral\":0.9844334125518798828125,\"Negative\"...\n",
              "3  2018-07-12T11:26:37.766000  ...  {\"Neutral\":0.993849217891693115234375,\"Negativ...\n",
              "4         2018-06-12T19:20:36  ...  {\"Neutral\":0.87245881557464599609375,\"Negative...\n",
              "\n",
              "[5 rows x 6 columns]"
            ]
          },
          "metadata": {
            "tags": []
          },
          "execution_count": 47
        }
      ]
    },
    {
      "cell_type": "code",
      "metadata": {
        "colab": {
          "base_uri": "https://localhost:8080/",
          "height": 513
        },
        "id": "YwKTcDJn_uND",
        "outputId": "557c706c-5310-4541-c9d8-32b14ae87b59"
      },
      "source": [
        "import nltk\n",
        "nltk.download('stopwords')\n",
        "import re\n",
        "from nltk.corpus import stopwords\n",
        "stopwords_ = set(stopwords.words('english'))\n",
        "def preprocessing(tweet):\n",
        "  tweet = ' '.join([w.lower() for w in tweet.split() if w not in stopwords_])\n",
        "  #remove stopwords, remove links, remove emojis , remove mentions, remove hashtags , remove numbers\n",
        "  url_pattern = re.compile('https?://[A-Za-z0-9\\.-_]*/[A-Za-z0-9\\.-_]*') \n",
        "  tweet = re.sub(url_pattern, '', tweet)\n",
        "  user_names_pattern = re.compile('@[A-Za-z0-9\\.-_]+')\n",
        "  tweet = re.sub(user_names_pattern, '', tweet)\n",
        "  hashtag_pattern = re.compile('#[\\w]*')\n",
        "  tweet = re.sub(hashtag_pattern, '', tweet)\n",
        "  emojis_pattern = re.compile(pattern = \"[\"\n",
        "          u\"\\U0001F600-\\U0001F64F\"  # emoticons\n",
        "          u\"\\U0001F300-\\U0001F5FF\"  # symbols & pictographs\n",
        "          u\"\\U0001F680-\\U0001F6FF\"  # transport & map symbols\n",
        "          u\"\\U0001F1E0-\\U0001F1FF\"  # flags (iOS)\n",
        "          u\"\\u2600-\\u26FF\\u2700-\\u27BF\"\n",
        "                            \"]+\", flags = re.UNICODE)\n",
        "  tweet = re.sub(emojis_pattern, '', tweet)\n",
        "\n",
        "  numbers_patterns = re.compile('[0-9]+[\\w]*')\n",
        "  tweet = re.sub(numbers_patterns, '', tweet)\n",
        "\n",
        "  punctiation_pattern = re.compile('[!-_@#$%^&*()?<>;\\.,:\"]')\n",
        "  tweet = re.sub(punctiation_pattern, '', tweet) \n",
        "\n",
        "  return tweet\n",
        "\n",
        "tweets['cleaned_tweets'] = tweets.tweet_text.apply(preprocessing)\n",
        "tweets.head(5)"
      ],
      "execution_count": 48,
      "outputs": [
        {
          "output_type": "stream",
          "text": [
            "[nltk_data] Downloading package stopwords to /root/nltk_data...\n",
            "[nltk_data]   Unzipping corpora/stopwords.zip.\n"
          ],
          "name": "stdout"
        },
        {
          "output_type": "execute_result",
          "data": {
            "text/html": [
              "<div>\n",
              "<style scoped>\n",
              "    .dataframe tbody tr th:only-of-type {\n",
              "        vertical-align: middle;\n",
              "    }\n",
              "\n",
              "    .dataframe tbody tr th {\n",
              "        vertical-align: top;\n",
              "    }\n",
              "\n",
              "    .dataframe thead th {\n",
              "        text-align: right;\n",
              "    }\n",
              "</style>\n",
              "<table border=\"1\" class=\"dataframe\">\n",
              "  <thead>\n",
              "    <tr style=\"text-align: right;\">\n",
              "      <th></th>\n",
              "      <th>tweet_date_created</th>\n",
              "      <th>tweet_id</th>\n",
              "      <th>tweet_text</th>\n",
              "      <th>language</th>\n",
              "      <th>sentiment</th>\n",
              "      <th>sentiment_score</th>\n",
              "      <th>cleaned_tweets</th>\n",
              "    </tr>\n",
              "  </thead>\n",
              "  <tbody>\n",
              "    <tr>\n",
              "      <th>0</th>\n",
              "      <td>2018-12-10T10:45:40.865000</td>\n",
              "      <td>1072079899224100865</td>\n",
              "      <td>@juventusfc @G_Higuain Auguri pipita,sempre co...</td>\n",
              "      <td>it</td>\n",
              "      <td>NEUTRAL</td>\n",
              "      <td>{\"Neutral\":0.858726024627685546875,\"Negative\":...</td>\n",
              "      <td>auguri pipitasempre con noi</td>\n",
              "    </tr>\n",
              "    <tr>\n",
              "      <th>1</th>\n",
              "      <td>2018-06-30T18:41:02.817000</td>\n",
              "      <td>1013130303454498817</td>\n",
              "      <td>@realvarriale @massimozampini @KMbappe @G_Higu...</td>\n",
              "      <td>it</td>\n",
              "      <td>NEUTRAL</td>\n",
              "      <td>{\"Neutral\":0.973993778228759765625,\"Negative\":...</td>\n",
              "      <td>nano puttano</td>\n",
              "    </tr>\n",
              "    <tr>\n",
              "      <th>2</th>\n",
              "      <td>2018-12-26T19:40:44.308000</td>\n",
              "      <td>1078012758069858308</td>\n",
              "      <td>@OfficialASRoma @D_10Perotti @Hyundai_Italia S...</td>\n",
              "      <td>it</td>\n",
              "      <td>NEUTRAL</td>\n",
              "      <td>{\"Neutral\":0.9844334125518798828125,\"Negative\"...</td>\n",
              "      <td>stasera bravissimi tutti una menzione per i...</td>\n",
              "    </tr>\n",
              "    <tr>\n",
              "      <th>3</th>\n",
              "      <td>2018-07-12T11:26:37.766000</td>\n",
              "      <td>1017369635816181766</td>\n",
              "      <td>@CarloRienzi @Cristiano @juventusfc Populismo ...</td>\n",
              "      <td>it</td>\n",
              "      <td>NEUTRAL</td>\n",
              "      <td>{\"Neutral\":0.993849217891693115234375,\"Negativ...</td>\n",
              "      <td>populismo di basso spessore</td>\n",
              "    </tr>\n",
              "    <tr>\n",
              "      <th>4</th>\n",
              "      <td>2018-06-12T19:20:36</td>\n",
              "      <td>1006617282779451392</td>\n",
              "      <td>@OfficialASRoma @OfficialRadja @leonsfdo non c...</td>\n",
              "      <td>it</td>\n",
              "      <td>NEUTRAL</td>\n",
              "      <td>{\"Neutral\":0.87245881557464599609375,\"Negative...</td>\n",
              "      <td>non ce posso pensa’ non giochiamo  non facc...</td>\n",
              "    </tr>\n",
              "  </tbody>\n",
              "</table>\n",
              "</div>"
            ],
            "text/plain": [
              "           tweet_date_created  ...                                     cleaned_tweets\n",
              "0  2018-12-10T10:45:40.865000  ...                        auguri pipitasempre con noi\n",
              "1  2018-06-30T18:41:02.817000  ...                                       nano puttano\n",
              "2  2018-12-26T19:40:44.308000  ...     stasera bravissimi tutti una menzione per i...\n",
              "3  2018-07-12T11:26:37.766000  ...                        populismo di basso spessore\n",
              "4         2018-06-12T19:20:36  ...     non ce posso pensa’ non giochiamo  non facc...\n",
              "\n",
              "[5 rows x 7 columns]"
            ]
          },
          "metadata": {
            "tags": []
          },
          "execution_count": 48
        }
      ]
    },
    {
      "cell_type": "code",
      "metadata": {
        "id": "Oto93qPz_uP5"
      },
      "source": [
        "tweets[\"sentiment_classification\"] = [sentiment_classifier.predict([tweet]) for tweet in tweets.cleaned_tweets]\n",
        "tweets[\"emotion_classification\"] = [emotion_classifier.predict([tweet]) for tweet in tweets.cleaned_tweets]"
      ],
      "execution_count": 49,
      "outputs": []
    },
    {
      "cell_type": "code",
      "metadata": {
        "id": "_yA6fnO0cfKy",
        "colab": {
          "base_uri": "https://localhost:8080/",
          "height": 1000
        },
        "outputId": "3a6eca6f-20df-4180-a026-2c88153cc565"
      },
      "source": [
        "tweets.head(20)"
      ],
      "execution_count": 51,
      "outputs": [
        {
          "output_type": "execute_result",
          "data": {
            "text/html": [
              "<div>\n",
              "<style scoped>\n",
              "    .dataframe tbody tr th:only-of-type {\n",
              "        vertical-align: middle;\n",
              "    }\n",
              "\n",
              "    .dataframe tbody tr th {\n",
              "        vertical-align: top;\n",
              "    }\n",
              "\n",
              "    .dataframe thead th {\n",
              "        text-align: right;\n",
              "    }\n",
              "</style>\n",
              "<table border=\"1\" class=\"dataframe\">\n",
              "  <thead>\n",
              "    <tr style=\"text-align: right;\">\n",
              "      <th></th>\n",
              "      <th>tweet_date_created</th>\n",
              "      <th>tweet_id</th>\n",
              "      <th>tweet_text</th>\n",
              "      <th>language</th>\n",
              "      <th>sentiment</th>\n",
              "      <th>sentiment_score</th>\n",
              "      <th>cleaned_tweets</th>\n",
              "      <th>sentiment_classification</th>\n",
              "      <th>emotion_classification</th>\n",
              "    </tr>\n",
              "  </thead>\n",
              "  <tbody>\n",
              "    <tr>\n",
              "      <th>0</th>\n",
              "      <td>2018-12-10T10:45:40.865000</td>\n",
              "      <td>1072079899224100865</td>\n",
              "      <td>@juventusfc @G_Higuain Auguri pipita,sempre co...</td>\n",
              "      <td>it</td>\n",
              "      <td>NEUTRAL</td>\n",
              "      <td>{\"Neutral\":0.858726024627685546875,\"Negative\":...</td>\n",
              "      <td>auguri pipitasempre con noi</td>\n",
              "      <td>[negative]</td>\n",
              "      <td>[joy]</td>\n",
              "    </tr>\n",
              "    <tr>\n",
              "      <th>1</th>\n",
              "      <td>2018-06-30T18:41:02.817000</td>\n",
              "      <td>1013130303454498817</td>\n",
              "      <td>@realvarriale @massimozampini @KMbappe @G_Higu...</td>\n",
              "      <td>it</td>\n",
              "      <td>NEUTRAL</td>\n",
              "      <td>{\"Neutral\":0.973993778228759765625,\"Negative\":...</td>\n",
              "      <td>nano puttano</td>\n",
              "      <td>[negative]</td>\n",
              "      <td>[anger]</td>\n",
              "    </tr>\n",
              "    <tr>\n",
              "      <th>2</th>\n",
              "      <td>2018-12-26T19:40:44.308000</td>\n",
              "      <td>1078012758069858308</td>\n",
              "      <td>@OfficialASRoma @D_10Perotti @Hyundai_Italia S...</td>\n",
              "      <td>it</td>\n",
              "      <td>NEUTRAL</td>\n",
              "      <td>{\"Neutral\":0.9844334125518798828125,\"Negative\"...</td>\n",
              "      <td>stasera bravissimi tutti una menzione per i...</td>\n",
              "      <td>[positive]</td>\n",
              "      <td>[joy]</td>\n",
              "    </tr>\n",
              "    <tr>\n",
              "      <th>3</th>\n",
              "      <td>2018-07-12T11:26:37.766000</td>\n",
              "      <td>1017369635816181766</td>\n",
              "      <td>@CarloRienzi @Cristiano @juventusfc Populismo ...</td>\n",
              "      <td>it</td>\n",
              "      <td>NEUTRAL</td>\n",
              "      <td>{\"Neutral\":0.993849217891693115234375,\"Negativ...</td>\n",
              "      <td>populismo di basso spessore</td>\n",
              "      <td>[negative]</td>\n",
              "      <td>[anger]</td>\n",
              "    </tr>\n",
              "    <tr>\n",
              "      <th>4</th>\n",
              "      <td>2018-06-12T19:20:36</td>\n",
              "      <td>1006617282779451392</td>\n",
              "      <td>@OfficialASRoma @OfficialRadja @leonsfdo non c...</td>\n",
              "      <td>it</td>\n",
              "      <td>NEUTRAL</td>\n",
              "      <td>{\"Neutral\":0.87245881557464599609375,\"Negative...</td>\n",
              "      <td>non ce posso pensa’ non giochiamo  non facc...</td>\n",
              "      <td>[positive]</td>\n",
              "      <td>[anger]</td>\n",
              "    </tr>\n",
              "    <tr>\n",
              "      <th>5</th>\n",
              "      <td>2018-06-06T10:44:28</td>\n",
              "      <td>1004313065771487232</td>\n",
              "      <td>@BAILALASAMBA @Milanistiblog @ECavaniOfficial ...</td>\n",
              "      <td>it</td>\n",
              "      <td>NEUTRAL</td>\n",
              "      <td>{\"Neutral\":0.812459886074066162109375,\"Negativ...</td>\n",
              "      <td>stop altrimenti tanto vale prendere immobi...</td>\n",
              "      <td>[negative]</td>\n",
              "      <td>[anger]</td>\n",
              "    </tr>\n",
              "    <tr>\n",
              "      <th>6</th>\n",
              "      <td>2018-07-15T08:30:26.400000</td>\n",
              "      <td>1018412461836390400</td>\n",
              "      <td>@95Luk @calciomercatoit @G_Higuain È gli altri...</td>\n",
              "      <td>it</td>\n",
              "      <td>NEUTRAL</td>\n",
              "      <td>{\"Neutral\":0.849590957164764404296875,\"Negativ...</td>\n",
              "      <td>è gli altri  dove li prendi</td>\n",
              "      <td>[negative]</td>\n",
              "      <td>[anger]</td>\n",
              "    </tr>\n",
              "    <tr>\n",
              "      <th>7</th>\n",
              "      <td>2018-05-27T13:40:41</td>\n",
              "      <td>1000733532707344385</td>\n",
              "      <td>@SergioRamos non sei un cane, sei una piccola ...</td>\n",
              "      <td>it</td>\n",
              "      <td>NEUTRAL</td>\n",
              "      <td>{\"Neutral\":0.552955687046051025390625,\"Negativ...</td>\n",
              "      <td>non sei un cane sei una piccola cagna spavent...</td>\n",
              "      <td>[negative]</td>\n",
              "      <td>[anger]</td>\n",
              "    </tr>\n",
              "    <tr>\n",
              "      <th>8</th>\n",
              "      <td>2018-06-11T11:14:55</td>\n",
              "      <td>1006132664888446978</td>\n",
              "      <td>@DSportiva Ma @PauDybala_JR non si tocca.. res...</td>\n",
              "      <td>it</td>\n",
              "      <td>NEUTRAL</td>\n",
              "      <td>{\"Neutral\":0.727782666683197021484375,\"Negativ...</td>\n",
              "      <td>ma  non si tocca restasse da noi tutta la vita</td>\n",
              "      <td>[positive]</td>\n",
              "      <td>[sadness]</td>\n",
              "    </tr>\n",
              "    <tr>\n",
              "      <th>9</th>\n",
              "      <td>2018-07-11T04:38:23.376000</td>\n",
              "      <td>1016904512999653376</td>\n",
              "      <td>@antoniusromano @Cristiano @antoniusromano ma ...</td>\n",
              "      <td>it</td>\n",
              "      <td>NEUTRAL</td>\n",
              "      <td>{\"Neutral\":0.977986395359039306640625,\"Negativ...</td>\n",
              "      <td>ritornerete con il nostro canale ufficiale</td>\n",
              "      <td>[positive]</td>\n",
              "      <td>[joy]</td>\n",
              "    </tr>\n",
              "    <tr>\n",
              "      <th>10</th>\n",
              "      <td>2018-12-23T16:58:13.944000</td>\n",
              "      <td>1076884695202258944</td>\n",
              "      <td>@SpursOfficial @dele_official @HKane Sonderell...</td>\n",
              "      <td>it</td>\n",
              "      <td>NEUTRAL</td>\n",
              "      <td>{\"Neutral\":0.996479570865631103515625,\"Negativ...</td>\n",
              "      <td>sonderella</td>\n",
              "      <td>[positive]</td>\n",
              "      <td>[joy]</td>\n",
              "    </tr>\n",
              "    <tr>\n",
              "      <th>11</th>\n",
              "      <td>2018-06-30T09:10:30</td>\n",
              "      <td>1012986724002226177</td>\n",
              "      <td>@LichtsteinerSte @juventusfc Grazie di tutto,#...</td>\n",
              "      <td>it</td>\n",
              "      <td>POSITIVE</td>\n",
              "      <td>{\"Neutral\":0.4109617769718170166015625,\"Negati...</td>\n",
              "      <td>grazie di tuttosono stati  anni indimenticab...</td>\n",
              "      <td>[negative]</td>\n",
              "      <td>[sadness]</td>\n",
              "    </tr>\n",
              "    <tr>\n",
              "      <th>12</th>\n",
              "      <td>2018-12-21T10:07:03.648000</td>\n",
              "      <td>1076056447677595648</td>\n",
              "      <td>@OfficialSSLazio @Acerbi_Fra Bravi. Un'iniziat...</td>\n",
              "      <td>it</td>\n",
              "      <td>NEUTRAL</td>\n",
              "      <td>{\"Neutral\":0.733630836009979248046875,\"Negativ...</td>\n",
              "      <td>bravi uniniziativa veramente natalizia</td>\n",
              "      <td>[positive]</td>\n",
              "      <td>[joy]</td>\n",
              "    </tr>\n",
              "    <tr>\n",
              "      <th>13</th>\n",
              "      <td>2018-07-07T08:38:23.456000</td>\n",
              "      <td>1015515359703699456</td>\n",
              "      <td>Scusami @Cristiano, potresti dirci se oggi arr...</td>\n",
              "      <td>it</td>\n",
              "      <td>POSITIVE</td>\n",
              "      <td>{\"Neutral\":0.266156733036041259765625,\"Negativ...</td>\n",
              "      <td>scusami  potresti dirci se oggi arrivi torino ...</td>\n",
              "      <td>[negative]</td>\n",
              "      <td>[anger]</td>\n",
              "    </tr>\n",
              "    <tr>\n",
              "      <th>14</th>\n",
              "      <td>2018-12-19T17:15:49.209000</td>\n",
              "      <td>1075439573038174209</td>\n",
              "      <td>Ho stigmatizzato l’ingenuità di #Soriano, ma t...</td>\n",
              "      <td>it</td>\n",
              "      <td>NEUTRAL</td>\n",
              "      <td>{\"Neutral\":0.668246328830718994140625,\"Negativ...</td>\n",
              "      <td>ho stigmatizzato l’ingenuità di  trovo assurdo...</td>\n",
              "      <td>[negative]</td>\n",
              "      <td>[anger]</td>\n",
              "    </tr>\n",
              "    <tr>\n",
              "      <th>15</th>\n",
              "      <td>2018-12-26T17:21:44.776000</td>\n",
              "      <td>1077977775674400776</td>\n",
              "      <td>19: Chance! @SimoneZaza serve @gallobelotti ch...</td>\n",
              "      <td>it</td>\n",
              "      <td>NEUTRAL</td>\n",
              "      <td>{\"Neutral\":0.99951648712158203125,\"Negative\":0...</td>\n",
              "      <td>chance  serve  che elude la marcatura del dif...</td>\n",
              "      <td>[positive]</td>\n",
              "      <td>[joy]</td>\n",
              "    </tr>\n",
              "    <tr>\n",
              "      <th>16</th>\n",
              "      <td>2018-07-05T22:02:28.680000</td>\n",
              "      <td>1014992935887175680</td>\n",
              "      <td>@8110JR @mondocatena @OfficialRadja @Javi_Past...</td>\n",
              "      <td>it</td>\n",
              "      <td>NEUTRAL</td>\n",
              "      <td>{\"Neutral\":0.93537127971649169921875,\"Negative...</td>\n",
              "      <td>no assolutamente</td>\n",
              "      <td>[positive]</td>\n",
              "      <td>[joy]</td>\n",
              "    </tr>\n",
              "    <tr>\n",
              "      <th>17</th>\n",
              "      <td>2018-12-15T17:11:00.521000</td>\n",
              "      <td>1073988809874923521</td>\n",
              "      <td>@Gazzetta_it @wandaicardi27 @MauroIcardi Ma qu...</td>\n",
              "      <td>it</td>\n",
              "      <td>NEUTRAL</td>\n",
              "      <td>{\"Neutral\":0.843792021274566650390625,\"Negativ...</td>\n",
              "      <td>ma quante critiche ma smettetela vai wanda</td>\n",
              "      <td>[negative]</td>\n",
              "      <td>[anger]</td>\n",
              "    </tr>\n",
              "    <tr>\n",
              "      <th>18</th>\n",
              "      <td>2018-12-27T12:54:32.866000</td>\n",
              "      <td>1078272920043044866</td>\n",
              "      <td>@vimiele @kkoulibaly26 Con tutto il rispetto, ...</td>\n",
              "      <td>it</td>\n",
              "      <td>NEUTRAL</td>\n",
              "      <td>{\"Neutral\":0.62440550327301025390625,\"Negative...</td>\n",
              "      <td>con tutto il rispetto lo sport non può esser...</td>\n",
              "      <td>[negative]</td>\n",
              "      <td>[anger]</td>\n",
              "    </tr>\n",
              "    <tr>\n",
              "      <th>19</th>\n",
              "      <td>2018-12-25T17:52:21.459000</td>\n",
              "      <td>1077623093336723459</td>\n",
              "      <td>@Asabob20 Auguri di buon natale quaqquo ??</td>\n",
              "      <td>it</td>\n",
              "      <td>NEUTRAL</td>\n",
              "      <td>{\"Neutral\":0.937221050262451171875,\"Negative\":...</td>\n",
              "      <td>auguri di buon natale quaqquo</td>\n",
              "      <td>[positive]</td>\n",
              "      <td>[joy]</td>\n",
              "    </tr>\n",
              "  </tbody>\n",
              "</table>\n",
              "</div>"
            ],
            "text/plain": [
              "            tweet_date_created  ...  emotion_classification\n",
              "0   2018-12-10T10:45:40.865000  ...                   [joy]\n",
              "1   2018-06-30T18:41:02.817000  ...                 [anger]\n",
              "2   2018-12-26T19:40:44.308000  ...                   [joy]\n",
              "3   2018-07-12T11:26:37.766000  ...                 [anger]\n",
              "4          2018-06-12T19:20:36  ...                 [anger]\n",
              "5          2018-06-06T10:44:28  ...                 [anger]\n",
              "6   2018-07-15T08:30:26.400000  ...                 [anger]\n",
              "7          2018-05-27T13:40:41  ...                 [anger]\n",
              "8          2018-06-11T11:14:55  ...               [sadness]\n",
              "9   2018-07-11T04:38:23.376000  ...                   [joy]\n",
              "10  2018-12-23T16:58:13.944000  ...                   [joy]\n",
              "11         2018-06-30T09:10:30  ...               [sadness]\n",
              "12  2018-12-21T10:07:03.648000  ...                   [joy]\n",
              "13  2018-07-07T08:38:23.456000  ...                 [anger]\n",
              "14  2018-12-19T17:15:49.209000  ...                 [anger]\n",
              "15  2018-12-26T17:21:44.776000  ...                   [joy]\n",
              "16  2018-07-05T22:02:28.680000  ...                   [joy]\n",
              "17  2018-12-15T17:11:00.521000  ...                 [anger]\n",
              "18  2018-12-27T12:54:32.866000  ...                 [anger]\n",
              "19  2018-12-25T17:52:21.459000  ...                   [joy]\n",
              "\n",
              "[20 rows x 9 columns]"
            ]
          },
          "metadata": {
            "tags": []
          },
          "execution_count": 51
        }
      ]
    },
    {
      "cell_type": "markdown",
      "metadata": {
        "id": "QgHKC7rTVz54"
      },
      "source": [
        "# Checklist: how to classify my data\n",
        "\n",
        "1. label at ***least 2000*** tweets in your data set as `positive`, `negative`, or `neutral`\n",
        "2. preprocess the text of *all* tweets in your data (labeled and unlabeled)\n",
        "3. read in the labeled tweets and their labels\n",
        "4. transform the labels into numbers\n",
        "5. use `TfidfVectorizer` to extract the features and transform them into feature vectors\n",
        "6. select the top $N$ features (where $N$ is smaller than the number of labeled tweets)\n",
        "7. create a classifier\n",
        "8. use 5-fold CV to find the best regularization parameter, top $N$ feature selection, and maybe feature generation and preprocessing steps\n",
        "\n",
        "Once you are satisfied with the results:\n",
        "9. read in the rest of the (unlabeled) tweets\n",
        "10. use the `TfidfVectorizer` from 5. to transform the new data into vectors\n",
        "11. use the `SelectKBest` selector from 6. to get the top $N$ features\n",
        "12. use the classifier from 7. to predict the labels for the new data\n",
        "13. save the predicted labels or probabilities to your database or an Excel file\n"
      ]
    }
  ]
}